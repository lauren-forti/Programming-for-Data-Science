{
  "nbformat": 4,
  "nbformat_minor": 0,
  "metadata": {
    "colab": {
      "provenance": [],
      "toc_visible": true,
      "authorship_tag": "ABX9TyMge4LL/Z+IZwR+Ep/JYjIO",
      "include_colab_link": true
    },
    "kernelspec": {
      "display_name": "Python 3",
      "name": "python3"
    },
    "language_info": {
      "name": "python"
    }
  },
  "cells": [
    {
      "cell_type": "markdown",
      "metadata": {
        "id": "view-in-github",
        "colab_type": "text"
      },
      "source": [
        "<a href=\"https://colab.research.google.com/github/lauren-forti/Programming-for-Data-Science/blob/main/forti_final_project.ipynb\" target=\"_parent\"><img src=\"https://colab.research.google.com/assets/colab-badge.svg\" alt=\"Open In Colab\"/></a>"
      ]
    },
    {
      "cell_type": "markdown",
      "metadata": {
        "id": "OegGkW5SG7cQ"
      },
      "source": [
        "# Final Project\n",
        "# Type 3: Individual Project: Data Analysis and Modeling\n",
        "## Lauren Forti\n",
        "## 4/17/2021"
      ]
    },
    {
      "cell_type": "markdown",
      "metadata": {
        "id": "4HaqKInA11FU"
      },
      "source": [
        "# **1. Introduction**"
      ]
    },
    {
      "cell_type": "markdown",
      "metadata": {
        "id": "mXTzwC_e2tKN"
      },
      "source": [
        "## A. Background"
      ]
    },
    {
      "cell_type": "markdown",
      "metadata": {
        "id": "-MNm1G6C3EBe"
      },
      "source": [
        "It was considered taboo for women in the United States to write up until the 19th century. While the number of female American authors has exponentially increased with the rise of women's rights and feminism, the United States still has ways to go with gender equality.\n",
        "\n",
        "The purpose of this study was to analyze biases against gender and birthplace in the literary world and how they intersect. Just how far have we come and where exactly has the progress been made?\n",
        "\n",
        "[Goodreads](https://www.goodreads.com/) is a website for rating and reviewing books. The \"[goodreads books/author data](https://www.kaggle.com/brosen255/goodreads-books)\" dataset from Kaggle has author and book information for over 20,000 books. The books included are some of the most popular and highly regarded on the site.\n",
        "\n",
        "In the study, different statistics were calculated and machine learning models built and evaluated to understand the different factors that go into predicting an author's gender based on book reviews. Then whether or not being born in the U.S. influenced how U.S. Goodreads users' ratings was analyzed."
      ]
    },
    {
      "cell_type": "markdown",
      "metadata": {
        "id": "KXZqPuXe22PC"
      },
      "source": [
        "## B. Questions"
      ]
    },
    {
      "cell_type": "markdown",
      "metadata": {
        "id": "NuIC1r2UIL4i"
      },
      "source": [
        "**1. Is there a discrepancy in the ratings for male versus female authors, or are they equal?**\n",
        "\n",
        "No, the ratings are more or less equal."
      ]
    },
    {
      "cell_type": "markdown",
      "metadata": {
        "id": "pg7zhlNC3Ig3"
      },
      "source": [
        "**2. Is there a trend in readers' taste based on gender? ie Can a book's author's gender be predicted from parts of a book review? If so, which factors**\n",
        "\n",
        "Yes, according to decision tree model the major factors in predicting the author's gender are the length of the book and the popularity."
      ]
    },
    {
      "cell_type": "markdown",
      "metadata": {
        "id": "AJo3DEOgIRJ6"
      },
      "source": [
        "**3. Are these factors the same for authors born in the United States versus other countries?**\n",
        "\n",
        "For authors born in the U.S., the popularity is a major factor. For authors born outside the U.S., the only factor is the rating of the book."
      ]
    },
    {
      "cell_type": "markdown",
      "metadata": {
        "id": "q8dUiPx_2-tK"
      },
      "source": [
        "## C. Outline"
      ]
    },
    {
      "cell_type": "markdown",
      "metadata": {
        "id": "ZWColm5ar7m1"
      },
      "source": [
        "* Introduction of dataset and basic characteristics\n",
        "\n",
        "* Analysis of discrepancy for average rating per book and author between female authors vs male authors.\n",
        "\n",
        "* Analysis of structure and factors in predicting author gender via **KNN model, Decision Tree,** and **ANN model**. Grid searches are conducted to find and build the optimal models. The accuracy and confidence intervals are computed. Confusion matrices are made.\n",
        "\n",
        "* Analysis of authors born inside the U.S. via **Decision Tree** model. \n",
        "\n",
        "* Analysis of authors born outside the U.S. via **Decision Tree** model. \n",
        "\n",
        "* Plot decision surfaces for both models and discuss any differences and what this reveals about the United States' attitudes\n",
        "\n",
        "* Conclusion/Discussion of results\n",
        "\n",
        "* Appendix"
      ]
    },
    {
      "cell_type": "markdown",
      "metadata": {
        "id": "lC7Nd-Ru2Q7_"
      },
      "source": [
        "# **2. Data**"
      ]
    },
    {
      "cell_type": "markdown",
      "metadata": {
        "id": "tyDlYTngQzAq"
      },
      "source": [
        "### A. About the Dataset"
      ]
    },
    {
      "cell_type": "code",
      "metadata": {
        "colab": {
          "base_uri": "https://localhost:8080/"
        },
        "id": "s9V1dgRVwHyk",
        "outputId": "7f0ada75-ddb7-44c3-e013-7a0757d8585e"
      },
      "source": [
        "# preamble to be able to run notebooks in Colab\n",
        "from google.colab import drive\n",
        "import sys\n",
        "\n",
        "# mount the drive\n",
        "drive.mount('/content/drive', force_remount=True) \n",
        "\n",
        "# useful folders\n",
        "notes_home = \"/content/drive/Shareddrives/CSC310/ds/notes/\"\n",
        "user_home = \"/content/drive/Shareddrives/CSC310 Final/\"\n",
        "    \n",
        "# insert the notes folder into the path so we can include assets modules etc\n",
        "sys.path.insert(1,notes_home)"
      ],
      "execution_count": null,
      "outputs": [
        {
          "output_type": "stream",
          "text": [
            "Mounted at /content/drive\n"
          ],
          "name": "stdout"
        }
      ]
    },
    {
      "cell_type": "code",
      "metadata": {
        "id": "gp9Npdloc1I6"
      },
      "source": [
        "import pandas as pd\n",
        "import seaborn as sns\n",
        "import numpy as np\n",
        "import matplotlib.pyplot as plt\n",
        "import regex as re"
      ],
      "execution_count": null,
      "outputs": []
    },
    {
      "cell_type": "code",
      "metadata": {
        "colab": {
          "base_uri": "https://localhost:8080/",
          "height": 787
        },
        "id": "uW1is_3Nc3EA",
        "outputId": "b0a3dc6e-ce0d-4d16-d8fa-d838a7843a8c"
      },
      "source": [
        "# get data\n",
        "df = pd.read_csv(\"/content/drive/Shareddrives/CSC310 Final/good_reads_final.csv\")\n",
        "\n",
        "# visually inspect first ten rows of DataFrame\n",
        "df.head(n=10)"
      ],
      "execution_count": null,
      "outputs": [
        {
          "output_type": "execute_result",
          "data": {
            "text/html": [
              "<div>\n",
              "<style scoped>\n",
              "    .dataframe tbody tr th:only-of-type {\n",
              "        vertical-align: middle;\n",
              "    }\n",
              "\n",
              "    .dataframe tbody tr th {\n",
              "        vertical-align: top;\n",
              "    }\n",
              "\n",
              "    .dataframe thead th {\n",
              "        text-align: right;\n",
              "    }\n",
              "</style>\n",
              "<table border=\"1\" class=\"dataframe\">\n",
              "  <thead>\n",
              "    <tr style=\"text-align: right;\">\n",
              "      <th></th>\n",
              "      <th>author_average_rating</th>\n",
              "      <th>author_gender</th>\n",
              "      <th>author_genres</th>\n",
              "      <th>author_id</th>\n",
              "      <th>author_name</th>\n",
              "      <th>author_page_url</th>\n",
              "      <th>author_rating_count</th>\n",
              "      <th>author_review_count</th>\n",
              "      <th>birthplace</th>\n",
              "      <th>book_average_rating</th>\n",
              "      <th>book_fullurl</th>\n",
              "      <th>book_id</th>\n",
              "      <th>book_title</th>\n",
              "      <th>genre_1</th>\n",
              "      <th>genre_2</th>\n",
              "      <th>num_ratings</th>\n",
              "      <th>num_reviews</th>\n",
              "      <th>pages</th>\n",
              "      <th>publish_date</th>\n",
              "      <th>score</th>\n",
              "    </tr>\n",
              "  </thead>\n",
              "  <tbody>\n",
              "    <tr>\n",
              "      <th>0</th>\n",
              "      <td>4.01</td>\n",
              "      <td>female</td>\n",
              "      <td>historical-fiction,</td>\n",
              "      <td>74489</td>\n",
              "      <td>Victoria Thompson\\n</td>\n",
              "      <td>/author/show/74489.Victoria_Thompson</td>\n",
              "      <td>74399</td>\n",
              "      <td>6268</td>\n",
              "      <td>United States\\n</td>\n",
              "      <td>4.02</td>\n",
              "      <td>https://www.goodreads.com/book/show/686717.Mur...</td>\n",
              "      <td>686717</td>\n",
              "      <td>\\n      Murder on St. Mark's Place\\n</td>\n",
              "      <td>Mystery</td>\n",
              "      <td>Historical</td>\n",
              "      <td>5260</td>\n",
              "      <td>375</td>\n",
              "      <td>277</td>\n",
              "      <td>2000</td>\n",
              "      <td>3230</td>\n",
              "    </tr>\n",
              "    <tr>\n",
              "      <th>1</th>\n",
              "      <td>4.15</td>\n",
              "      <td>male</td>\n",
              "      <td>literature-fiction,mystery-thrillers,</td>\n",
              "      <td>706255</td>\n",
              "      <td>Stieg Larsson\\n</td>\n",
              "      <td>/author/show/706255.Stieg_Larsson</td>\n",
              "      <td>3726435</td>\n",
              "      <td>142704</td>\n",
              "      <td>Sweden\\n</td>\n",
              "      <td>4.13</td>\n",
              "      <td>https://www.goodreads.com/book/show/2429135.Th...</td>\n",
              "      <td>2429135</td>\n",
              "      <td>\\n      The Girl with the Dragon Tattoo\\n</td>\n",
              "      <td>Fiction</td>\n",
              "      <td>Mystery</td>\n",
              "      <td>2229163</td>\n",
              "      <td>65227</td>\n",
              "      <td>465</td>\n",
              "      <td>August 2005</td>\n",
              "      <td>3062</td>\n",
              "    </tr>\n",
              "    <tr>\n",
              "      <th>2</th>\n",
              "      <td>4.00</td>\n",
              "      <td>female</td>\n",
              "      <td>romance,</td>\n",
              "      <td>5618190</td>\n",
              "      <td>Mimi Jean Pamfiloff\\n</td>\n",
              "      <td>/author/show/5618190.Mimi_Jean_Pamfiloff</td>\n",
              "      <td>76496</td>\n",
              "      <td>7975</td>\n",
              "      <td>United States\\n</td>\n",
              "      <td>3.99</td>\n",
              "      <td>https://www.goodreads.com/book/show/27833684-t...</td>\n",
              "      <td>27833684</td>\n",
              "      <td>\\n      Tailored for Trouble\\n</td>\n",
              "      <td>Romance</td>\n",
              "      <td>Contemporary</td>\n",
              "      <td>2151</td>\n",
              "      <td>391</td>\n",
              "      <td>354</td>\n",
              "      <td>2016</td>\n",
              "      <td>4585</td>\n",
              "    </tr>\n",
              "    <tr>\n",
              "      <th>3</th>\n",
              "      <td>3.88</td>\n",
              "      <td>male</td>\n",
              "      <td>fiction,memoir,</td>\n",
              "      <td>37871</td>\n",
              "      <td>José Donoso\\n</td>\n",
              "      <td>/author/show/37871.Jos_Donoso</td>\n",
              "      <td>5522</td>\n",
              "      <td>489</td>\n",
              "      <td>Chile\\n</td>\n",
              "      <td>4.14</td>\n",
              "      <td>https://www.goodreads.com/book/show/382975.The...</td>\n",
              "      <td>382975</td>\n",
              "      <td>\\n      The Obscene Bird of Night\\n</td>\n",
              "      <td>Fiction</td>\n",
              "      <td>Magical Realism</td>\n",
              "      <td>1844</td>\n",
              "      <td>173</td>\n",
              "      <td>438</td>\n",
              "      <td>1970</td>\n",
              "      <td>1533</td>\n",
              "    </tr>\n",
              "    <tr>\n",
              "      <th>4</th>\n",
              "      <td>4.10</td>\n",
              "      <td>female</td>\n",
              "      <td>young-adult,fantasy,</td>\n",
              "      <td>36122</td>\n",
              "      <td>Patricia C. Wrede\\n</td>\n",
              "      <td>/author/show/36122.Patricia_C_Wrede</td>\n",
              "      <td>291013</td>\n",
              "      <td>13453</td>\n",
              "      <td>United States\\n</td>\n",
              "      <td>4.01</td>\n",
              "      <td>https://www.goodreads.com/book/show/64207.Sorc...</td>\n",
              "      <td>64207</td>\n",
              "      <td>\\n      Sorcery &amp; Cecelia: or The Enchanted Ch...</td>\n",
              "      <td>Fantasy</td>\n",
              "      <td>Young Adult</td>\n",
              "      <td>17051</td>\n",
              "      <td>1890</td>\n",
              "      <td>326</td>\n",
              "      <td>April 15th 1988</td>\n",
              "      <td>2105</td>\n",
              "    </tr>\n",
              "    <tr>\n",
              "      <th>5</th>\n",
              "      <td>3.77</td>\n",
              "      <td>male</td>\n",
              "      <td>horror,</td>\n",
              "      <td>58947</td>\n",
              "      <td>Steve Niles\\n</td>\n",
              "      <td>/author/show/58947.Steve_Niles</td>\n",
              "      <td>47938</td>\n",
              "      <td>3240</td>\n",
              "      <td>United States\\n</td>\n",
              "      <td>3.80</td>\n",
              "      <td>https://www.goodreads.com/book/show/831829.30_...</td>\n",
              "      <td>831829</td>\n",
              "      <td>\\n      30 Days of Night, Vol. 1\\n</td>\n",
              "      <td>Sequential Art</td>\n",
              "      <td>Sequential Art</td>\n",
              "      <td>17122</td>\n",
              "      <td>561</td>\n",
              "      <td>104</td>\n",
              "      <td>January 10th 2004</td>\n",
              "      <td>4372</td>\n",
              "    </tr>\n",
              "    <tr>\n",
              "      <th>6</th>\n",
              "      <td>4.16</td>\n",
              "      <td>female</td>\n",
              "      <td>romance,</td>\n",
              "      <td>4833990</td>\n",
              "      <td>Jillian Dodd\\n</td>\n",
              "      <td>/author/show/4833990.Jillian_Dodd</td>\n",
              "      <td>110522</td>\n",
              "      <td>9451</td>\n",
              "      <td>\\n</td>\n",
              "      <td>3.95</td>\n",
              "      <td>https://www.goodreads.com/book/show/34804503-s...</td>\n",
              "      <td>34804503</td>\n",
              "      <td>\\n      Stalk Me\\n</td>\n",
              "      <td>Young Adult</td>\n",
              "      <td>Romance</td>\n",
              "      <td>11684</td>\n",
              "      <td>1107</td>\n",
              "      <td>327</td>\n",
              "      <td>August 20th 2012</td>\n",
              "      <td>2396</td>\n",
              "    </tr>\n",
              "    <tr>\n",
              "      <th>7</th>\n",
              "      <td>3.94</td>\n",
              "      <td>female</td>\n",
              "      <td>nonfiction,</td>\n",
              "      <td>7956</td>\n",
              "      <td>Mary Roach\\n</td>\n",
              "      <td>/author/show/7956.Mary_Roach</td>\n",
              "      <td>321197</td>\n",
              "      <td>29747</td>\n",
              "      <td>United States\\n</td>\n",
              "      <td>3.84</td>\n",
              "      <td>https://www.goodreads.com/book/show/5981308-bonk</td>\n",
              "      <td>5981308</td>\n",
              "      <td>\\n      Bonk: The Curious Coupling of Science ...</td>\n",
              "      <td>Nonfiction</td>\n",
              "      <td>Science</td>\n",
              "      <td>45963</td>\n",
              "      <td>4268</td>\n",
              "      <td>319</td>\n",
              "      <td>2008</td>\n",
              "      <td>2054</td>\n",
              "    </tr>\n",
              "    <tr>\n",
              "      <th>8</th>\n",
              "      <td>3.78</td>\n",
              "      <td>female</td>\n",
              "      <td>fantasy,</td>\n",
              "      <td>155651</td>\n",
              "      <td>Nancy Baker\\n</td>\n",
              "      <td>/author/show/155651.Nancy_Baker</td>\n",
              "      <td>1019</td>\n",
              "      <td>104</td>\n",
              "      <td>\\n  Canada\\n</td>\n",
              "      <td>3.77</td>\n",
              "      <td>https://www.goodreads.com/book/show/266600.Kis...</td>\n",
              "      <td>266600</td>\n",
              "      <td>\\n      Kiss of the Vampire\\n</td>\n",
              "      <td>Paranormal</td>\n",
              "      <td>Horror</td>\n",
              "      <td>594</td>\n",
              "      <td>42</td>\n",
              "      <td>278</td>\n",
              "      <td>January 1st 1993</td>\n",
              "      <td>1311</td>\n",
              "    </tr>\n",
              "    <tr>\n",
              "      <th>9</th>\n",
              "      <td>4.08</td>\n",
              "      <td>female</td>\n",
              "      <td>young-adult,</td>\n",
              "      <td>274533</td>\n",
              "      <td>Simone Elkeles\\n</td>\n",
              "      <td>/author/show/274533.Simone_Elkeles</td>\n",
              "      <td>481114</td>\n",
              "      <td>25166</td>\n",
              "      <td>United States\\n</td>\n",
              "      <td>4.01</td>\n",
              "      <td>https://www.goodreads.com/book/show/544424.Lea...</td>\n",
              "      <td>544424</td>\n",
              "      <td>\\n      Leaving Paradise\\n</td>\n",
              "      <td>Young Adult</td>\n",
              "      <td>Romance</td>\n",
              "      <td>40093</td>\n",
              "      <td>2375</td>\n",
              "      <td>303</td>\n",
              "      <td>April 1st 2007</td>\n",
              "      <td>1994</td>\n",
              "    </tr>\n",
              "  </tbody>\n",
              "</table>\n",
              "</div>"
            ],
            "text/plain": [
              "   author_average_rating author_gender  ...       publish_date  score\n",
              "0                   4.01        female  ...               2000   3230\n",
              "1                   4.15          male  ...        August 2005   3062\n",
              "2                   4.00        female  ...               2016   4585\n",
              "3                   3.88          male  ...               1970   1533\n",
              "4                   4.10        female  ...    April 15th 1988   2105\n",
              "5                   3.77          male  ...  January 10th 2004   4372\n",
              "6                   4.16        female  ...   August 20th 2012   2396\n",
              "7                   3.94        female  ...               2008   2054\n",
              "8                   3.78        female  ...   January 1st 1993   1311\n",
              "9                   4.08        female  ...     April 1st 2007   1994\n",
              "\n",
              "[10 rows x 20 columns]"
            ]
          },
          "metadata": {
            "tags": []
          },
          "execution_count": 250
        }
      ]
    },
    {
      "cell_type": "markdown",
      "metadata": {
        "id": "iLFilIXlJBH7"
      },
      "source": [
        "The data was cleaned by removing extraneous columns, dropping duplicates, and standardizing columns. The original dataset was sampled down to 10%."
      ]
    },
    {
      "cell_type": "code",
      "metadata": {
        "colab": {
          "base_uri": "https://localhost:8080/",
          "height": 634
        },
        "id": "W0BbP7hxN23T",
        "outputId": "f0723f24-f2ac-418b-9835-ca64d0778d2b"
      },
      "source": [
        "# get rid of extraneous columns\n",
        "df2 = df.drop(['author_id', 'author_page_url', 'book_fullurl', 'book_id', 'publish_date', 'author_genres', 'score'], axis = 1)\n",
        "\n",
        "# drop duplicates\n",
        "df2 = df2.drop_duplicates()\n",
        "\n",
        "# remove \"\\n\" from select columns and standardize birthplace\n",
        "df2['author_name'] = df2['author_name'].str.replace(r'\\n','')\n",
        "df2['book_title'] = df2['book_title'].str.replace(r'\\n','')\n",
        "df2['birthplace'] = df2['birthplace'].str.replace(r'[^a-zA-Z0-9]\\n?','').str.strip()\n",
        "df2['genre_2'] = df2['genre_2'].str.replace(r'See top shelves…', '')\n",
        "\n",
        "# standardize pages column and convert to numerical data\n",
        "df2['pages'] = df2['pages'].str.replace('[A-Za-z]', '')\n",
        "df2['pages'] = pd.to_numeric(df2['pages'])\n",
        "\n",
        "# sample 10% of data and renumber index\n",
        "# initially df2 = df2.sample(frac=.1, random_state = 1, replace=True).reset_index(drop=True) was used\n",
        "# but for the sake of consistency in the report numbers and discussion \"replace\" has been removed\n",
        "df2 = df2.sample(frac=.1, random_state = 3).reset_index(drop=True)\n",
        "\n",
        "# output first ten rows\n",
        "df2.head(n=10)"
      ],
      "execution_count": null,
      "outputs": [
        {
          "output_type": "execute_result",
          "data": {
            "text/html": [
              "<div>\n",
              "<style scoped>\n",
              "    .dataframe tbody tr th:only-of-type {\n",
              "        vertical-align: middle;\n",
              "    }\n",
              "\n",
              "    .dataframe tbody tr th {\n",
              "        vertical-align: top;\n",
              "    }\n",
              "\n",
              "    .dataframe thead th {\n",
              "        text-align: right;\n",
              "    }\n",
              "</style>\n",
              "<table border=\"1\" class=\"dataframe\">\n",
              "  <thead>\n",
              "    <tr style=\"text-align: right;\">\n",
              "      <th></th>\n",
              "      <th>author_average_rating</th>\n",
              "      <th>author_gender</th>\n",
              "      <th>author_name</th>\n",
              "      <th>author_rating_count</th>\n",
              "      <th>author_review_count</th>\n",
              "      <th>birthplace</th>\n",
              "      <th>book_average_rating</th>\n",
              "      <th>book_title</th>\n",
              "      <th>genre_1</th>\n",
              "      <th>genre_2</th>\n",
              "      <th>num_ratings</th>\n",
              "      <th>num_reviews</th>\n",
              "      <th>pages</th>\n",
              "    </tr>\n",
              "  </thead>\n",
              "  <tbody>\n",
              "    <tr>\n",
              "      <th>0</th>\n",
              "      <td>4.04</td>\n",
              "      <td>male</td>\n",
              "      <td>M. Scott Peck</td>\n",
              "      <td>92903</td>\n",
              "      <td>2972</td>\n",
              "      <td>UnitedStates</td>\n",
              "      <td>4.05</td>\n",
              "      <td>The Road Less Traveled: A New Psychology...</td>\n",
              "      <td>Psychology</td>\n",
              "      <td>Nonfiction</td>\n",
              "      <td>74344</td>\n",
              "      <td>1982</td>\n",
              "      <td>316</td>\n",
              "    </tr>\n",
              "    <tr>\n",
              "      <th>1</th>\n",
              "      <td>3.69</td>\n",
              "      <td>male</td>\n",
              "      <td>Megan Hart</td>\n",
              "      <td>86295</td>\n",
              "      <td>9537</td>\n",
              "      <td></td>\n",
              "      <td>3.93</td>\n",
              "      <td>Broken</td>\n",
              "      <td>Adult Fiction</td>\n",
              "      <td>Romance</td>\n",
              "      <td>9368</td>\n",
              "      <td>920</td>\n",
              "      <td>384</td>\n",
              "    </tr>\n",
              "    <tr>\n",
              "      <th>2</th>\n",
              "      <td>4.14</td>\n",
              "      <td>male</td>\n",
              "      <td>Susan May Warren</td>\n",
              "      <td>52767</td>\n",
              "      <td>6708</td>\n",
              "      <td></td>\n",
              "      <td>3.74</td>\n",
              "      <td>Heiress</td>\n",
              "      <td>Christian Fiction</td>\n",
              "      <td>Historical</td>\n",
              "      <td>1793</td>\n",
              "      <td>224</td>\n",
              "      <td>368</td>\n",
              "    </tr>\n",
              "    <tr>\n",
              "      <th>3</th>\n",
              "      <td>4.25</td>\n",
              "      <td>female</td>\n",
              "      <td>Cherise Sinclair</td>\n",
              "      <td>223455</td>\n",
              "      <td>12896</td>\n",
              "      <td>UnitedStates</td>\n",
              "      <td>4.40</td>\n",
              "      <td>To Command and Collar</td>\n",
              "      <td>Erotica</td>\n",
              "      <td>Adult Fiction</td>\n",
              "      <td>12543</td>\n",
              "      <td>626</td>\n",
              "      <td>341</td>\n",
              "    </tr>\n",
              "    <tr>\n",
              "      <th>4</th>\n",
              "      <td>3.96</td>\n",
              "      <td>female</td>\n",
              "      <td>Ruth Ozeki</td>\n",
              "      <td>90707</td>\n",
              "      <td>12045</td>\n",
              "      <td>UnitedStates</td>\n",
              "      <td>3.79</td>\n",
              "      <td>All Over Creation</td>\n",
              "      <td>Fiction</td>\n",
              "      <td>Food and Drink</td>\n",
              "      <td>4580</td>\n",
              "      <td>609</td>\n",
              "      <td>432</td>\n",
              "    </tr>\n",
              "    <tr>\n",
              "      <th>5</th>\n",
              "      <td>4.43</td>\n",
              "      <td>male</td>\n",
              "      <td>Hajime Isayama</td>\n",
              "      <td>297154</td>\n",
              "      <td>9213</td>\n",
              "      <td>Japan</td>\n",
              "      <td>4.52</td>\n",
              "      <td>Attack on Titan: No Regrets, Volume 01</td>\n",
              "      <td>Sequential Art</td>\n",
              "      <td>Sequential Art</td>\n",
              "      <td>10035</td>\n",
              "      <td>238</td>\n",
              "      <td>192</td>\n",
              "    </tr>\n",
              "    <tr>\n",
              "      <th>6</th>\n",
              "      <td>3.97</td>\n",
              "      <td>male</td>\n",
              "      <td>Jeffrey Eugenides</td>\n",
              "      <td>1555682</td>\n",
              "      <td>57984</td>\n",
              "      <td>UnitedStates</td>\n",
              "      <td>3.84</td>\n",
              "      <td>The Virgin Suicides</td>\n",
              "      <td>Fiction</td>\n",
              "      <td>Contemporary</td>\n",
              "      <td>208261</td>\n",
              "      <td>8427</td>\n",
              "      <td>260</td>\n",
              "    </tr>\n",
              "    <tr>\n",
              "      <th>7</th>\n",
              "      <td>4.34</td>\n",
              "      <td>male</td>\n",
              "      <td>Paul Aertker</td>\n",
              "      <td>386</td>\n",
              "      <td>49</td>\n",
              "      <td>UnitedStates</td>\n",
              "      <td>4.20</td>\n",
              "      <td>Brainwashed</td>\n",
              "      <td>Mystery</td>\n",
              "      <td>Young Adult</td>\n",
              "      <td>244</td>\n",
              "      <td>25</td>\n",
              "      <td>308</td>\n",
              "    </tr>\n",
              "    <tr>\n",
              "      <th>8</th>\n",
              "      <td>4.03</td>\n",
              "      <td>male</td>\n",
              "      <td>Elliot Aronson</td>\n",
              "      <td>23786</td>\n",
              "      <td>1086</td>\n",
              "      <td>UnitedStates</td>\n",
              "      <td>4.25</td>\n",
              "      <td>The Social Animal</td>\n",
              "      <td>Psychology</td>\n",
              "      <td>Nonfiction</td>\n",
              "      <td>2629</td>\n",
              "      <td>124</td>\n",
              "      <td>512</td>\n",
              "    </tr>\n",
              "    <tr>\n",
              "      <th>9</th>\n",
              "      <td>4.27</td>\n",
              "      <td>male</td>\n",
              "      <td>Tite Kubo</td>\n",
              "      <td>443883</td>\n",
              "      <td>5580</td>\n",
              "      <td>Japan</td>\n",
              "      <td>4.22</td>\n",
              "      <td>Bleach, Volume 01</td>\n",
              "      <td>Sequential Art</td>\n",
              "      <td>Fantasy</td>\n",
              "      <td>135567</td>\n",
              "      <td>1037</td>\n",
              "      <td>200</td>\n",
              "    </tr>\n",
              "  </tbody>\n",
              "</table>\n",
              "</div>"
            ],
            "text/plain": [
              "   author_average_rating author_gender  ... num_reviews  pages\n",
              "0                   4.04          male  ...        1982    316\n",
              "1                   3.69          male  ...         920    384\n",
              "2                   4.14          male  ...         224    368\n",
              "3                   4.25        female  ...         626    341\n",
              "4                   3.96        female  ...         609    432\n",
              "5                   4.43          male  ...         238    192\n",
              "6                   3.97          male  ...        8427    260\n",
              "7                   4.34          male  ...          25    308\n",
              "8                   4.03          male  ...         124    512\n",
              "9                   4.27          male  ...        1037    200\n",
              "\n",
              "[10 rows x 13 columns]"
            ]
          },
          "metadata": {
            "tags": []
          },
          "execution_count": 251
        }
      ]
    },
    {
      "cell_type": "code",
      "metadata": {
        "colab": {
          "base_uri": "https://localhost:8080/"
        },
        "id": "FFVzOvSwf-Jv",
        "outputId": "7edc6b42-556b-474d-89d1-dd8bfa2b9ad0"
      },
      "source": [
        "# get # of rows in DataFrame\n",
        "df2.shape[0]"
      ],
      "execution_count": null,
      "outputs": [
        {
          "output_type": "execute_result",
          "data": {
            "text/plain": [
              "2124"
            ]
          },
          "metadata": {
            "tags": []
          },
          "execution_count": 252
        }
      ]
    },
    {
      "cell_type": "code",
      "metadata": {
        "colab": {
          "base_uri": "https://localhost:8080/"
        },
        "id": "d-ia1SjwJKab",
        "outputId": "93d7f701-a72b-4c43-a97e-2768e7fbf8b9"
      },
      "source": [
        "# get # of columns in DataFrame\n",
        "df2.shape[1]"
      ],
      "execution_count": null,
      "outputs": [
        {
          "output_type": "execute_result",
          "data": {
            "text/plain": [
              "13"
            ]
          },
          "metadata": {
            "tags": []
          },
          "execution_count": 253
        }
      ]
    },
    {
      "cell_type": "markdown",
      "metadata": {
        "id": "GCCDmytXJS2i"
      },
      "source": [
        "There are 2,124 rows and 13 columns in the dataset after cleaning."
      ]
    },
    {
      "cell_type": "code",
      "metadata": {
        "id": "41I3xw5Fex_2"
      },
      "source": [
        "# isolate independent variables\n",
        "X = df2.drop(['author_gender'], axis = 1)\n",
        "\n",
        "# isolate dependent variable\n",
        "y = pd.DataFrame(df2['author_gender'])"
      ],
      "execution_count": null,
      "outputs": []
    },
    {
      "cell_type": "markdown",
      "metadata": {
        "id": "6LAE-_-RNSJv"
      },
      "source": [
        "### B. Target Variable"
      ]
    },
    {
      "cell_type": "markdown",
      "metadata": {
        "id": "VKtwSdUzG73Z"
      },
      "source": [
        "The target variable will be **author_gender**"
      ]
    },
    {
      "cell_type": "code",
      "metadata": {
        "colab": {
          "base_uri": "https://localhost:8080/"
        },
        "id": "ijOyHRsxQpfV",
        "outputId": "c8014c0d-4509-4da2-f9cb-fcd249405531"
      },
      "source": [
        "y['author_gender'].value_counts()"
      ],
      "execution_count": null,
      "outputs": [
        {
          "output_type": "execute_result",
          "data": {
            "text/plain": [
              "male      1173\n",
              "female     951\n",
              "Name: author_gender, dtype: int64"
            ]
          },
          "metadata": {
            "tags": []
          },
          "execution_count": 255
        }
      ]
    },
    {
      "cell_type": "code",
      "metadata": {
        "colab": {
          "base_uri": "https://localhost:8080/",
          "height": 307
        },
        "id": "Aji2tox7NS3F",
        "outputId": "2e1d0f3b-c4d8-44e3-ffc4-dbea920230a9"
      },
      "source": [
        "# plot bar chart of labels\n",
        "y['author_gender'].value_counts().plot.bar()"
      ],
      "execution_count": null,
      "outputs": [
        {
          "output_type": "execute_result",
          "data": {
            "text/plain": [
              "<matplotlib.axes._subplots.AxesSubplot at 0x7f1165155550>"
            ]
          },
          "metadata": {
            "tags": []
          },
          "execution_count": 256
        },
        {
          "output_type": "display_data",
          "data": {
            "image/png": "[encoded data removed]",
            "text/plain": [
              "<Figure size 432x288 with 1 Axes>"
            ]
          },
          "metadata": {
            "tags": [],
            "needs_background": "light"
          }
        }
      ]
    },
    {
      "cell_type": "code",
      "metadata": {
        "colab": {
          "base_uri": "https://localhost:8080/",
          "height": 265
        },
        "id": "BW4U6RApQffA",
        "outputId": "65c6c873-2bae-4082-ec3e-a3b0d637400e"
      },
      "source": [
        "# plot pie chart of labels\n",
        "plot_series = y['author_gender'].rename('')\n",
        "plot_series.rename('').value_counts().plot.pie()"
      ],
      "execution_count": null,
      "outputs": [
        {
          "output_type": "execute_result",
          "data": {
            "text/plain": [
              "<matplotlib.axes._subplots.AxesSubplot at 0x7f116532ac90>"
            ]
          },
          "metadata": {
            "tags": []
          },
          "execution_count": 257
        },
        {
          "output_type": "display_data",
          "data": {
            "image/png": "[encoded data removed]",
            "text/plain": [
              "<Figure size 432x288 with 1 Axes>"
            ]
          },
          "metadata": {
            "tags": []
          }
        }
      ]
    },
    {
      "cell_type": "markdown",
      "metadata": {
        "id": "jaZEVWSItQdU"
      },
      "source": [
        "The target variable is decently balanced."
      ]
    },
    {
      "cell_type": "markdown",
      "metadata": {
        "id": "q_nYbfvwRIEO"
      },
      "source": [
        "### C. Independent Variables"
      ]
    },
    {
      "cell_type": "code",
      "metadata": {
        "colab": {
          "base_uri": "https://localhost:8080/",
          "height": 297
        },
        "id": "_YD3lQZXInNO",
        "outputId": "b048735c-7913-4fda-e49f-59a14937a0d1"
      },
      "source": [
        "# get basic summary statistics of independent variables\n",
        "X.describe()"
      ],
      "execution_count": null,
      "outputs": [
        {
          "output_type": "execute_result",
          "data": {
            "text/html": [
              "<div>\n",
              "<style scoped>\n",
              "    .dataframe tbody tr th:only-of-type {\n",
              "        vertical-align: middle;\n",
              "    }\n",
              "\n",
              "    .dataframe tbody tr th {\n",
              "        vertical-align: top;\n",
              "    }\n",
              "\n",
              "    .dataframe thead th {\n",
              "        text-align: right;\n",
              "    }\n",
              "</style>\n",
              "<table border=\"1\" class=\"dataframe\">\n",
              "  <thead>\n",
              "    <tr style=\"text-align: right;\">\n",
              "      <th></th>\n",
              "      <th>author_average_rating</th>\n",
              "      <th>author_rating_count</th>\n",
              "      <th>author_review_count</th>\n",
              "      <th>book_average_rating</th>\n",
              "      <th>num_ratings</th>\n",
              "      <th>num_reviews</th>\n",
              "      <th>pages</th>\n",
              "    </tr>\n",
              "  </thead>\n",
              "  <tbody>\n",
              "    <tr>\n",
              "      <th>count</th>\n",
              "      <td>2124.000000</td>\n",
              "      <td>2.124000e+03</td>\n",
              "      <td>2124.000000</td>\n",
              "      <td>2124.000000</td>\n",
              "      <td>2.124000e+03</td>\n",
              "      <td>2124.00000</td>\n",
              "      <td>2124.000000</td>\n",
              "    </tr>\n",
              "    <tr>\n",
              "      <th>mean</th>\n",
              "      <td>3.961153</td>\n",
              "      <td>1.697299e+05</td>\n",
              "      <td>9077.148305</td>\n",
              "      <td>3.954647</td>\n",
              "      <td>4.551863e+04</td>\n",
              "      <td>2240.84322</td>\n",
              "      <td>332.572505</td>\n",
              "    </tr>\n",
              "    <tr>\n",
              "      <th>std</th>\n",
              "      <td>0.234349</td>\n",
              "      <td>5.067468e+05</td>\n",
              "      <td>21442.079842</td>\n",
              "      <td>0.292106</td>\n",
              "      <td>1.602567e+05</td>\n",
              "      <td>6448.04298</td>\n",
              "      <td>244.285463</td>\n",
              "    </tr>\n",
              "    <tr>\n",
              "      <th>min</th>\n",
              "      <td>2.890000</td>\n",
              "      <td>1.000000e+01</td>\n",
              "      <td>1.000000</td>\n",
              "      <td>2.370000</td>\n",
              "      <td>5.000000e+00</td>\n",
              "      <td>0.00000</td>\n",
              "      <td>3.000000</td>\n",
              "    </tr>\n",
              "    <tr>\n",
              "      <th>25%</th>\n",
              "      <td>3.820000</td>\n",
              "      <td>5.026750e+03</td>\n",
              "      <td>578.750000</td>\n",
              "      <td>3.780000</td>\n",
              "      <td>8.992500e+02</td>\n",
              "      <td>108.00000</td>\n",
              "      <td>237.000000</td>\n",
              "    </tr>\n",
              "    <tr>\n",
              "      <th>50%</th>\n",
              "      <td>3.960000</td>\n",
              "      <td>2.605300e+04</td>\n",
              "      <td>2277.000000</td>\n",
              "      <td>3.960000</td>\n",
              "      <td>4.427000e+03</td>\n",
              "      <td>373.50000</td>\n",
              "      <td>313.000000</td>\n",
              "    </tr>\n",
              "    <tr>\n",
              "      <th>75%</th>\n",
              "      <td>4.120000</td>\n",
              "      <td>1.143800e+05</td>\n",
              "      <td>8078.500000</td>\n",
              "      <td>4.150000</td>\n",
              "      <td>2.035475e+04</td>\n",
              "      <td>1498.25000</td>\n",
              "      <td>384.000000</td>\n",
              "    </tr>\n",
              "    <tr>\n",
              "      <th>max</th>\n",
              "      <td>5.000000</td>\n",
              "      <td>7.062081e+06</td>\n",
              "      <td>323074.000000</td>\n",
              "      <td>5.000000</td>\n",
              "      <td>2.504334e+06</td>\n",
              "      <td>102194.00000</td>\n",
              "      <td>4736.000000</td>\n",
              "    </tr>\n",
              "  </tbody>\n",
              "</table>\n",
              "</div>"
            ],
            "text/plain": [
              "       author_average_rating  author_rating_count  ...   num_reviews        pages\n",
              "count            2124.000000         2.124000e+03  ...    2124.00000  2124.000000\n",
              "mean                3.961153         1.697299e+05  ...    2240.84322   332.572505\n",
              "std                 0.234349         5.067468e+05  ...    6448.04298   244.285463\n",
              "min                 2.890000         1.000000e+01  ...       0.00000     3.000000\n",
              "25%                 3.820000         5.026750e+03  ...     108.00000   237.000000\n",
              "50%                 3.960000         2.605300e+04  ...     373.50000   313.000000\n",
              "75%                 4.120000         1.143800e+05  ...    1498.25000   384.000000\n",
              "max                 5.000000         7.062081e+06  ...  102194.00000  4736.000000\n",
              "\n",
              "[8 rows x 7 columns]"
            ]
          },
          "metadata": {
            "tags": []
          },
          "execution_count": 258
        }
      ]
    },
    {
      "cell_type": "markdown",
      "metadata": {
        "id": "zDgo5ufQRScF"
      },
      "source": [
        "Out of the 13 variables, 8 are numeric and 6 are categorical.\n",
        "\n",
        "**Numeric:**\n",
        "* author_average_rating (0 - 5)\n",
        "* author_rating_count\n",
        "* author_review_count\n",
        "* book_average_rating (0 - 5)\n",
        "* num_ratings\n",
        "* num_reviews\n",
        "* pages\n",
        "\n",
        "**Categorical:**\n",
        "* author_name\n",
        "* birthplace\n",
        "* book_title\n",
        "* genre_1\n",
        "* genre_2\n",
        "\n"
      ]
    },
    {
      "cell_type": "markdown",
      "metadata": {
        "id": "Zo13ZKk5eJMO"
      },
      "source": [
        "### D. Basic Summary Statistics in the form of histograms and bar graphs"
      ]
    },
    {
      "cell_type": "code",
      "metadata": {
        "colab": {
          "base_uri": "https://localhost:8080/",
          "height": 451
        },
        "id": "u5Hg6B4gebFD",
        "outputId": "2a3fc485-4c91-4d08-dee4-418f6775ad1e"
      },
      "source": [
        "# make histograms of all independent variables\n",
        "X.hist()"
      ],
      "execution_count": null,
      "outputs": [
        {
          "output_type": "execute_result",
          "data": {
            "text/plain": [
              "array([[<matplotlib.axes._subplots.AxesSubplot object at 0x7f116535acd0>,\n",
              "        <matplotlib.axes._subplots.AxesSubplot object at 0x7f11653a6c90>,\n",
              "        <matplotlib.axes._subplots.AxesSubplot object at 0x7f11653ee9d0>],\n",
              "       [<matplotlib.axes._subplots.AxesSubplot object at 0x7f1165434b10>,\n",
              "        <matplotlib.axes._subplots.AxesSubplot object at 0x7f116514fb50>,\n",
              "        <matplotlib.axes._subplots.AxesSubplot object at 0x7f1165148810>],\n",
              "       [<matplotlib.axes._subplots.AxesSubplot object at 0x7f1165141410>,\n",
              "        <matplotlib.axes._subplots.AxesSubplot object at 0x7f11651ba610>,\n",
              "        <matplotlib.axes._subplots.AxesSubplot object at 0x7f11651ba850>]],\n",
              "      dtype=object)"
            ]
          },
          "metadata": {
            "tags": []
          },
          "execution_count": 259
        },
        {
          "output_type": "display_data",
          "data": {
            "image/png": "[encoded data removed]",
            "text/plain": [
              "<Figure size 432x288 with 9 Axes>"
            ]
          },
          "metadata": {
            "tags": [],
            "needs_background": "light"
          }
        }
      ]
    },
    {
      "cell_type": "code",
      "metadata": {
        "colab": {
          "base_uri": "https://localhost:8080/",
          "height": 334
        },
        "id": "_vJfI5F7egjy",
        "outputId": "fe97d108-ddf1-4e07-f798-a188c76f1632"
      },
      "source": [
        "null = sns.distplot(X['author_average_rating'], hist = True, kde = True, bins = 10)"
      ],
      "execution_count": null,
      "outputs": [
        {
          "output_type": "stream",
          "text": [
            "/usr/local/lib/python3.7/dist-packages/seaborn/distributions.py:2557: FutureWarning: `distplot` is a deprecated function and will be removed in a future version. Please adapt your code to use either `displot` (a figure-level function with similar flexibility) or `histplot` (an axes-level function for histograms).\n",
            "  warnings.warn(msg, FutureWarning)\n"
          ],
          "name": "stderr"
        },
        {
          "output_type": "display_data",
          "data": {
            "image/png": "[encoded data removed]",
            "text/plain": [
              "<Figure size 432x288 with 1 Axes>"
            ]
          },
          "metadata": {
            "tags": [],
            "needs_background": "light"
          }
        }
      ]
    },
    {
      "cell_type": "code",
      "metadata": {
        "colab": {
          "base_uri": "https://localhost:8080/",
          "height": 345
        },
        "id": "D8WMWt6QgPsf",
        "outputId": "fbe7f1e5-6638-44ce-c02a-bfc6b21185de"
      },
      "source": [
        "null = sns.distplot(X['author_rating_count'], hist = True, kde = True, bins = 10)"
      ],
      "execution_count": null,
      "outputs": [
        {
          "output_type": "stream",
          "text": [
            "/usr/local/lib/python3.7/dist-packages/seaborn/distributions.py:2557: FutureWarning: `distplot` is a deprecated function and will be removed in a future version. Please adapt your code to use either `displot` (a figure-level function with similar flexibility) or `histplot` (an axes-level function for histograms).\n",
            "  warnings.warn(msg, FutureWarning)\n"
          ],
          "name": "stderr"
        },
        {
          "output_type": "display_data",
          "data": {
            "image/png": "[encoded data removed]",
            "text/plain": [
              "<Figure size 432x288 with 1 Axes>"
            ]
          },
          "metadata": {
            "tags": [],
            "needs_background": "light"
          }
        }
      ]
    },
    {
      "cell_type": "code",
      "metadata": {
        "colab": {
          "base_uri": "https://localhost:8080/",
          "height": 345
        },
        "id": "PKmlcFcjepV2",
        "outputId": "03c2edf3-05ba-48a6-bab4-952f05f08fd4"
      },
      "source": [
        "null = sns.distplot(X['author_review_count'], hist = True, kde = True, bins = 10)"
      ],
      "execution_count": null,
      "outputs": [
        {
          "output_type": "stream",
          "text": [
            "/usr/local/lib/python3.7/dist-packages/seaborn/distributions.py:2557: FutureWarning: `distplot` is a deprecated function and will be removed in a future version. Please adapt your code to use either `displot` (a figure-level function with similar flexibility) or `histplot` (an axes-level function for histograms).\n",
            "  warnings.warn(msg, FutureWarning)\n"
          ],
          "name": "stderr"
        },
        {
          "output_type": "display_data",
          "data": {
            "image/png": "[encoded data removed]",
            "text/plain": [
              "<Figure size 432x288 with 1 Axes>"
            ]
          },
          "metadata": {
            "tags": [],
            "needs_background": "light"
          }
        }
      ]
    },
    {
      "cell_type": "code",
      "metadata": {
        "colab": {
          "base_uri": "https://localhost:8080/",
          "height": 334
        },
        "id": "h6STrYewgJZX",
        "outputId": "2ba9a398-90c5-45d4-9d8f-61bef81dc864"
      },
      "source": [
        "null = sns.distplot(X['book_average_rating'], hist = True, kde = True, bins = 10)"
      ],
      "execution_count": null,
      "outputs": [
        {
          "output_type": "stream",
          "text": [
            "/usr/local/lib/python3.7/dist-packages/seaborn/distributions.py:2557: FutureWarning: `distplot` is a deprecated function and will be removed in a future version. Please adapt your code to use either `displot` (a figure-level function with similar flexibility) or `histplot` (an axes-level function for histograms).\n",
            "  warnings.warn(msg, FutureWarning)\n"
          ],
          "name": "stderr"
        },
        {
          "output_type": "display_data",
          "data": {
            "image/png": "[encoded data removed]",
            "text/plain": [
              "<Figure size 432x288 with 1 Axes>"
            ]
          },
          "metadata": {
            "tags": [],
            "needs_background": "light"
          }
        }
      ]
    },
    {
      "cell_type": "code",
      "metadata": {
        "colab": {
          "base_uri": "https://localhost:8080/",
          "height": 345
        },
        "id": "fdGP1_8PgX9A",
        "outputId": "d9bcec89-6409-46ac-cac3-87e016d8faca"
      },
      "source": [
        "null = sns.distplot(X['num_ratings'], hist = True, kde = True, bins = 10)"
      ],
      "execution_count": null,
      "outputs": [
        {
          "output_type": "stream",
          "text": [
            "/usr/local/lib/python3.7/dist-packages/seaborn/distributions.py:2557: FutureWarning: `distplot` is a deprecated function and will be removed in a future version. Please adapt your code to use either `displot` (a figure-level function with similar flexibility) or `histplot` (an axes-level function for histograms).\n",
            "  warnings.warn(msg, FutureWarning)\n"
          ],
          "name": "stderr"
        },
        {
          "output_type": "display_data",
          "data": {
            "image/png": "[encoded data removed]",
            "text/plain": [
              "<Figure size 432x288 with 1 Axes>"
            ]
          },
          "metadata": {
            "tags": [],
            "needs_background": "light"
          }
        }
      ]
    },
    {
      "cell_type": "code",
      "metadata": {
        "colab": {
          "base_uri": "https://localhost:8080/",
          "height": 334
        },
        "id": "LHIHyN1Agbmj",
        "outputId": "3941a6c8-3604-44f2-b73e-1da013e1dc46"
      },
      "source": [
        "null = sns.distplot(X['num_reviews'], hist = True, kde = True, bins = 10)"
      ],
      "execution_count": null,
      "outputs": [
        {
          "output_type": "stream",
          "text": [
            "/usr/local/lib/python3.7/dist-packages/seaborn/distributions.py:2557: FutureWarning: `distplot` is a deprecated function and will be removed in a future version. Please adapt your code to use either `displot` (a figure-level function with similar flexibility) or `histplot` (an axes-level function for histograms).\n",
            "  warnings.warn(msg, FutureWarning)\n"
          ],
          "name": "stderr"
        },
        {
          "output_type": "display_data",
          "data": {
            "image/png": "[encoded data removed]",
            "text/plain": [
              "<Figure size 432x288 with 1 Axes>"
            ]
          },
          "metadata": {
            "tags": [],
            "needs_background": "light"
          }
        }
      ]
    },
    {
      "cell_type": "code",
      "metadata": {
        "colab": {
          "base_uri": "https://localhost:8080/",
          "height": 333
        },
        "id": "CSESgeM9gfD-",
        "outputId": "56370afa-c0de-4f8a-8bdf-99c90141021b"
      },
      "source": [
        "null = sns.distplot(X['pages'], hist = True, kde = True, bins = 10)"
      ],
      "execution_count": null,
      "outputs": [
        {
          "output_type": "stream",
          "text": [
            "/usr/local/lib/python3.7/dist-packages/seaborn/distributions.py:2557: FutureWarning: `distplot` is a deprecated function and will be removed in a future version. Please adapt your code to use either `displot` (a figure-level function with similar flexibility) or `histplot` (an axes-level function for histograms).\n",
            "  warnings.warn(msg, FutureWarning)\n"
          ],
          "name": "stderr"
        },
        {
          "output_type": "display_data",
          "data": {
            "image/png": "[encoded data removed]",
            "text/plain": [
              "<Figure size 432x288 with 1 Axes>"
            ]
          },
          "metadata": {
            "tags": [],
            "needs_background": "light"
          }
        }
      ]
    },
    {
      "cell_type": "markdown",
      "metadata": {
        "id": "FBQ1c9i12n1y"
      },
      "source": [
        "# **3. Methods & Analysis**"
      ]
    },
    {
      "cell_type": "markdown",
      "metadata": {
        "id": "CidLRsHx8bhL"
      },
      "source": [
        "## A. Basic Statistics"
      ]
    },
    {
      "cell_type": "markdown",
      "metadata": {
        "id": "xc8spxxTSLKT"
      },
      "source": [
        "Basic statistics of male and female author ratings were calculated to see if there is a discrepancy in the general ratings. First was the average rating of male and female authors and average rating per book by male and female authors."
      ]
    },
    {
      "cell_type": "code",
      "metadata": {
        "colab": {
          "base_uri": "https://localhost:8080/"
        },
        "id": "qsacoelDhRzw",
        "outputId": "3b3e1d3b-5a12-43dc-d5d1-ca329cf85ede"
      },
      "source": [
        "# get df for female authors\n",
        "f_df = df2[df2['author_gender'] == 'female']\n",
        "# get average author & book ratings\n",
        "f_aut_avg = f_df['author_average_rating'].mean()\n",
        "f_bk_avg = f_df['book_average_rating'].mean()\n",
        "\n",
        "# get df for male authors\n",
        "m_df = df2[df2['author_gender'] == 'male']\n",
        "m_bk_avg = m_df['book_average_rating'].mean()\n",
        "# get average author & book ratings\n",
        "m_aut_avg = m_df['author_average_rating'].mean()\n",
        "\n",
        "print('Average Author Rating (0 - 5)')\n",
        "print('---------------------------')\n",
        "print('Male: {}'.format(m_aut_avg))\n",
        "print('Female: {}'.format(f_aut_avg))\n",
        "print('Difference: {}'.format(m_aut_avg - f_aut_avg))\n",
        "print('')\n",
        "print('Average Book Rating (0 - 5)')\n",
        "print('---------------------------')\n",
        "print('Male: {}'.format(m_bk_avg))\n",
        "print('Female: {}'.format(f_bk_avg))\n",
        "print('Difference: {}'.format(m_bk_avg - f_bk_avg))"
      ],
      "execution_count": null,
      "outputs": [
        {
          "output_type": "stream",
          "text": [
            "Average Author Rating (0 - 5)\n",
            "---------------------------\n",
            "Male: 3.967118499573743\n",
            "Female: 3.9537960042061\n",
            "Difference: 0.013322495367642961\n",
            "\n",
            "Average Book Rating (0 - 5)\n",
            "---------------------------\n",
            "Male: 3.963827791986354\n",
            "Female: 3.943322818086227\n",
            "Difference: 0.020504973900127066\n"
          ],
          "name": "stdout"
        }
      ]
    },
    {
      "cell_type": "markdown",
      "metadata": {
        "id": "H459BJazjwLS"
      },
      "source": [
        "There is a slight discrepancy of ratings between male and female where male authors have slightly higher ratings. The difference is so small that it is almost neglibile. This was visualized by the below. Bar graphs can be viewed in Appendix 1.1 and 1.2."
      ]
    },
    {
      "cell_type": "code",
      "metadata": {
        "colab": {
          "base_uri": "https://localhost:8080/",
          "height": 495
        },
        "id": "1ZRXdB6akwHa",
        "outputId": "80049718-106f-4a5b-abe0-7b93808e7d26"
      },
      "source": [
        "sns.pairplot(df2, hue = 'author_gender', size = 3, vars = ['book_average_rating', 'author_average_rating'])"
      ],
      "execution_count": null,
      "outputs": [
        {
          "output_type": "stream",
          "text": [
            "/usr/local/lib/python3.7/dist-packages/seaborn/axisgrid.py:1969: UserWarning: The `size` parameter has been renamed to `height`; please update your code.\n",
            "  warnings.warn(msg, UserWarning)\n"
          ],
          "name": "stderr"
        },
        {
          "output_type": "execute_result",
          "data": {
            "text/plain": [
              "<seaborn.axisgrid.PairGrid at 0x7f116521d750>"
            ]
          },
          "metadata": {
            "tags": []
          },
          "execution_count": 268
        },
        {
          "output_type": "display_data",
          "data": {
            "image/png": "[encoded data removed]",
            "text/plain": [
              "<Figure size 513.375x432 with 6 Axes>"
            ]
          },
          "metadata": {
            "tags": [],
            "needs_background": "light"
          }
        }
      ]
    },
    {
      "cell_type": "markdown",
      "metadata": {
        "id": "BnPvyEvjmLEp"
      },
      "source": [
        "Overall, the graphs are pretty even between female and male authors. As the average book rating increases, so does the average rating of the author. Though the highest overall rating is a female author, most authors with ratings above a 4.5 are male."
      ]
    },
    {
      "cell_type": "markdown",
      "metadata": {
        "id": "79Ka0cSBmB2l"
      },
      "source": [
        "## B. Machine Learning Models"
      ]
    },
    {
      "cell_type": "markdown",
      "metadata": {
        "id": "6nHivW578mhz"
      },
      "source": [
        "Next were the grid searches to find optimal different machine learning models (KNN, Decision Trees, and MLP) to see which numerical factors in a book review would predict the author's gender most accurately. \n",
        "\n",
        "The first model tested was a KNN."
      ]
    },
    {
      "cell_type": "markdown",
      "metadata": {
        "id": "3TrJ05jZnDFe"
      },
      "source": [
        "### **1. KNN Model**"
      ]
    },
    {
      "cell_type": "markdown",
      "metadata": {
        "id": "HdlGvi9emwdk"
      },
      "source": [
        "A grid search was conducted to find and build the optimal KNN model. The accuracy, confidence interval, and confusion matrix were output."
      ]
    },
    {
      "cell_type": "code",
      "metadata": {
        "colab": {
          "base_uri": "https://localhost:8080/"
        },
        "id": "J3P3YgTJnu0l",
        "outputId": "55a506d3-1267-4d97-8c0f-521821acce06"
      },
      "source": [
        "from sklearn.neighbors import KNeighborsClassifier\n",
        "from sklearn.metrics import accuracy_score\n",
        "from sklearn.model_selection import train_test_split\n",
        "from assets.confint import classification_confint\n",
        "\n",
        "# get data\n",
        "X = df2.drop(['author_name', 'book_title', 'birthplace', 'genre_1', 'genre_2', 'author_gender'], axis = 1)\n",
        "y = df2['author_gender']\n",
        "\n",
        "# KNN\n",
        "KNN_model = KNeighborsClassifier()\n",
        "\n",
        "# grid search\n",
        "KNN_param_grid = {'n_neighbors': list(range(1,14))}\n",
        "KNN_grid = GridSearchCV(KNN_model, KNN_param_grid, cv=3)\n",
        "KNN_grid.fit(X, y)\n",
        "# output best parameters\n",
        "print(\"Grid Search: best parameters: {}\".format(KNN_grid.best_params_))\n",
        "print(\"\")\n",
        "\n",
        "# accuracy of best model\n",
        "best_KNN_model = KNN_grid.best_estimator_\n",
        "predict_y_KNN = best_KNN_model.predict(X)\n",
        "acc_KNN = accuracy_score(y, predict_y_KNN)\n",
        "lb_KNN,ub_KNN = classification_confint(acc_KNN,X.shape[0])\n",
        "print(\"Accuracy: {:3.2f} ({:3.2f},{:3.2f})\".format(acc_KNN,lb_KNN,ub_KNN))\n",
        "print(\"\")\n",
        "\n",
        "# build the confusion matrix\n",
        "labels = ['male', 'female']\n",
        "cm_KNN = confusion_matrix(y, predict_y_KNN, labels=labels)\n",
        "cm_df_KNN = pd.DataFrame(cm_KNN, index=labels, columns=labels)\n",
        "print(\"Confusion Matrix:\\n{}\".format(cm_df_KNN))"
      ],
      "execution_count": null,
      "outputs": [
        {
          "output_type": "stream",
          "text": [
            "Grid Search: best parameters: {'n_neighbors': 3}\n",
            "\n",
            "Accuracy: 0.76 (0.75,0.78)\n",
            "\n",
            "Confusion Matrix:\n",
            "        male  female\n",
            "male     926     247\n",
            "female   253     698\n"
          ],
          "name": "stdout"
        }
      ]
    },
    {
      "cell_type": "markdown",
      "metadata": {
        "id": "o6-sLssfuWQd"
      },
      "source": [
        "The optimal number of neighbors is **3.** This shows that there is clustering within the model.\n",
        "\n",
        "We can say with 95% confidence that the accuracy of the optimal **KNN model** is between .75 and .78."
      ]
    },
    {
      "cell_type": "code",
      "metadata": {
        "colab": {
          "base_uri": "https://localhost:8080/"
        },
        "id": "hqlJIUVl-sCZ",
        "outputId": "7000be2e-f0fc-4fef-823a-eb53a9862158"
      },
      "source": [
        "y.value_counts()"
      ],
      "execution_count": null,
      "outputs": [
        {
          "output_type": "execute_result",
          "data": {
            "text/plain": [
              "male      1173\n",
              "female     951\n",
              "Name: author_gender, dtype: int64"
            ]
          },
          "metadata": {
            "tags": []
          },
          "execution_count": 270
        }
      ]
    },
    {
      "cell_type": "markdown",
      "metadata": {
        "id": "VVKvhSkf-jmj"
      },
      "source": [
        "The model makes some mistakes when predicting gender. It incorrectly categorized 247 **male** authors as **female** authors and 253 **female** authors as **male** authors."
      ]
    },
    {
      "cell_type": "markdown",
      "metadata": {
        "id": "KLuJczXZvKNU"
      },
      "source": [
        "### **2. Decision Tree Model**"
      ]
    },
    {
      "cell_type": "markdown",
      "metadata": {
        "id": "t54IgWFfuIoe"
      },
      "source": [
        "First the neccessary packages and data were imported. A grid search was conducted to find and build the optimal decision tree model. The range was found by building a decision tree without a max depth specified (see Appendix 2.1)"
      ]
    },
    {
      "cell_type": "code",
      "metadata": {
        "id": "Af8herABuHFH"
      },
      "source": [
        "# models\n",
        "from sklearn.tree import DecisionTreeClassifier\n",
        "from assets.treeviz import tree_print\n",
        "\n",
        "# model evaluation routines\n",
        "from sklearn.model_selection import GridSearchCV\n",
        "from sklearn.metrics import accuracy_score\n",
        "from sklearn.metrics import confusion_matrix\n",
        "from assets.confint import classification_confint\n",
        "\n",
        "# get data\n",
        "X  = df2.drop(['author_gender', 'author_name', 'book_title', 'birthplace', 'genre_1', 'genre_2'], axis = 1)\n",
        "y = df2['author_gender']"
      ],
      "execution_count": null,
      "outputs": []
    },
    {
      "cell_type": "code",
      "metadata": {
        "colab": {
          "base_uri": "https://localhost:8080/"
        },
        "id": "8_-imPl9vSS3",
        "outputId": "d7809186-95bf-44a0-ae4a-538f90003837"
      },
      "source": [
        "# decision trees\n",
        "tree_model = DecisionTreeClassifier(random_state=1)\n",
        "\n",
        "# grid search\n",
        "tree_param_grid = {'max_depth': list(range(1, 27)), 'criterion': ['entropy','gini'] }\n",
        "tree_grid = GridSearchCV(tree_model, tree_param_grid, cv=5)\n",
        "tree_grid.fit(X, y)\n",
        "print(\"Grid Search: best parameters: {}\".format(tree_grid.best_params_))\n",
        "\n",
        "tree_best_model = tree_grid.best_estimator_\n",
        "# print best tree\n",
        "tree_print(tree_best_model, X)"
      ],
      "execution_count": null,
      "outputs": [
        {
          "output_type": "stream",
          "text": [
            "Grid Search: best parameters: {'criterion': 'gini', 'max_depth': 11}\n",
            "if pages =< 591.0: \n",
            "  |then if num_ratings =< 50216.0: \n",
            "  |  |then if author_review_count =< 226.5: \n",
            "  |  |  |then if num_reviews =< 67.0: \n",
            "  |  |  |  |then if author_average_rating =< 3.8549998998641968: \n",
            "  |  |  |  |  |then if pages =< 72.5: \n",
            "  |  |  |  |  |  |then female\n",
            "  |  |  |  |  |  |else if author_review_count =< 58.0: \n",
            "  |  |  |  |  |  |  |then if pages =< 229.0: \n",
            "  |  |  |  |  |  |  |  |then male\n",
            "  |  |  |  |  |  |  |  |else if num_ratings =< 81.0: \n",
            "  |  |  |  |  |  |  |  |  |then if author_review_count =< 9.0: \n",
            "  |  |  |  |  |  |  |  |  |  |then female\n",
            "  |  |  |  |  |  |  |  |  |  |else male\n",
            "  |  |  |  |  |  |  |  |  |else if num_ratings =< 283.0: \n",
            "  |  |  |  |  |  |  |  |  |  |then if num_ratings =< 148.5: \n",
            "  |  |  |  |  |  |  |  |  |  |  |then male\n",
            "  |  |  |  |  |  |  |  |  |  |  |else female\n",
            "  |  |  |  |  |  |  |  |  |  |else male\n",
            "  |  |  |  |  |  |  |else if book_average_rating =< 3.2699999809265137: \n",
            "  |  |  |  |  |  |  |  |then if author_rating_count =< 1595.5: \n",
            "  |  |  |  |  |  |  |  |  |then male\n",
            "  |  |  |  |  |  |  |  |  |else female\n",
            "  |  |  |  |  |  |  |  |else if num_ratings =< 375.0: \n",
            "  |  |  |  |  |  |  |  |  |then male\n",
            "  |  |  |  |  |  |  |  |  |else if num_ratings =< 382.5: \n",
            "  |  |  |  |  |  |  |  |  |  |then female\n",
            "  |  |  |  |  |  |  |  |  |  |else male\n",
            "  |  |  |  |  |else if num_ratings =< 110.5: \n",
            "  |  |  |  |  |  |then if num_reviews =< 8.5: \n",
            "  |  |  |  |  |  |  |then if author_rating_count =< 19.5: \n",
            "  |  |  |  |  |  |  |  |then if author_rating_count =< 13.5: \n",
            "  |  |  |  |  |  |  |  |  |then male\n",
            "  |  |  |  |  |  |  |  |  |else female\n",
            "  |  |  |  |  |  |  |  |else if author_review_count =< 163.5: \n",
            "  |  |  |  |  |  |  |  |  |then if pages =< 304.5: \n",
            "  |  |  |  |  |  |  |  |  |  |then if pages =< 255.0: \n",
            "  |  |  |  |  |  |  |  |  |  |  |then male\n",
            "  |  |  |  |  |  |  |  |  |  |  |else female\n",
            "  |  |  |  |  |  |  |  |  |  |else male\n",
            "  |  |  |  |  |  |  |  |  |else female\n",
            "  |  |  |  |  |  |  |else if author_average_rating =< 4.355000019073486: \n",
            "  |  |  |  |  |  |  |  |then if pages =< 359.0: \n",
            "  |  |  |  |  |  |  |  |  |then if num_ratings =< 52.5: \n",
            "  |  |  |  |  |  |  |  |  |  |then if pages =< 117.0: \n",
            "  |  |  |  |  |  |  |  |  |  |  |then male\n",
            "  |  |  |  |  |  |  |  |  |  |  |else female\n",
            "  |  |  |  |  |  |  |  |  |  |else if num_reviews =< 13.5: \n",
            "  |  |  |  |  |  |  |  |  |  |  |then male\n",
            "  |  |  |  |  |  |  |  |  |  |  |else female\n",
            "  |  |  |  |  |  |  |  |  |else if author_average_rating =< 4.259999990463257: \n",
            "  |  |  |  |  |  |  |  |  |  |then male\n",
            "  |  |  |  |  |  |  |  |  |  |else female\n",
            "  |  |  |  |  |  |  |  |else if num_ratings =< 56.0: \n",
            "  |  |  |  |  |  |  |  |  |then male\n",
            "  |  |  |  |  |  |  |  |  |else if author_rating_count =< 86.0: \n",
            "  |  |  |  |  |  |  |  |  |  |then female\n",
            "  |  |  |  |  |  |  |  |  |  |else male\n",
            "  |  |  |  |  |  |else if pages =< 526.5: \n",
            "  |  |  |  |  |  |  |then if author_review_count =< 93.5: \n",
            "  |  |  |  |  |  |  |  |then if author_rating_count =< 757.0: \n",
            "  |  |  |  |  |  |  |  |  |then if num_reviews =< 51.5: \n",
            "  |  |  |  |  |  |  |  |  |  |then if num_ratings =< 144.5: \n",
            "  |  |  |  |  |  |  |  |  |  |  |then male\n",
            "  |  |  |  |  |  |  |  |  |  |  |else male\n",
            "  |  |  |  |  |  |  |  |  |  |else female\n",
            "  |  |  |  |  |  |  |  |  |else female\n",
            "  |  |  |  |  |  |  |  |else male\n",
            "  |  |  |  |  |  |  |else female\n",
            "  |  |  |  |else if author_rating_count =< 3698.0: \n",
            "  |  |  |  |  |then if num_reviews =< 90.5: \n",
            "  |  |  |  |  |  |then if pages =< 214.0: \n",
            "  |  |  |  |  |  |  |then female\n",
            "  |  |  |  |  |  |  |else if num_reviews =< 83.5: \n",
            "  |  |  |  |  |  |  |  |then if num_ratings =< 861.5: \n",
            "  |  |  |  |  |  |  |  |  |then if num_ratings =< 176.0: \n",
            "  |  |  |  |  |  |  |  |  |  |then female\n",
            "  |  |  |  |  |  |  |  |  |  |else if author_average_rating =< 3.440000057220459: \n",
            "  |  |  |  |  |  |  |  |  |  |  |then female\n",
            "  |  |  |  |  |  |  |  |  |  |  |else male\n",
            "  |  |  |  |  |  |  |  |  |else female\n",
            "  |  |  |  |  |  |  |  |else if num_ratings =< 779.0: \n",
            "  |  |  |  |  |  |  |  |  |then female\n",
            "  |  |  |  |  |  |  |  |  |else male\n",
            "  |  |  |  |  |  |else if pages =< 154.5: \n",
            "  |  |  |  |  |  |  |then male\n",
            "  |  |  |  |  |  |  |else if author_average_rating =< 3.40500009059906: \n",
            "  |  |  |  |  |  |  |  |then male\n",
            "  |  |  |  |  |  |  |  |else if author_average_rating =< 3.5049999952316284: \n",
            "  |  |  |  |  |  |  |  |  |then female\n",
            "  |  |  |  |  |  |  |  |  |else if author_review_count =< 217.0: \n",
            "  |  |  |  |  |  |  |  |  |  |then if pages =< 464.0: \n",
            "  |  |  |  |  |  |  |  |  |  |  |then male\n",
            "  |  |  |  |  |  |  |  |  |  |  |else female\n",
            "  |  |  |  |  |  |  |  |  |  |else female\n",
            "  |  |  |  |  |else male\n",
            "  |  |  |else if num_ratings =< 2279.5: \n",
            "  |  |  |  |then if author_average_rating =< 3.665000081062317: \n",
            "  |  |  |  |  |then if num_ratings =< 1045.0: \n",
            "  |  |  |  |  |  |then if book_average_rating =< 3.9100000858306885: \n",
            "  |  |  |  |  |  |  |then if book_average_rating =< 3.6450001001358032: \n",
            "  |  |  |  |  |  |  |  |then if author_average_rating =< 3.4250000715255737: \n",
            "  |  |  |  |  |  |  |  |  |then if author_rating_count =< 2474.0: \n",
            "  |  |  |  |  |  |  |  |  |  |then female\n",
            "  |  |  |  |  |  |  |  |  |  |else male\n",
            "  |  |  |  |  |  |  |  |  |else male\n",
            "  |  |  |  |  |  |  |  |else if book_average_rating =< 3.7350000143051147: \n",
            "  |  |  |  |  |  |  |  |  |then female\n",
            "  |  |  |  |  |  |  |  |  |else if author_review_count =< 1347.0: \n",
            "  |  |  |  |  |  |  |  |  |  |then if author_average_rating =< 3.524999976158142: \n",
            "  |  |  |  |  |  |  |  |  |  |  |then female\n",
            "  |  |  |  |  |  |  |  |  |  |  |else male\n",
            "  |  |  |  |  |  |  |  |  |  |else female\n",
            "  |  |  |  |  |  |  |else female\n",
            "  |  |  |  |  |  |else if num_ratings =< 1163.0: \n",
            "  |  |  |  |  |  |  |then female\n",
            "  |  |  |  |  |  |  |else if author_average_rating =< 3.40500009059906: \n",
            "  |  |  |  |  |  |  |  |then if num_ratings =< 2023.0: \n",
            "  |  |  |  |  |  |  |  |  |then female\n",
            "  |  |  |  |  |  |  |  |  |else male\n",
            "  |  |  |  |  |  |  |  |else if num_ratings =< 2228.5: \n",
            "  |  |  |  |  |  |  |  |  |then if author_review_count =< 4002.0: \n",
            "  |  |  |  |  |  |  |  |  |  |then if author_review_count =< 406.0: \n",
            "  |  |  |  |  |  |  |  |  |  |  |then female\n",
            "  |  |  |  |  |  |  |  |  |  |  |else male\n",
            "  |  |  |  |  |  |  |  |  |  |else female\n",
            "  |  |  |  |  |  |  |  |  |else female\n",
            "  |  |  |  |  |else if num_ratings =< 2159.5: \n",
            "  |  |  |  |  |  |then if author_review_count =< 247.5: \n",
            "  |  |  |  |  |  |  |then if pages =< 324.0: \n",
            "  |  |  |  |  |  |  |  |then female\n",
            "  |  |  |  |  |  |  |  |else if pages =< 332.0: \n",
            "  |  |  |  |  |  |  |  |  |then male\n",
            "  |  |  |  |  |  |  |  |  |else female\n",
            "  |  |  |  |  |  |  |else if author_review_count =< 285.0: \n",
            "  |  |  |  |  |  |  |  |then if book_average_rating =< 3.950000047683716: \n",
            "  |  |  |  |  |  |  |  |  |then if num_reviews =< 102.5: \n",
            "  |  |  |  |  |  |  |  |  |  |then if author_rating_count =< 3458.0: \n",
            "  |  |  |  |  |  |  |  |  |  |  |then male\n",
            "  |  |  |  |  |  |  |  |  |  |  |else female\n",
            "  |  |  |  |  |  |  |  |  |  |else female\n",
            "  |  |  |  |  |  |  |  |  |else male\n",
            "  |  |  |  |  |  |  |  |else if book_average_rating =< 4.0350000858306885: \n",
            "  |  |  |  |  |  |  |  |  |then if num_reviews =< 371.0: \n",
            "  |  |  |  |  |  |  |  |  |  |then if num_ratings =< 1884.5: \n",
            "  |  |  |  |  |  |  |  |  |  |  |then female\n",
            "  |  |  |  |  |  |  |  |  |  |  |else male\n",
            "  |  |  |  |  |  |  |  |  |  |else female\n",
            "  |  |  |  |  |  |  |  |  |else if num_ratings =< 268.0: \n",
            "  |  |  |  |  |  |  |  |  |  |then if author_review_count =< 11696.0: \n",
            "  |  |  |  |  |  |  |  |  |  |  |then female\n",
            "  |  |  |  |  |  |  |  |  |  |  |else male\n",
            "  |  |  |  |  |  |  |  |  |  |else if num_reviews =< 35.0: \n",
            "  |  |  |  |  |  |  |  |  |  |  |then male\n",
            "  |  |  |  |  |  |  |  |  |  |  |else female\n",
            "  |  |  |  |  |  |else female\n",
            "  |  |  |  |else if author_average_rating =< 4.234999895095825: \n",
            "  |  |  |  |  |then if author_review_count =< 2457.0: \n",
            "  |  |  |  |  |  |then if author_rating_count =< 35334.0: \n",
            "  |  |  |  |  |  |  |then if book_average_rating =< 4.015000104904175: \n",
            "  |  |  |  |  |  |  |  |then if author_review_count =< 1978.0: \n",
            "  |  |  |  |  |  |  |  |  |then if author_review_count =< 1870.5: \n",
            "  |  |  |  |  |  |  |  |  |  |then if author_average_rating =< 3.59499990940094: \n",
            "  |  |  |  |  |  |  |  |  |  |  |then male\n",
            "  |  |  |  |  |  |  |  |  |  |  |else female\n",
            "  |  |  |  |  |  |  |  |  |  |else if author_rating_count =< 20208.5: \n",
            "  |  |  |  |  |  |  |  |  |  |  |then female\n",
            "  |  |  |  |  |  |  |  |  |  |  |else female\n",
            "  |  |  |  |  |  |  |  |  |else if author_review_count =< 2110.0: \n",
            "  |  |  |  |  |  |  |  |  |  |then male\n",
            "  |  |  |  |  |  |  |  |  |  |else if author_average_rating =< 3.9200000762939453: \n",
            "  |  |  |  |  |  |  |  |  |  |  |then male\n",
            "  |  |  |  |  |  |  |  |  |  |  |else female\n",
            "  |  |  |  |  |  |  |  |else if author_review_count =< 2072.0: \n",
            "  |  |  |  |  |  |  |  |  |then if num_reviews =< 282.5: \n",
            "  |  |  |  |  |  |  |  |  |  |then male\n",
            "  |  |  |  |  |  |  |  |  |  |else if author_review_count =< 425.5: \n",
            "  |  |  |  |  |  |  |  |  |  |  |then female\n",
            "  |  |  |  |  |  |  |  |  |  |  |else male\n",
            "  |  |  |  |  |  |  |  |  |else if author_average_rating =< 4.1549999713897705: \n",
            "  |  |  |  |  |  |  |  |  |  |then if pages =< 306.0: \n",
            "  |  |  |  |  |  |  |  |  |  |  |then female\n",
            "  |  |  |  |  |  |  |  |  |  |  |else female\n",
            "  |  |  |  |  |  |  |  |  |  |else male\n",
            "  |  |  |  |  |  |  |else if author_average_rating =< 4.2149999141693115: \n",
            "  |  |  |  |  |  |  |  |then if author_review_count =< 1123.0: \n",
            "  |  |  |  |  |  |  |  |  |then female\n",
            "  |  |  |  |  |  |  |  |  |else if pages =< 76.0: \n",
            "  |  |  |  |  |  |  |  |  |  |then female\n",
            "  |  |  |  |  |  |  |  |  |  |else if book_average_rating =< 4.254999876022339: \n",
            "  |  |  |  |  |  |  |  |  |  |  |then male\n",
            "  |  |  |  |  |  |  |  |  |  |  |else female\n",
            "  |  |  |  |  |  |  |  |else if num_reviews =< 1009.0: \n",
            "  |  |  |  |  |  |  |  |  |then female\n",
            "  |  |  |  |  |  |  |  |  |else male\n",
            "  |  |  |  |  |  |else if num_ratings =< 48414.5: \n",
            "  |  |  |  |  |  |  |then if num_reviews =< 5377.5: \n",
            "  |  |  |  |  |  |  |  |then if num_reviews =< 4400.5: \n",
            "  |  |  |  |  |  |  |  |  |then if num_ratings =< 9582.5: \n",
            "  |  |  |  |  |  |  |  |  |  |then if author_review_count =< 21997.0: \n",
            "  |  |  |  |  |  |  |  |  |  |  |then female\n",
            "  |  |  |  |  |  |  |  |  |  |  |else female\n",
            "  |  |  |  |  |  |  |  |  |  |else if num_reviews =< 549.0: \n",
            "  |  |  |  |  |  |  |  |  |  |  |then male\n",
            "  |  |  |  |  |  |  |  |  |  |  |else female\n",
            "  |  |  |  |  |  |  |  |  |else if num_ratings =< 39911.5: \n",
            "  |  |  |  |  |  |  |  |  |  |then female\n",
            "  |  |  |  |  |  |  |  |  |  |else if num_ratings =< 43226.0: \n",
            "  |  |  |  |  |  |  |  |  |  |  |then male\n",
            "  |  |  |  |  |  |  |  |  |  |  |else female\n",
            "  |  |  |  |  |  |  |  |else if num_reviews =< 6498.5: \n",
            "  |  |  |  |  |  |  |  |  |then male\n",
            "  |  |  |  |  |  |  |  |  |else if num_ratings =< 43487.5: \n",
            "  |  |  |  |  |  |  |  |  |  |then male\n",
            "  |  |  |  |  |  |  |  |  |  |else female\n",
            "  |  |  |  |  |  |  |else female\n",
            "  |  |  |  |  |else if author_review_count =< 12050.5: \n",
            "  |  |  |  |  |  |then if num_ratings =< 11500.0: \n",
            "  |  |  |  |  |  |  |then if num_ratings =< 2683.0: \n",
            "  |  |  |  |  |  |  |  |then if author_rating_count =< 13482.5: \n",
            "  |  |  |  |  |  |  |  |  |then male\n",
            "  |  |  |  |  |  |  |  |  |else female\n",
            "  |  |  |  |  |  |  |  |else male\n",
            "  |  |  |  |  |  |  |else if pages =< 287.0: \n",
            "  |  |  |  |  |  |  |  |then if book_average_rating =< 4.144999980926514: \n",
            "  |  |  |  |  |  |  |  |  |then female\n",
            "  |  |  |  |  |  |  |  |  |else if author_review_count =< 7602.5: \n",
            "  |  |  |  |  |  |  |  |  |  |then male\n",
            "  |  |  |  |  |  |  |  |  |  |else if book_average_rating =< 4.4100000858306885: \n",
            "  |  |  |  |  |  |  |  |  |  |  |then male\n",
            "  |  |  |  |  |  |  |  |  |  |  |else female\n",
            "  |  |  |  |  |  |  |  |else if author_average_rating =< 4.244999885559082: \n",
            "  |  |  |  |  |  |  |  |  |then male\n",
            "  |  |  |  |  |  |  |  |  |else if pages =< 457.0: \n",
            "  |  |  |  |  |  |  |  |  |  |then female\n",
            "  |  |  |  |  |  |  |  |  |  |else male\n",
            "  |  |  |  |  |  |else if num_reviews =< 3666.0: \n",
            "  |  |  |  |  |  |  |then if num_ratings =< 8544.5: \n",
            "  |  |  |  |  |  |  |  |then male\n",
            "  |  |  |  |  |  |  |  |else if pages =< 141.0: \n",
            "  |  |  |  |  |  |  |  |  |then male\n",
            "  |  |  |  |  |  |  |  |  |else female\n",
            "  |  |  |  |  |  |  |else male\n",
            "  |  |else if pages =< 260.5: \n",
            "  |  |  |then if author_rating_count =< 563462.5: \n",
            "  |  |  |  |then if author_review_count =< 38809.0: \n",
            "  |  |  |  |  |then if author_rating_count =< 147377.5: \n",
            "  |  |  |  |  |  |then if author_review_count =< 1232.5: \n",
            "  |  |  |  |  |  |  |then if book_average_rating =< 4.139999866485596: \n",
            "  |  |  |  |  |  |  |  |then male\n",
            "  |  |  |  |  |  |  |  |else female\n",
            "  |  |  |  |  |  |  |else if book_average_rating =< 3.915000081062317: \n",
            "  |  |  |  |  |  |  |  |then if author_review_count =< 4189.5: \n",
            "  |  |  |  |  |  |  |  |  |then female\n",
            "  |  |  |  |  |  |  |  |  |else male\n",
            "  |  |  |  |  |  |  |  |else male\n",
            "  |  |  |  |  |  |else if author_rating_count =< 153682.0: \n",
            "  |  |  |  |  |  |  |then female\n",
            "  |  |  |  |  |  |  |else if author_review_count =< 4581.0: \n",
            "  |  |  |  |  |  |  |  |then female\n",
            "  |  |  |  |  |  |  |  |else if num_ratings =< 74865.0: \n",
            "  |  |  |  |  |  |  |  |  |then if num_ratings =< 70648.5: \n",
            "  |  |  |  |  |  |  |  |  |  |then male\n",
            "  |  |  |  |  |  |  |  |  |  |else female\n",
            "  |  |  |  |  |  |  |  |  |else if author_average_rating =< 4.359999895095825: \n",
            "  |  |  |  |  |  |  |  |  |  |then if num_ratings =< 268752.5: \n",
            "  |  |  |  |  |  |  |  |  |  |  |then male\n",
            "  |  |  |  |  |  |  |  |  |  |  |else male\n",
            "  |  |  |  |  |  |  |  |  |  |else if num_ratings =< 119400.5: \n",
            "  |  |  |  |  |  |  |  |  |  |  |then male\n",
            "  |  |  |  |  |  |  |  |  |  |  |else female\n",
            "  |  |  |  |  |else female\n",
            "  |  |  |  |else male\n",
            "  |  |  |else if author_review_count =< 13738.5: \n",
            "  |  |  |  |then if num_ratings =< 64852.5: \n",
            "  |  |  |  |  |then if author_rating_count =< 154954.5: \n",
            "  |  |  |  |  |  |then if pages =< 508.5: \n",
            "  |  |  |  |  |  |  |then if num_ratings =< 56377.0: \n",
            "  |  |  |  |  |  |  |  |then if pages =< 347.0: \n",
            "  |  |  |  |  |  |  |  |  |then male\n",
            "  |  |  |  |  |  |  |  |  |else if author_average_rating =< 4.174999952316284: \n",
            "  |  |  |  |  |  |  |  |  |  |then female\n",
            "  |  |  |  |  |  |  |  |  |  |else male\n",
            "  |  |  |  |  |  |  |  |else female\n",
            "  |  |  |  |  |  |  |else male\n",
            "  |  |  |  |  |  |else male\n",
            "  |  |  |  |  |else if pages =< 276.5: \n",
            "  |  |  |  |  |  |then if num_reviews =< 7735.0: \n",
            "  |  |  |  |  |  |  |then female\n",
            "  |  |  |  |  |  |  |else male\n",
            "  |  |  |  |  |  |else if author_average_rating =< 3.90500009059906: \n",
            "  |  |  |  |  |  |  |then if book_average_rating =< 3.9100000858306885: \n",
            "  |  |  |  |  |  |  |  |then if num_ratings =< 417311.0: \n",
            "  |  |  |  |  |  |  |  |  |then if pages =< 337.5: \n",
            "  |  |  |  |  |  |  |  |  |  |then if pages =< 308.0: \n",
            "  |  |  |  |  |  |  |  |  |  |  |then male\n",
            "  |  |  |  |  |  |  |  |  |  |  |else female\n",
            "  |  |  |  |  |  |  |  |  |  |else male\n",
            "  |  |  |  |  |  |  |  |  |else female\n",
            "  |  |  |  |  |  |  |  |else female\n",
            "  |  |  |  |  |  |  |else if pages =< 291.0: \n",
            "  |  |  |  |  |  |  |  |then if num_reviews =< 5871.0: \n",
            "  |  |  |  |  |  |  |  |  |then male\n",
            "  |  |  |  |  |  |  |  |  |else female\n",
            "  |  |  |  |  |  |  |  |else male\n",
            "  |  |  |  |else if author_rating_count =< 258435.5: \n",
            "  |  |  |  |  |then if num_reviews =< 11226.0: \n",
            "  |  |  |  |  |  |then female\n",
            "  |  |  |  |  |  |else if num_reviews =< 12017.5: \n",
            "  |  |  |  |  |  |  |then male\n",
            "  |  |  |  |  |  |  |else if num_ratings =< 170296.0: \n",
            "  |  |  |  |  |  |  |  |then if num_ratings =< 85657.0: \n",
            "  |  |  |  |  |  |  |  |  |then if num_reviews =< 12776.5: \n",
            "  |  |  |  |  |  |  |  |  |  |then female\n",
            "  |  |  |  |  |  |  |  |  |  |else male\n",
            "  |  |  |  |  |  |  |  |  |else female\n",
            "  |  |  |  |  |  |  |  |else if num_reviews =< 27625.5: \n",
            "  |  |  |  |  |  |  |  |  |then male\n",
            "  |  |  |  |  |  |  |  |  |else female\n",
            "  |  |  |  |  |else if pages =< 292.5: \n",
            "  |  |  |  |  |  |then if author_rating_count =< 702681.0: \n",
            "  |  |  |  |  |  |  |then if num_reviews =< 8258.5: \n",
            "  |  |  |  |  |  |  |  |then male\n",
            "  |  |  |  |  |  |  |  |else if num_reviews =< 26184.0: \n",
            "  |  |  |  |  |  |  |  |  |then female\n",
            "  |  |  |  |  |  |  |  |  |else male\n",
            "  |  |  |  |  |  |  |else if num_ratings =< 1686093.5: \n",
            "  |  |  |  |  |  |  |  |then female\n",
            "  |  |  |  |  |  |  |  |else if book_average_rating =< 4.024999976158142: \n",
            "  |  |  |  |  |  |  |  |  |then male\n",
            "  |  |  |  |  |  |  |  |  |else female\n",
            "  |  |  |  |  |  |else if author_average_rating =< 3.665000081062317: \n",
            "  |  |  |  |  |  |  |then if author_average_rating =< 3.549999952316284: \n",
            "  |  |  |  |  |  |  |  |then male\n",
            "  |  |  |  |  |  |  |  |else female\n",
            "  |  |  |  |  |  |  |else if num_reviews =< 5055.0: \n",
            "  |  |  |  |  |  |  |  |then if num_ratings =< 72145.0: \n",
            "  |  |  |  |  |  |  |  |  |then male\n",
            "  |  |  |  |  |  |  |  |  |else if author_rating_count =< 2059313.0: \n",
            "  |  |  |  |  |  |  |  |  |  |then female\n",
            "  |  |  |  |  |  |  |  |  |  |else male\n",
            "  |  |  |  |  |  |  |  |else if author_review_count =< 28700.0: \n",
            "  |  |  |  |  |  |  |  |  |then male\n",
            "  |  |  |  |  |  |  |  |  |else if author_review_count =< 32448.5: \n",
            "  |  |  |  |  |  |  |  |  |  |then if pages =< 512.0: \n",
            "  |  |  |  |  |  |  |  |  |  |  |then female\n",
            "  |  |  |  |  |  |  |  |  |  |  |else male\n",
            "  |  |  |  |  |  |  |  |  |  |else if author_review_count =< 55619.0: \n",
            "  |  |  |  |  |  |  |  |  |  |  |then male\n",
            "  |  |  |  |  |  |  |  |  |  |  |else male\n",
            "  |else if author_rating_count =< 333.5: \n",
            "  |  |then female\n",
            "  |  |else if author_rating_count =< 225958.0: \n",
            "  |  |  |then if num_reviews =< 369.5: \n",
            "  |  |  |  |then if author_average_rating =< 4.359999895095825: \n",
            "  |  |  |  |  |then male\n",
            "  |  |  |  |  |else if num_reviews =< 125.5: \n",
            "  |  |  |  |  |  |then male\n",
            "  |  |  |  |  |  |else female\n",
            "  |  |  |  |else if num_reviews =< 510.5: \n",
            "  |  |  |  |  |then if author_rating_count =< 13812.0: \n",
            "  |  |  |  |  |  |then male\n",
            "  |  |  |  |  |  |else female\n",
            "  |  |  |  |  |else if author_rating_count =< 18958.0: \n",
            "  |  |  |  |  |  |then female\n",
            "  |  |  |  |  |  |else if num_ratings =< 11449.0: \n",
            "  |  |  |  |  |  |  |then if author_average_rating =< 4.024999976158142: \n",
            "  |  |  |  |  |  |  |  |then male\n",
            "  |  |  |  |  |  |  |  |else female\n",
            "  |  |  |  |  |  |  |else if pages =< 957.0: \n",
            "  |  |  |  |  |  |  |  |then male\n",
            "  |  |  |  |  |  |  |  |else if pages =< 964.0: \n",
            "  |  |  |  |  |  |  |  |  |then female\n",
            "  |  |  |  |  |  |  |  |  |else male\n",
            "  |  |  |else if num_ratings =< 33911.5: \n",
            "  |  |  |  |then if num_reviews =< 104.5: \n",
            "  |  |  |  |  |then male\n",
            "  |  |  |  |  |else female\n",
            "  |  |  |  |else if author_average_rating =< 3.9100000858306885: \n",
            "  |  |  |  |  |then if author_rating_count =< 421261.5: \n",
            "  |  |  |  |  |  |then female\n",
            "  |  |  |  |  |  |else if num_reviews =< 14658.0: \n",
            "  |  |  |  |  |  |  |then male\n",
            "  |  |  |  |  |  |  |else female\n",
            "  |  |  |  |  |else if num_reviews =< 2308.5: \n",
            "  |  |  |  |  |  |then if book_average_rating =< 4.205000162124634: \n",
            "  |  |  |  |  |  |  |then female\n",
            "  |  |  |  |  |  |  |else male\n",
            "  |  |  |  |  |  |else male\n",
            "<------------------------------->\n",
            "Tree Depth:  11\n"
          ],
          "name": "stdout"
        }
      ]
    },
    {
      "cell_type": "markdown",
      "metadata": {
        "id": "qbfU36GO8Fik"
      },
      "source": [
        "The accuracy score and confidence interval were calculated and confusion matrix built."
      ]
    },
    {
      "cell_type": "code",
      "metadata": {
        "colab": {
          "base_uri": "https://localhost:8080/"
        },
        "id": "nJb7uSBg6wo2",
        "outputId": "36529c19-f0ff-4725-fc1a-0d80f81a75b0"
      },
      "source": [
        "# accuracy of best model with confidence interval\n",
        "tree_predict_y = tree_best_model.predict(X)\n",
        "tree_acc = accuracy_score(y, tree_predict_y)\n",
        "tree_lb,tree_ub = classification_confint(tree_acc,X.shape[0])\n",
        "print(\"Accuracy: {:3.2f} ({:3.2f},{:3.2f})\".format(tree_acc,tree_lb,tree_ub))\n",
        "print(\"\")\n",
        "\n",
        "# build the confusion matrix\n",
        "labels = ['male', 'female']\n",
        "tree_cm = confusion_matrix(y, tree_predict_y, labels=labels)\n",
        "tree_cm_df = pd.DataFrame(tree_cm, index=labels, columns=labels)\n",
        "print(\"Confusion Matrix:\\n{}\".format(tree_cm_df))"
      ],
      "execution_count": null,
      "outputs": [
        {
          "output_type": "stream",
          "text": [
            "Accuracy: 0.77 (0.75,0.79)\n",
            "\n",
            "Confusion Matrix:\n",
            "        male  female\n",
            "male     747     426\n",
            "female    67     884\n"
          ],
          "name": "stdout"
        }
      ]
    },
    {
      "cell_type": "markdown",
      "metadata": {
        "id": "vlBWB47K60wr"
      },
      "source": [
        "We can say with 95% confidence that the accuracy of the **decision tree model** is between .75 and .79."
      ]
    },
    {
      "cell_type": "code",
      "metadata": {
        "colab": {
          "base_uri": "https://localhost:8080/"
        },
        "id": "FVEbhA9IAM8W",
        "outputId": "668e0a6a-52f0-4584-ec7c-3758f1234778"
      },
      "source": [
        "y.value_counts()"
      ],
      "execution_count": null,
      "outputs": [
        {
          "output_type": "execute_result",
          "data": {
            "text/plain": [
              "male      1173\n",
              "female     951\n",
              "Name: author_gender, dtype: int64"
            ]
          },
          "metadata": {
            "tags": []
          },
          "execution_count": 274
        }
      ]
    },
    {
      "cell_type": "markdown",
      "metadata": {
        "id": "s-GkGGVupD1u"
      },
      "source": [
        "The confusion matrix makes more mistakes categorizing male authors. There are 426 **male** authors categorized as **female** authors and 67 **female** authors incorrectly categorized as **male** authors."
      ]
    },
    {
      "cell_type": "markdown",
      "metadata": {
        "id": "Auss-BqzMYPU"
      },
      "source": [
        "The optimal tree is very complex and not very intuitive. \n",
        "\n",
        "The first few levels:\n",
        "```\n",
        "if pages =< 591.0: \n",
        "  |then if num_ratings =< 50216.0: \n",
        "  |  |then if author_review_count =< 226.5: \n",
        "  |  |  |then if num_reviews =< 67.0: \n",
        "  |  |  |  |then if author_average_rating =< 3.8549998998641968: \n",
        "  |  |  |  |  |then if pages =< 72.5: \n",
        "  |  |  |  |  |  |then female\n",
        "  ...\n",
        "  |else if author_rating_count =< 333.5: \n",
        "  |  |then female\n",
        "```\n",
        "If the number of pages in the book is equal to or under 591 and the number of book ratings is equal to or less than 226, then there are many other conditions required to predict the author's gender.\n",
        "\n",
        "However, if the book's pages are equal to or under 591 and the number of ratings is more than 226, it is not nearly as complex - then the author is female. \n",
        "\n",
        "The variables **pages**, **num_ratings**, and **author_rating_count** are the most important factors in determining the author's gender. This suggests that popularity is a major factor. To see the plotted decision surfaces, see Appendix 2.2."
      ]
    },
    {
      "cell_type": "code",
      "metadata": {
        "colab": {
          "base_uri": "https://localhost:8080/",
          "height": 707
        },
        "id": "q6hEn8k46iMh",
        "outputId": "9bc51837-ae13-4c7f-9da6-3c303e07ce26"
      },
      "source": [
        "sns.pairplot(df2, hue = 'author_gender', size = 3, vars = ['pages', 'num_ratings', 'author_rating_count'])"
      ],
      "execution_count": null,
      "outputs": [
        {
          "output_type": "stream",
          "text": [
            "/usr/local/lib/python3.7/dist-packages/seaborn/axisgrid.py:1969: UserWarning: The `size` parameter has been renamed to `height`; please update your code.\n",
            "  warnings.warn(msg, UserWarning)\n"
          ],
          "name": "stderr"
        },
        {
          "output_type": "execute_result",
          "data": {
            "text/plain": [
              "<seaborn.axisgrid.PairGrid at 0x7f116547c7d0>"
            ]
          },
          "metadata": {
            "tags": []
          },
          "execution_count": 275
        },
        {
          "output_type": "display_data",
          "data": {
            "image/png": "[encoded data removed]",
            "text/plain": [
              "<Figure size 729.375x648 with 12 Axes>"
            ]
          },
          "metadata": {
            "tags": [],
            "needs_background": "light"
          }
        }
      ]
    },
    {
      "cell_type": "markdown",
      "metadata": {
        "id": "48Pe9vfMTpxq"
      },
      "source": [
        "According to the graph above, female authors tend to have fewer pages in their books. Male authors are rated much more frequently than female authors with the same number of pages. "
      ]
    },
    {
      "cell_type": "code",
      "metadata": {
        "colab": {
          "base_uri": "https://localhost:8080/"
        },
        "id": "k3BDW0n9pyn9",
        "outputId": "d2fee9fb-c872-4e80-c7c8-11233949d1f5"
      },
      "source": [
        "# get average book length\n",
        "X['pages'].mean()"
      ],
      "execution_count": null,
      "outputs": [
        {
          "output_type": "execute_result",
          "data": {
            "text/plain": [
              "332.57250470809794"
            ]
          },
          "metadata": {
            "tags": []
          },
          "execution_count": 276
        }
      ]
    },
    {
      "cell_type": "markdown",
      "metadata": {
        "id": "4WdLBsnwp26Q"
      },
      "source": [
        "The average book in the dataset has 333 pages. Even if the book is almost twice as long as average, if there are not many ratings then the author is likely to be **female**."
      ]
    },
    {
      "cell_type": "markdown",
      "metadata": {
        "id": "M2ANoCWjxbLp"
      },
      "source": [
        "### **3. ANN**"
      ]
    },
    {
      "cell_type": "markdown",
      "metadata": {
        "id": "_2RDf90AU272"
      },
      "source": [
        "ANN model with **tanh** as the activation was built and the accuracy score and confusion matrix was output."
      ]
    },
    {
      "cell_type": "code",
      "metadata": {
        "colab": {
          "base_uri": "https://localhost:8080/"
        },
        "id": "6rt9YmOQUf4v",
        "outputId": "5d1ef12f-7f39-4257-bf30-60586b6cd08a"
      },
      "source": [
        "# set up\n",
        "np.set_printoptions(formatter={'float_kind':\"{:3.2f}\".format})\n",
        "from sklearn.neural_network import MLPClassifier\n",
        "from sklearn.model_selection import train_test_split\n",
        "from sklearn.metrics import accuracy_score\n",
        "from assets.confint import classification_confint\n",
        "from sklearn.metrics import confusion_matrix\n",
        "\n",
        "# get data\n",
        "X = df2.drop(['author_gender', 'author_name', 'book_title', 'birthplace', 'genre_1', 'genre_2'], axis = 1)\n",
        "y = df2['author_gender']\n",
        "\n",
        "# get number of independent variables\n",
        "print(\"There are {} independent variables\".format(X.shape[1]))"
      ],
      "execution_count": null,
      "outputs": [
        {
          "output_type": "stream",
          "text": [
            "There are 7 independent variables\n"
          ],
          "name": "stdout"
        }
      ]
    },
    {
      "cell_type": "code",
      "metadata": {
        "id": "dEcKZEizZVro",
        "colab": {
          "base_uri": "https://localhost:8080/"
        },
        "outputId": "43b70af8-1d0a-40a5-a1b0-cef64b9e3019"
      },
      "source": [
        "# neural network\n",
        "# NOTE: a good rule of thumb for MLP starting point:\n",
        "# a) 1 hidden layer\n",
        "# b) the number of nodes in hidden layer: no_node = 2 * no_independents_vars\n",
        "#\n",
        "ANN_model = MLPClassifier(hidden_layer_sizes=(14,), activation='tanh', max_iter=1000, random_state=1)\n",
        "\n",
        "# train and test the model\n",
        "train_X, test_X, train_y, test_y = train_test_split(X, y, train_size=0.8, test_size=0.2, random_state=3)\n",
        "ANN_model.fit(train_X, train_y)\n",
        "ANN_predict_y = ANN_model.predict(X)\n",
        "\n",
        "# accuracy score and confidence interval\n",
        "ANN_acc = accuracy_score(y, ANN_predict_y)\n",
        "ANN_lb, ANN_ub = classification_confint(ANN_acc, test_X.shape[0])\n",
        "print(\"Accuracy: {:3.2f} ({:3.2f}, {:3.2f})\".format(ANN_acc, ANN_lb, ANN_ub))\n",
        "print(\"\")\n",
        "\n",
        "# build the confusion matrix\n",
        "labels = ['male', 'female']\n",
        "ANN_cm = confusion_matrix(y, ANN_predict_y, labels=labels)\n",
        "ANN_cm_df = pd.DataFrame(ANN_cm, index=labels, columns=labels)\n",
        "print(\"Confusion Matrix:\\n{}\".format(ANN_cm_df))"
      ],
      "execution_count": null,
      "outputs": [
        {
          "output_type": "stream",
          "text": [
            "Accuracy: 0.54 (0.50, 0.59)\n",
            "\n",
            "Confusion Matrix:\n",
            "        male  female\n",
            "male    1136      37\n",
            "female   930      21\n"
          ],
          "name": "stdout"
        }
      ]
    },
    {
      "cell_type": "markdown",
      "metadata": {
        "id": "DZ1Ms5DFSrVQ"
      },
      "source": [
        "An ANN with the activation as **relu** was conducted as well as a more comprehensive ANN grid search, but even after 1.5 million iterations, neither converged. Please see Appendix 3.1 and 3.2."
      ]
    },
    {
      "cell_type": "markdown",
      "metadata": {
        "id": "cQ3g8zFpqpW-"
      },
      "source": [
        "### **4. Accuracy Summary**"
      ]
    },
    {
      "cell_type": "markdown",
      "metadata": {
        "id": "QGyqHC4NWk0w"
      },
      "source": [
        "To recap the accuracies for the different models:"
      ]
    },
    {
      "cell_type": "code",
      "metadata": {
        "colab": {
          "base_uri": "https://localhost:8080/"
        },
        "id": "S0OGB9ktWn88",
        "outputId": "bcbd754a-1c2b-4a26-d97e-2482257e86cd"
      },
      "source": [
        "print(\"KNN:\\n{:3.2f} ({:3.2f},{:3.2f})\".format(acc_KNN,lb_KNN,ub_KNN))\n",
        "print(\"\")\n",
        "print(\"Decision Tree:\\n{:3.2f} ({:3.2f},{:3.2f})\".format(tree_acc,tree_lb,tree_ub))\n",
        "print(\"\")\n",
        "print(\"ANN:\\n{:3.2f} ({:3.2f},{:3.2f})\".format(ANN_acc, ANN_lb, ANN_ub))"
      ],
      "execution_count": null,
      "outputs": [
        {
          "output_type": "stream",
          "text": [
            "KNN:\n",
            "0.76 (0.75,0.78)\n",
            "\n",
            "Decision Tree:\n",
            "0.77 (0.75,0.79)\n",
            "\n",
            "ANN:\n",
            "0.54 (0.50,0.59)\n"
          ],
          "name": "stdout"
        }
      ]
    },
    {
      "cell_type": "markdown",
      "metadata": {
        "id": "OPqoed6FXe51"
      },
      "source": [
        "The **ANN model** is almost irrelevant. The accuracy score is low and the confidence interval does not overlap the other models. The confusion matrix illustrates the model's tendency to categorize authors as **male**.\n",
        "\n",
        "The **KNN model** and **Decision Tree model** confidence intervals overlap.The difference in model performance of these two models is not statistically significant. The **Decision Tree** is the most relevant model for the purpose of understanding which factors help predict gender. "
      ]
    },
    {
      "cell_type": "markdown",
      "metadata": {
        "id": "gRJioKpoyCOa"
      },
      "source": [
        "##**C. Author Birthplace Analysis**"
      ]
    },
    {
      "cell_type": "markdown",
      "metadata": {
        "id": "4UBuVJUCsMwf"
      },
      "source": [
        "Because the **Decision Tree** was the best model for the whole dataset, the subsets of authors born in U.S. and authors born outside the U.S. were also analyzed with **Decision Trees**. "
      ]
    },
    {
      "cell_type": "markdown",
      "metadata": {
        "id": "dsnxoLAJsi3W"
      },
      "source": [
        "### **1. Authors Born Outside U.S.**"
      ]
    },
    {
      "cell_type": "markdown",
      "metadata": {
        "id": "0YpXwtrEqQOp"
      },
      "source": [
        "Authors born outside the United States were isolated into their own DataFrame and basic statistics calculated."
      ]
    },
    {
      "cell_type": "code",
      "metadata": {
        "colab": {
          "base_uri": "https://localhost:8080/",
          "height": 600
        },
        "id": "MRy1AqkKqVrf",
        "outputId": "31c516f5-6c18-4add-e6eb-0ec1ba52e6b7"
      },
      "source": [
        "# remove blank birthplaces\n",
        "dfcopy = df2\n",
        "dfcopy['birthplace'].replace('',np.NaN, inplace=True)\n",
        "dfcopy.dropna(subset=['birthplace'], inplace=True)\n",
        "\n",
        "# make copy of df and get authors born outside of United States\n",
        "df3 = dfcopy[dfcopy['birthplace']!='UnitedStates']\n",
        "df3.reset_index(drop=True, inplace=True)\n",
        "df3.head(n=10)"
      ],
      "execution_count": null,
      "outputs": [
        {
          "output_type": "execute_result",
          "data": {
            "text/html": [
              "<div>\n",
              "<style scoped>\n",
              "    .dataframe tbody tr th:only-of-type {\n",
              "        vertical-align: middle;\n",
              "    }\n",
              "\n",
              "    .dataframe tbody tr th {\n",
              "        vertical-align: top;\n",
              "    }\n",
              "\n",
              "    .dataframe thead th {\n",
              "        text-align: right;\n",
              "    }\n",
              "</style>\n",
              "<table border=\"1\" class=\"dataframe\">\n",
              "  <thead>\n",
              "    <tr style=\"text-align: right;\">\n",
              "      <th></th>\n",
              "      <th>author_average_rating</th>\n",
              "      <th>author_gender</th>\n",
              "      <th>author_name</th>\n",
              "      <th>author_rating_count</th>\n",
              "      <th>author_review_count</th>\n",
              "      <th>birthplace</th>\n",
              "      <th>book_average_rating</th>\n",
              "      <th>book_title</th>\n",
              "      <th>genre_1</th>\n",
              "      <th>genre_2</th>\n",
              "      <th>num_ratings</th>\n",
              "      <th>num_reviews</th>\n",
              "      <th>pages</th>\n",
              "    </tr>\n",
              "  </thead>\n",
              "  <tbody>\n",
              "    <tr>\n",
              "      <th>0</th>\n",
              "      <td>4.43</td>\n",
              "      <td>male</td>\n",
              "      <td>Hajime Isayama</td>\n",
              "      <td>297154</td>\n",
              "      <td>9213</td>\n",
              "      <td>Japan</td>\n",
              "      <td>4.52</td>\n",
              "      <td>Attack on Titan: No Regrets, Volume 01</td>\n",
              "      <td>Sequential Art</td>\n",
              "      <td>Sequential Art</td>\n",
              "      <td>10035</td>\n",
              "      <td>238</td>\n",
              "      <td>192</td>\n",
              "    </tr>\n",
              "    <tr>\n",
              "      <th>1</th>\n",
              "      <td>4.27</td>\n",
              "      <td>male</td>\n",
              "      <td>Tite Kubo</td>\n",
              "      <td>443883</td>\n",
              "      <td>5580</td>\n",
              "      <td>Japan</td>\n",
              "      <td>4.22</td>\n",
              "      <td>Bleach, Volume 01</td>\n",
              "      <td>Sequential Art</td>\n",
              "      <td>Fantasy</td>\n",
              "      <td>135567</td>\n",
              "      <td>1037</td>\n",
              "      <td>200</td>\n",
              "    </tr>\n",
              "    <tr>\n",
              "      <th>2</th>\n",
              "      <td>3.53</td>\n",
              "      <td>male</td>\n",
              "      <td>Leah Kaminsky</td>\n",
              "      <td>701</td>\n",
              "      <td>123</td>\n",
              "      <td>Australia</td>\n",
              "      <td>4.60</td>\n",
              "      <td>The Hollow Bones</td>\n",
              "      <td>Historical</td>\n",
              "      <td>War</td>\n",
              "      <td>5</td>\n",
              "      <td>2</td>\n",
              "      <td>336</td>\n",
              "    </tr>\n",
              "    <tr>\n",
              "      <th>3</th>\n",
              "      <td>4.76</td>\n",
              "      <td>male</td>\n",
              "      <td>Mustafa Kemal Atatürk</td>\n",
              "      <td>3374</td>\n",
              "      <td>112</td>\n",
              "      <td>Greece</td>\n",
              "      <td>4.77</td>\n",
              "      <td>Nutuk</td>\n",
              "      <td>History</td>\n",
              "      <td>Asian Literature</td>\n",
              "      <td>2865</td>\n",
              "      <td>80</td>\n",
              "      <td>610</td>\n",
              "    </tr>\n",
              "    <tr>\n",
              "      <th>4</th>\n",
              "      <td>3.89</td>\n",
              "      <td>male</td>\n",
              "      <td>John Stuart Mill</td>\n",
              "      <td>69943</td>\n",
              "      <td>1917</td>\n",
              "      <td>England</td>\n",
              "      <td>3.95</td>\n",
              "      <td>On Liberty</td>\n",
              "      <td>Philosophy</td>\n",
              "      <td>Politics</td>\n",
              "      <td>24759</td>\n",
              "      <td>733</td>\n",
              "      <td>187</td>\n",
              "    </tr>\n",
              "    <tr>\n",
              "      <th>5</th>\n",
              "      <td>3.77</td>\n",
              "      <td>male</td>\n",
              "      <td>Voltaire</td>\n",
              "      <td>220522</td>\n",
              "      <td>8074</td>\n",
              "      <td>France</td>\n",
              "      <td>3.76</td>\n",
              "      <td>Candide</td>\n",
              "      <td>Classics</td>\n",
              "      <td>Fiction</td>\n",
              "      <td>192652</td>\n",
              "      <td>6445</td>\n",
              "      <td>129</td>\n",
              "    </tr>\n",
              "    <tr>\n",
              "      <th>6</th>\n",
              "      <td>3.84</td>\n",
              "      <td>female</td>\n",
              "      <td>Joanne Harris</td>\n",
              "      <td>225794</td>\n",
              "      <td>16138</td>\n",
              "      <td>UnitedKingdom</td>\n",
              "      <td>3.85</td>\n",
              "      <td>Five Quarters of the Orange</td>\n",
              "      <td>Fiction</td>\n",
              "      <td>Historical</td>\n",
              "      <td>29099</td>\n",
              "      <td>2249</td>\n",
              "      <td>307</td>\n",
              "    </tr>\n",
              "    <tr>\n",
              "      <th>7</th>\n",
              "      <td>3.80</td>\n",
              "      <td>male</td>\n",
              "      <td>Guillermo del Toro</td>\n",
              "      <td>151922</td>\n",
              "      <td>13412</td>\n",
              "      <td>Mexico</td>\n",
              "      <td>3.78</td>\n",
              "      <td>The Strain</td>\n",
              "      <td>Horror</td>\n",
              "      <td>Science Fiction</td>\n",
              "      <td>72322</td>\n",
              "      <td>6189</td>\n",
              "      <td>403</td>\n",
              "    </tr>\n",
              "    <tr>\n",
              "      <th>8</th>\n",
              "      <td>4.20</td>\n",
              "      <td>male</td>\n",
              "      <td>Carina Bartsch</td>\n",
              "      <td>5331</td>\n",
              "      <td>544</td>\n",
              "      <td>Germany</td>\n",
              "      <td>4.20</td>\n",
              "      <td>Kirschroter Sommer</td>\n",
              "      <td>Romance</td>\n",
              "      <td>New Adult</td>\n",
              "      <td>2574</td>\n",
              "      <td>277</td>\n",
              "      <td>511</td>\n",
              "    </tr>\n",
              "    <tr>\n",
              "      <th>9</th>\n",
              "      <td>4.17</td>\n",
              "      <td>male</td>\n",
              "      <td>Shannon Mayer</td>\n",
              "      <td>155351</td>\n",
              "      <td>9570</td>\n",
              "      <td>Canada</td>\n",
              "      <td>3.85</td>\n",
              "      <td>Sundered</td>\n",
              "      <td>Horror</td>\n",
              "      <td>Horror</td>\n",
              "      <td>1951</td>\n",
              "      <td>234</td>\n",
              "      <td>122</td>\n",
              "    </tr>\n",
              "  </tbody>\n",
              "</table>\n",
              "</div>"
            ],
            "text/plain": [
              "   author_average_rating author_gender  ... num_reviews  pages\n",
              "0                   4.43          male  ...         238    192\n",
              "1                   4.27          male  ...        1037    200\n",
              "2                   3.53          male  ...           2    336\n",
              "3                   4.76          male  ...          80    610\n",
              "4                   3.89          male  ...         733    187\n",
              "5                   3.77          male  ...        6445    129\n",
              "6                   3.84        female  ...        2249    307\n",
              "7                   3.80          male  ...        6189    403\n",
              "8                   4.20          male  ...         277    511\n",
              "9                   4.17          male  ...         234    122\n",
              "\n",
              "[10 rows x 13 columns]"
            ]
          },
          "metadata": {
            "tags": []
          },
          "execution_count": 280
        }
      ]
    },
    {
      "cell_type": "code",
      "metadata": {
        "colab": {
          "base_uri": "https://localhost:8080/"
        },
        "id": "_AydbPpOvJRR",
        "outputId": "4d5aed29-2c22-4f12-a415-c363a45ff8e1"
      },
      "source": [
        "# get df for female authors\n",
        "n_US_f_df = df3[df3['author_gender'] == 'female']\n",
        "# get average author & book ratings\n",
        "n_US_f_aut_avg = n_US_f_df['author_average_rating'].mean()\n",
        "n_US_f_bk_avg = n_US_f_df['book_average_rating'].mean()\n",
        "\n",
        "# get df for male authors\n",
        "n_US_m_df = df3[df3['author_gender'] == 'male']\n",
        "n_US_m_bk_avg = n_US_m_df['book_average_rating'].mean()\n",
        "# get average author & book ratings\n",
        "n_US_m_aut_avg = n_US_m_df['author_average_rating'].mean()\n",
        "\n",
        "print('Average Author Rating (0 - 5)')\n",
        "print('---------------------------')\n",
        "print('Male: {}'.format(n_US_m_aut_avg))\n",
        "print('Female: {}'.format(n_US_f_aut_avg))\n",
        "print('Difference: {}'.format(n_US_m_aut_avg - n_US_f_aut_avg))\n",
        "print('')\n",
        "print('Average Book Rating (0 - 5)')\n",
        "print('---------------------------')\n",
        "print('Male: {}'.format(n_US_m_bk_avg))\n",
        "print('Female: {}'.format(n_US_f_bk_avg))\n",
        "print('Difference: {}'.format(n_US_m_bk_avg - n_US_f_bk_avg))"
      ],
      "execution_count": null,
      "outputs": [
        {
          "output_type": "stream",
          "text": [
            "Average Author Rating (0 - 5)\n",
            "---------------------------\n",
            "Male: 3.9810023866348425\n",
            "Female: 3.954203539823008\n",
            "Difference: 0.02679884681183431\n",
            "\n",
            "Average Book Rating (0 - 5)\n",
            "---------------------------\n",
            "Male: 3.9999999999999973\n",
            "Female: 3.9466814159292056\n",
            "Difference: 0.05331858407079171\n"
          ],
          "name": "stdout"
        }
      ]
    },
    {
      "cell_type": "markdown",
      "metadata": {
        "id": "JxJo3BkUyBbw"
      },
      "source": [
        "The difference in ratings between male and female authors born outside of the united states is very small. It is important to note that there are significantly fewer female authors than male authors in this subset. It is also important to note that while the difference is small, it is significantly higher compared to the differences in genders in the overall dataset and the subset of authors born in the U.S.. There is a slight bias in U.S. readers to rate male authors higher than female authors."
      ]
    },
    {
      "cell_type": "code",
      "metadata": {
        "colab": {
          "base_uri": "https://localhost:8080/",
          "height": 307
        },
        "id": "_1_XfkmUjH7t",
        "outputId": "c8a9c5c6-2514-4992-9660-9075addf0d70"
      },
      "source": [
        "# plot bar chart of labels\n",
        "df3['author_gender'].value_counts().plot.bar()"
      ],
      "execution_count": null,
      "outputs": [
        {
          "output_type": "execute_result",
          "data": {
            "text/plain": [
              "<matplotlib.axes._subplots.AxesSubplot at 0x7f1165447790>"
            ]
          },
          "metadata": {
            "tags": []
          },
          "execution_count": 282
        },
        {
          "output_type": "display_data",
          "data": {
            "image/png": "[encoded data removed]",
            "text/plain": [
              "<Figure size 432x288 with 1 Axes>"
            ]
          },
          "metadata": {
            "tags": [],
            "needs_background": "light"
          }
        }
      ]
    },
    {
      "cell_type": "markdown",
      "metadata": {
        "id": "3gPPYteMylgD"
      },
      "source": [
        "A grid search was conducted and the optimal decision tree model built. To see how the max range was found, see Appendix 2.3. The accuracy and the confidence interval were output."
      ]
    },
    {
      "cell_type": "code",
      "metadata": {
        "colab": {
          "base_uri": "https://localhost:8080/"
        },
        "id": "rYMJDnFEuWr_",
        "outputId": "599c3c3e-f6b4-4899-a3a3-1be47ee3d015"
      },
      "source": [
        "# get data\n",
        "X  = df3.drop(['author_gender', 'author_name', 'book_title', 'birthplace', 'genre_1', 'genre_2'], axis = 1)\n",
        "y = df3['author_gender']\n",
        "\n",
        "# decision tree\n",
        "n_US_tree_model = DecisionTreeClassifier(random_state=1)\n",
        "\n",
        "# grid search\n",
        "n_US_tree_param_grid = {'max_depth': list(range(1, 25)), 'criterion': ['entropy','gini'] }\n",
        "n_US_tree_grid = GridSearchCV(n_US_tree_model, n_US_tree_param_grid, cv=5)\n",
        "n_US_tree_grid.fit(X, y)\n",
        "print(\"Grid Search: best parameters: {}\".format(n_US_tree_grid.best_params_))\n",
        "\n",
        "n_US_tree_best_model = n_US_tree_grid.best_estimator_\n",
        "# print best tree\n",
        "tree_print(n_US_tree_best_model, X)\n",
        "print('')\n",
        "\n",
        "# accuracy of best model with confidence interval\n",
        "n_US_tree_predict_y = n_US_tree_best_model.predict(X)\n",
        "n_US_tree_acc = accuracy_score(y, n_US_tree_predict_y)\n",
        "n_US_tree_lb,n_US_tree_ub = classification_confint(n_US_tree_acc,X.shape[0])\n",
        "print(\"Accuracy: {:3.2f} ({:3.2f},{:3.2f})\".format(n_US_tree_acc,n_US_tree_lb,n_US_tree_ub))\n",
        "print('')\n",
        "\n",
        "# build the confusion matrix\n",
        "labels = ['male','female']\n",
        "n_US_tree_cm = confusion_matrix(y, n_US_tree_predict_y, labels=labels)\n",
        "n_US_tree_cm_df = pd.DataFrame(n_US_tree_cm, index=labels, columns=labels)\n",
        "print(\"Confusion Matrix:\\n{}\".format(n_US_tree_cm_df))"
      ],
      "execution_count": null,
      "outputs": [
        {
          "output_type": "stream",
          "text": [
            "Grid Search: best parameters: {'criterion': 'entropy', 'max_depth': 1}\n",
            "if book_average_rating =< 4.055000066757202: \n",
            "  |then male\n",
            "  |else male\n",
            "<->\n",
            "Tree Depth:  1\n",
            "\n",
            "Accuracy: 0.65 (0.61,0.69)\n",
            "\n",
            "Confusion Matrix:\n",
            "        male  female\n",
            "male     419       0\n",
            "female   226       0\n"
          ],
          "name": "stdout"
        }
      ]
    },
    {
      "cell_type": "markdown",
      "metadata": {
        "id": "1bGIfuO12SjS"
      },
      "source": [
        "This model is extremely flawed, as it categorizes all author genders as **male**. This may be due to the unbalanced author genders in the subset.\n",
        "\n",
        "When examining a graph of **book_average_rating**, there is not a clear pattern of author gender. Looking at the decision tree built when max depth is not specified (Appendix 2.3), ratings of the books and authors are a determining factor in the author's gender."
      ]
    },
    {
      "cell_type": "code",
      "metadata": {
        "colab": {
          "base_uri": "https://localhost:8080/",
          "height": 623
        },
        "id": "3sFoeJUGM3Wm",
        "outputId": "2bcf39c9-25d3-465c-c0e3-737ec86c828c"
      },
      "source": [
        "# isolating labels\n",
        "n_US_f_df = df3[df3['author_gender'] == 'female']\n",
        "n_US_m_df = df3[df3['author_gender'] == 'male']\n",
        "\n",
        "# scatter plot of the data\n",
        "plt.figure(figsize = (20, 10))\n",
        "plt.plot(n_US_m_df['book_average_rating'], n_US_m_df['book_average_rating'], 'go')\n",
        "plt.plot(n_US_f_df['book_average_rating'], n_US_f_df['book_average_rating'], 'ro')\n",
        "plt.xlabel('book_average_rating')\n",
        "plt.ylabel('book_average_rating')\n",
        "plt.legend(['male', 'female'])\n",
        "\n",
        "# plotting the decision surfaces\n",
        "# pages\n",
        "plt.plot([4.055000066757202,4.055000066757202], [0,5], 'k--')\n",
        "plt.plot([0,5], [4.055000066757202,4.055000066757202], 'k--')"
      ],
      "execution_count": null,
      "outputs": [
        {
          "output_type": "execute_result",
          "data": {
            "text/plain": [
              "[<matplotlib.lines.Line2D at 0x7f11651c1650>]"
            ]
          },
          "metadata": {
            "tags": []
          },
          "execution_count": 284
        },
        {
          "output_type": "display_data",
          "data": {
            "image/png": "[encoded data removed]",
            "text/plain": [
              "<Figure size 1440x720 with 1 Axes>"
            ]
          },
          "metadata": {
            "tags": [],
            "needs_background": "light"
          }
        }
      ]
    },
    {
      "cell_type": "markdown",
      "metadata": {
        "id": "S_4gT-p3zk1s"
      },
      "source": [
        "### **2. Authors Born in U.S.**"
      ]
    },
    {
      "cell_type": "markdown",
      "metadata": {
        "id": "8VDRrgJI03sX"
      },
      "source": [
        "Authors born inside the United States were isolated into their own DataFrame and basic statistics calculated."
      ]
    },
    {
      "cell_type": "code",
      "metadata": {
        "colab": {
          "base_uri": "https://localhost:8080/",
          "height": 617
        },
        "id": "DX2SyhsMum35",
        "outputId": "f2f4af0c-3d03-4f44-edc8-f8bce42ca32d"
      },
      "source": [
        "# make copy of df and get authors born in United States\n",
        "df4 = df2[df2['birthplace']=='UnitedStates']\n",
        "df4.reset_index(drop=True, inplace=True)\n",
        "df4.head(n=10)"
      ],
      "execution_count": null,
      "outputs": [
        {
          "output_type": "execute_result",
          "data": {
            "text/html": [
              "<div>\n",
              "<style scoped>\n",
              "    .dataframe tbody tr th:only-of-type {\n",
              "        vertical-align: middle;\n",
              "    }\n",
              "\n",
              "    .dataframe tbody tr th {\n",
              "        vertical-align: top;\n",
              "    }\n",
              "\n",
              "    .dataframe thead th {\n",
              "        text-align: right;\n",
              "    }\n",
              "</style>\n",
              "<table border=\"1\" class=\"dataframe\">\n",
              "  <thead>\n",
              "    <tr style=\"text-align: right;\">\n",
              "      <th></th>\n",
              "      <th>author_average_rating</th>\n",
              "      <th>author_gender</th>\n",
              "      <th>author_name</th>\n",
              "      <th>author_rating_count</th>\n",
              "      <th>author_review_count</th>\n",
              "      <th>birthplace</th>\n",
              "      <th>book_average_rating</th>\n",
              "      <th>book_title</th>\n",
              "      <th>genre_1</th>\n",
              "      <th>genre_2</th>\n",
              "      <th>num_ratings</th>\n",
              "      <th>num_reviews</th>\n",
              "      <th>pages</th>\n",
              "    </tr>\n",
              "  </thead>\n",
              "  <tbody>\n",
              "    <tr>\n",
              "      <th>0</th>\n",
              "      <td>4.04</td>\n",
              "      <td>male</td>\n",
              "      <td>M. Scott Peck</td>\n",
              "      <td>92903</td>\n",
              "      <td>2972</td>\n",
              "      <td>UnitedStates</td>\n",
              "      <td>4.05</td>\n",
              "      <td>The Road Less Traveled: A New Psychology...</td>\n",
              "      <td>Psychology</td>\n",
              "      <td>Nonfiction</td>\n",
              "      <td>74344</td>\n",
              "      <td>1982</td>\n",
              "      <td>316</td>\n",
              "    </tr>\n",
              "    <tr>\n",
              "      <th>1</th>\n",
              "      <td>4.25</td>\n",
              "      <td>female</td>\n",
              "      <td>Cherise Sinclair</td>\n",
              "      <td>223455</td>\n",
              "      <td>12896</td>\n",
              "      <td>UnitedStates</td>\n",
              "      <td>4.40</td>\n",
              "      <td>To Command and Collar</td>\n",
              "      <td>Erotica</td>\n",
              "      <td>Adult Fiction</td>\n",
              "      <td>12543</td>\n",
              "      <td>626</td>\n",
              "      <td>341</td>\n",
              "    </tr>\n",
              "    <tr>\n",
              "      <th>2</th>\n",
              "      <td>3.96</td>\n",
              "      <td>female</td>\n",
              "      <td>Ruth Ozeki</td>\n",
              "      <td>90707</td>\n",
              "      <td>12045</td>\n",
              "      <td>UnitedStates</td>\n",
              "      <td>3.79</td>\n",
              "      <td>All Over Creation</td>\n",
              "      <td>Fiction</td>\n",
              "      <td>Food and Drink</td>\n",
              "      <td>4580</td>\n",
              "      <td>609</td>\n",
              "      <td>432</td>\n",
              "    </tr>\n",
              "    <tr>\n",
              "      <th>3</th>\n",
              "      <td>3.97</td>\n",
              "      <td>male</td>\n",
              "      <td>Jeffrey Eugenides</td>\n",
              "      <td>1555682</td>\n",
              "      <td>57984</td>\n",
              "      <td>UnitedStates</td>\n",
              "      <td>3.84</td>\n",
              "      <td>The Virgin Suicides</td>\n",
              "      <td>Fiction</td>\n",
              "      <td>Contemporary</td>\n",
              "      <td>208261</td>\n",
              "      <td>8427</td>\n",
              "      <td>260</td>\n",
              "    </tr>\n",
              "    <tr>\n",
              "      <th>4</th>\n",
              "      <td>4.34</td>\n",
              "      <td>male</td>\n",
              "      <td>Paul Aertker</td>\n",
              "      <td>386</td>\n",
              "      <td>49</td>\n",
              "      <td>UnitedStates</td>\n",
              "      <td>4.20</td>\n",
              "      <td>Brainwashed</td>\n",
              "      <td>Mystery</td>\n",
              "      <td>Young Adult</td>\n",
              "      <td>244</td>\n",
              "      <td>25</td>\n",
              "      <td>308</td>\n",
              "    </tr>\n",
              "    <tr>\n",
              "      <th>5</th>\n",
              "      <td>4.03</td>\n",
              "      <td>male</td>\n",
              "      <td>Elliot Aronson</td>\n",
              "      <td>23786</td>\n",
              "      <td>1086</td>\n",
              "      <td>UnitedStates</td>\n",
              "      <td>4.25</td>\n",
              "      <td>The Social Animal</td>\n",
              "      <td>Psychology</td>\n",
              "      <td>Nonfiction</td>\n",
              "      <td>2629</td>\n",
              "      <td>124</td>\n",
              "      <td>512</td>\n",
              "    </tr>\n",
              "    <tr>\n",
              "      <th>6</th>\n",
              "      <td>3.47</td>\n",
              "      <td>male</td>\n",
              "      <td>Tom Perrotta</td>\n",
              "      <td>124125</td>\n",
              "      <td>14411</td>\n",
              "      <td>UnitedStates</td>\n",
              "      <td>3.39</td>\n",
              "      <td>The Leftovers</td>\n",
              "      <td>Fiction</td>\n",
              "      <td>Fantasy</td>\n",
              "      <td>40105</td>\n",
              "      <td>5467</td>\n",
              "      <td>355</td>\n",
              "    </tr>\n",
              "    <tr>\n",
              "      <th>7</th>\n",
              "      <td>4.01</td>\n",
              "      <td>female</td>\n",
              "      <td>Sue Monk Kidd</td>\n",
              "      <td>1328307</td>\n",
              "      <td>58286</td>\n",
              "      <td>UnitedStates</td>\n",
              "      <td>4.03</td>\n",
              "      <td>The Secret Life of Bees</td>\n",
              "      <td>Fiction</td>\n",
              "      <td>Historical</td>\n",
              "      <td>1011735</td>\n",
              "      <td>28242</td>\n",
              "      <td>336</td>\n",
              "    </tr>\n",
              "    <tr>\n",
              "      <th>8</th>\n",
              "      <td>3.92</td>\n",
              "      <td>male</td>\n",
              "      <td>Daniel H. Pink</td>\n",
              "      <td>129264</td>\n",
              "      <td>8083</td>\n",
              "      <td>UnitedStates</td>\n",
              "      <td>3.94</td>\n",
              "      <td>Drive: The Surprising Truth About What M...</td>\n",
              "      <td>Nonfiction</td>\n",
              "      <td>Business</td>\n",
              "      <td>75963</td>\n",
              "      <td>3679</td>\n",
              "      <td>242</td>\n",
              "    </tr>\n",
              "    <tr>\n",
              "      <th>9</th>\n",
              "      <td>4.11</td>\n",
              "      <td>female</td>\n",
              "      <td>Elise Kova</td>\n",
              "      <td>59414</td>\n",
              "      <td>6729</td>\n",
              "      <td>UnitedStates</td>\n",
              "      <td>4.01</td>\n",
              "      <td>Air Awakens</td>\n",
              "      <td>Fantasy</td>\n",
              "      <td>Young Adult</td>\n",
              "      <td>17143</td>\n",
              "      <td>1993</td>\n",
              "      <td>330</td>\n",
              "    </tr>\n",
              "  </tbody>\n",
              "</table>\n",
              "</div>"
            ],
            "text/plain": [
              "   author_average_rating author_gender  ... num_reviews  pages\n",
              "0                   4.04          male  ...        1982    316\n",
              "1                   4.25        female  ...         626    341\n",
              "2                   3.96        female  ...         609    432\n",
              "3                   3.97          male  ...        8427    260\n",
              "4                   4.34          male  ...          25    308\n",
              "5                   4.03          male  ...         124    512\n",
              "6                   3.47          male  ...        5467    355\n",
              "7                   4.01        female  ...       28242    336\n",
              "8                   3.92          male  ...        3679    242\n",
              "9                   4.11        female  ...        1993    330\n",
              "\n",
              "[10 rows x 13 columns]"
            ]
          },
          "metadata": {
            "tags": []
          },
          "execution_count": 285
        }
      ]
    },
    {
      "cell_type": "code",
      "metadata": {
        "colab": {
          "base_uri": "https://localhost:8080/"
        },
        "id": "2COeZVt9u165",
        "outputId": "176d649f-9204-4480-a690-b7101166a6ac"
      },
      "source": [
        "# get df for female authors\n",
        "US_f_df = df4[df4['author_gender'] == 'female']\n",
        "# get average author & book ratings\n",
        "US_f_aut_avg = US_f_df['author_average_rating'].mean()\n",
        "US_f_bk_avg = US_f_df['book_average_rating'].mean()\n",
        "\n",
        "# get df for male authors\n",
        "US_m_df = df4[df4['author_gender'] == 'male']\n",
        "US_m_bk_avg = US_m_df['book_average_rating'].mean()\n",
        "# get average author & book ratings\n",
        "US_m_aut_avg = US_m_df['author_average_rating'].mean()\n",
        "\n",
        "print('Average Author Rating (0 - 5)')\n",
        "print('---------------------------')\n",
        "print('Male: {}'.format(US_m_aut_avg))\n",
        "print('Female: {}'.format(US_f_aut_avg))\n",
        "print('Difference: {}'.format(US_m_aut_avg - US_f_aut_avg))\n",
        "print('')\n",
        "print('Average Book Rating (0 - 5)')\n",
        "print('---------------------------')\n",
        "print('Male: {}'.format(US_m_bk_avg))\n",
        "print('Female: {}'.format(US_f_bk_avg))\n",
        "print('Difference: {}'.format(US_m_bk_avg - US_f_bk_avg))"
      ],
      "execution_count": null,
      "outputs": [
        {
          "output_type": "stream",
          "text": [
            "Average Author Rating (0 - 5)\n",
            "---------------------------\n",
            "Male: 3.9625174825174856\n",
            "Female: 3.9537525773195874\n",
            "Difference: 0.008764905197898187\n",
            "\n",
            "Average Book Rating (0 - 5)\n",
            "---------------------------\n",
            "Male: 3.9488111888111885\n",
            "Female: 3.944309278350517\n",
            "Difference: 0.00450191046067161\n"
          ],
          "name": "stdout"
        }
      ]
    },
    {
      "cell_type": "markdown",
      "metadata": {
        "id": "mJYdc9ai0-fq"
      },
      "source": [
        "A grid search was conducted and the optimal decision tree model built. To see how the max range was found, see Appendix 2.4. The accuracy and the confidence interval were output."
      ]
    },
    {
      "cell_type": "code",
      "metadata": {
        "colab": {
          "base_uri": "https://localhost:8080/"
        },
        "id": "AiR1fAjHvCVS",
        "outputId": "e94ff661-20fe-47e2-cb66-ae1287acc921"
      },
      "source": [
        "# get data\n",
        "X  = df4.drop(['author_gender', 'author_name', 'book_title', 'birthplace', 'genre_1', 'genre_2'], axis = 1)\n",
        "y = df4['author_gender']\n",
        "\n",
        "# decision tree\n",
        "US_tree_model = DecisionTreeClassifier(random_state=1)\n",
        "\n",
        "# grid search\n",
        "US_tree_param_grid = {'max_depth': list(range(1, 23)), 'criterion': ['entropy','gini'] }\n",
        "US_tree_grid = GridSearchCV(US_tree_model, US_tree_param_grid, cv=5)\n",
        "US_tree_grid.fit(X, y)\n",
        "print(\"Grid Search: best parameters: {}\".format(US_tree_grid.best_params_))\n",
        "print(\"\")\n",
        "\n",
        "US_tree_best_model = US_tree_grid.best_estimator_\n",
        "# print best tree\n",
        "tree_print(US_tree_best_model, X)\n",
        "print('')\n",
        "\n",
        "# accuracy of best model with confidence interval\n",
        "US_tree_predict_y = US_tree_best_model.predict(X)\n",
        "US_tree_acc = accuracy_score(y, US_tree_predict_y)\n",
        "US_tree_lb,US_tree_ub = classification_confint(US_tree_acc,X.shape[0])\n",
        "print(\"Accuracy: {:3.2f} ({:3.2f},{:3.2f})\".format(US_tree_acc,US_tree_lb,US_tree_ub))\n",
        "print('')\n",
        "\n",
        "# build the confusion matrix\n",
        "labels = ['male','female']\n",
        "US_tree_cm = confusion_matrix(y, US_tree_predict_y, labels=labels)\n",
        "US_tree_cm_df = pd.DataFrame(US_tree_cm, index=labels, columns=labels)\n",
        "print(\"Confusion Matrix:\\n{}\".format(US_tree_cm_df))"
      ],
      "execution_count": null,
      "outputs": [
        {
          "output_type": "stream",
          "text": [
            "Grid Search: best parameters: {'criterion': 'gini', 'max_depth': 18}\n",
            "\n",
            "if num_ratings =< 40063.0: \n",
            "  |then if author_review_count =< 899.0: \n",
            "  |  |then if author_average_rating =< 3.6350001096725464: \n",
            "  |  |  |then if author_average_rating =< 3.534999966621399: \n",
            "  |  |  |  |then if author_rating_count =< 1598.0: \n",
            "  |  |  |  |  |then if num_reviews =< 119.0: \n",
            "  |  |  |  |  |  |then male\n",
            "  |  |  |  |  |  |else if author_review_count =< 177.0: \n",
            "  |  |  |  |  |  |  |then female\n",
            "  |  |  |  |  |  |  |else male\n",
            "  |  |  |  |  |else if author_review_count =< 395.0: \n",
            "  |  |  |  |  |  |then female\n",
            "  |  |  |  |  |  |else if book_average_rating =< 3.659999966621399: \n",
            "  |  |  |  |  |  |  |then if book_average_rating =< 3.1350001096725464: \n",
            "  |  |  |  |  |  |  |  |then female\n",
            "  |  |  |  |  |  |  |  |else male\n",
            "  |  |  |  |  |  |  |else female\n",
            "  |  |  |  |else male\n",
            "  |  |  |else if author_rating_count =< 5093.5: \n",
            "  |  |  |  |then if author_review_count =< 361.5: \n",
            "  |  |  |  |  |then if num_reviews =< 73.0: \n",
            "  |  |  |  |  |  |then if num_reviews =< 56.5: \n",
            "  |  |  |  |  |  |  |then if num_ratings =< 453.5: \n",
            "  |  |  |  |  |  |  |  |then if author_rating_count =< 19.5: \n",
            "  |  |  |  |  |  |  |  |  |then female\n",
            "  |  |  |  |  |  |  |  |  |else if pages =< 24.5: \n",
            "  |  |  |  |  |  |  |  |  |  |then female\n",
            "  |  |  |  |  |  |  |  |  |  |else if num_reviews =< 12.5: \n",
            "  |  |  |  |  |  |  |  |  |  |  |then if num_reviews =< 4.5: \n",
            "  |  |  |  |  |  |  |  |  |  |  |  |then if pages =< 301.5: \n",
            "  |  |  |  |  |  |  |  |  |  |  |  |  |then if author_review_count =< 8.0: \n",
            "  |  |  |  |  |  |  |  |  |  |  |  |  |  |then male\n",
            "  |  |  |  |  |  |  |  |  |  |  |  |  |  |else female\n",
            "  |  |  |  |  |  |  |  |  |  |  |  |  |else male\n",
            "  |  |  |  |  |  |  |  |  |  |  |  |else male\n",
            "  |  |  |  |  |  |  |  |  |  |  |else if num_ratings =< 48.0: \n",
            "  |  |  |  |  |  |  |  |  |  |  |  |then if book_average_rating =< 4.139999866485596: \n",
            "  |  |  |  |  |  |  |  |  |  |  |  |  |then female\n",
            "  |  |  |  |  |  |  |  |  |  |  |  |  |else if book_average_rating =< 4.2799999713897705: \n",
            "  |  |  |  |  |  |  |  |  |  |  |  |  |  |then male\n",
            "  |  |  |  |  |  |  |  |  |  |  |  |  |  |else if num_ratings =< 23.0: \n",
            "  |  |  |  |  |  |  |  |  |  |  |  |  |  |  |then male\n",
            "  |  |  |  |  |  |  |  |  |  |  |  |  |  |  |else female\n",
            "  |  |  |  |  |  |  |  |  |  |  |  |else if book_average_rating =< 3.975000023841858: \n",
            "  |  |  |  |  |  |  |  |  |  |  |  |  |then if book_average_rating =< 3.6450001001358032: \n",
            "  |  |  |  |  |  |  |  |  |  |  |  |  |  |then if author_rating_count =< 134.5: \n",
            "  |  |  |  |  |  |  |  |  |  |  |  |  |  |  |then male\n",
            "  |  |  |  |  |  |  |  |  |  |  |  |  |  |  |else if num_reviews =< 42.0: \n",
            "  |  |  |  |  |  |  |  |  |  |  |  |  |  |  |  |then female\n",
            "  |  |  |  |  |  |  |  |  |  |  |  |  |  |  |  |else male\n",
            "  |  |  |  |  |  |  |  |  |  |  |  |  |  |else if author_rating_count =< 162.5: \n",
            "  |  |  |  |  |  |  |  |  |  |  |  |  |  |  |then if author_rating_count =< 149.5: \n",
            "  |  |  |  |  |  |  |  |  |  |  |  |  |  |  |  |then if pages =< 277.0: \n",
            "  |  |  |  |  |  |  |  |  |  |  |  |  |  |  |  |  |then female\n",
            "  |  |  |  |  |  |  |  |  |  |  |  |  |  |  |  |  |else male\n",
            "  |  |  |  |  |  |  |  |  |  |  |  |  |  |  |  |else female\n",
            "  |  |  |  |  |  |  |  |  |  |  |  |  |  |  |else male\n",
            "  |  |  |  |  |  |  |  |  |  |  |  |  |else if author_average_rating =< 4.0299999713897705: \n",
            "  |  |  |  |  |  |  |  |  |  |  |  |  |  |then if author_rating_count =< 1053.5: \n",
            "  |  |  |  |  |  |  |  |  |  |  |  |  |  |  |then female\n",
            "  |  |  |  |  |  |  |  |  |  |  |  |  |  |  |else male\n",
            "  |  |  |  |  |  |  |  |  |  |  |  |  |  |else if num_ratings =< 111.5: \n",
            "  |  |  |  |  |  |  |  |  |  |  |  |  |  |  |then if num_reviews =< 31.5: \n",
            "  |  |  |  |  |  |  |  |  |  |  |  |  |  |  |  |then if author_rating_count =< 74.0: \n",
            "  |  |  |  |  |  |  |  |  |  |  |  |  |  |  |  |  |then male\n",
            "  |  |  |  |  |  |  |  |  |  |  |  |  |  |  |  |  |else if pages =< 79.5: \n",
            "  |  |  |  |  |  |  |  |  |  |  |  |  |  |  |  |  |  |then male\n",
            "  |  |  |  |  |  |  |  |  |  |  |  |  |  |  |  |  |  |else female\n",
            "  |  |  |  |  |  |  |  |  |  |  |  |  |  |  |  |else male\n",
            "  |  |  |  |  |  |  |  |  |  |  |  |  |  |  |else male\n",
            "  |  |  |  |  |  |  |  |else female\n",
            "  |  |  |  |  |  |  |else male\n",
            "  |  |  |  |  |  |else if pages =< 241.5: \n",
            "  |  |  |  |  |  |  |then if author_average_rating =< 4.06000018119812: \n",
            "  |  |  |  |  |  |  |  |then male\n",
            "  |  |  |  |  |  |  |  |else female\n",
            "  |  |  |  |  |  |  |else if num_reviews =< 196.5: \n",
            "  |  |  |  |  |  |  |  |then if num_ratings =< 204.0: \n",
            "  |  |  |  |  |  |  |  |  |then if author_average_rating =< 4.509999990463257: \n",
            "  |  |  |  |  |  |  |  |  |  |then male\n",
            "  |  |  |  |  |  |  |  |  |  |else female\n",
            "  |  |  |  |  |  |  |  |  |else if author_rating_count =< 725.0: \n",
            "  |  |  |  |  |  |  |  |  |  |then if num_ratings =< 462.5: \n",
            "  |  |  |  |  |  |  |  |  |  |  |then female\n",
            "  |  |  |  |  |  |  |  |  |  |  |else male\n",
            "  |  |  |  |  |  |  |  |  |  |else female\n",
            "  |  |  |  |  |  |  |  |else if pages =< 379.5: \n",
            "  |  |  |  |  |  |  |  |  |then if num_reviews =< 235.5: \n",
            "  |  |  |  |  |  |  |  |  |  |then male\n",
            "  |  |  |  |  |  |  |  |  |  |else female\n",
            "  |  |  |  |  |  |  |  |  |else male\n",
            "  |  |  |  |  |else if pages =< 429.5: \n",
            "  |  |  |  |  |  |then if num_reviews =< 65.5: \n",
            "  |  |  |  |  |  |  |then female\n",
            "  |  |  |  |  |  |  |else if num_ratings =< 442.0: \n",
            "  |  |  |  |  |  |  |  |then if book_average_rating =< 3.7100000381469727: \n",
            "  |  |  |  |  |  |  |  |  |then female\n",
            "  |  |  |  |  |  |  |  |  |else if author_review_count =< 802.5: \n",
            "  |  |  |  |  |  |  |  |  |  |then male\n",
            "  |  |  |  |  |  |  |  |  |  |else female\n",
            "  |  |  |  |  |  |  |  |else if num_reviews =< 215.5: \n",
            "  |  |  |  |  |  |  |  |  |then female\n",
            "  |  |  |  |  |  |  |  |  |else if num_reviews =< 255.0: \n",
            "  |  |  |  |  |  |  |  |  |  |then male\n",
            "  |  |  |  |  |  |  |  |  |  |else if author_average_rating =< 3.7350000143051147: \n",
            "  |  |  |  |  |  |  |  |  |  |  |then if book_average_rating =< 3.665000081062317: \n",
            "  |  |  |  |  |  |  |  |  |  |  |  |then female\n",
            "  |  |  |  |  |  |  |  |  |  |  |  |else male\n",
            "  |  |  |  |  |  |  |  |  |  |  |else female\n",
            "  |  |  |  |  |  |else male\n",
            "  |  |  |  |else if pages =< 263.5: \n",
            "  |  |  |  |  |then if author_average_rating =< 3.784999966621399: \n",
            "  |  |  |  |  |  |then male\n",
            "  |  |  |  |  |  |else if author_rating_count =< 10234.5: \n",
            "  |  |  |  |  |  |  |then if author_rating_count =< 6484.5: \n",
            "  |  |  |  |  |  |  |  |then if num_ratings =< 3834.5: \n",
            "  |  |  |  |  |  |  |  |  |then male\n",
            "  |  |  |  |  |  |  |  |  |else female\n",
            "  |  |  |  |  |  |  |  |else female\n",
            "  |  |  |  |  |  |  |else male\n",
            "  |  |  |  |  |else if author_average_rating =< 3.740000009536743: \n",
            "  |  |  |  |  |  |then if pages =< 386.0: \n",
            "  |  |  |  |  |  |  |then female\n",
            "  |  |  |  |  |  |  |else male\n",
            "  |  |  |  |  |  |else if author_average_rating =< 4.204999923706055: \n",
            "  |  |  |  |  |  |  |then if author_review_count =< 677.5: \n",
            "  |  |  |  |  |  |  |  |then male\n",
            "  |  |  |  |  |  |  |  |else if author_review_count =< 699.0: \n",
            "  |  |  |  |  |  |  |  |  |then female\n",
            "  |  |  |  |  |  |  |  |  |else if book_average_rating =< 3.9250000715255737: \n",
            "  |  |  |  |  |  |  |  |  |  |then if author_rating_count =< 6684.0: \n",
            "  |  |  |  |  |  |  |  |  |  |  |then female\n",
            "  |  |  |  |  |  |  |  |  |  |  |else male\n",
            "  |  |  |  |  |  |  |  |  |  |else male\n",
            "  |  |  |  |  |  |  |else if book_average_rating =< 4.269999980926514: \n",
            "  |  |  |  |  |  |  |  |then female\n",
            "  |  |  |  |  |  |  |  |else if num_ratings =< 1382.0: \n",
            "  |  |  |  |  |  |  |  |  |then female\n",
            "  |  |  |  |  |  |  |  |  |else male\n",
            "  |  |else if pages =< 571.5: \n",
            "  |  |  |then if num_ratings =< 2277.5: \n",
            "  |  |  |  |then if book_average_rating =< 3.6450001001358032: \n",
            "  |  |  |  |  |then if num_ratings =< 1815.0: \n",
            "  |  |  |  |  |  |then if author_review_count =< 9578.5: \n",
            "  |  |  |  |  |  |  |then if author_rating_count =< 4314.0: \n",
            "  |  |  |  |  |  |  |  |then female\n",
            "  |  |  |  |  |  |  |  |else if num_ratings =< 173.5: \n",
            "  |  |  |  |  |  |  |  |  |then if num_reviews =< 22.0: \n",
            "  |  |  |  |  |  |  |  |  |  |then male\n",
            "  |  |  |  |  |  |  |  |  |  |else female\n",
            "  |  |  |  |  |  |  |  |  |else if author_review_count =< 3520.5: \n",
            "  |  |  |  |  |  |  |  |  |  |then male\n",
            "  |  |  |  |  |  |  |  |  |  |else female\n",
            "  |  |  |  |  |  |  |else female\n",
            "  |  |  |  |  |  |else female\n",
            "  |  |  |  |  |else if author_review_count =< 941.5: \n",
            "  |  |  |  |  |  |then male\n",
            "  |  |  |  |  |  |else if author_rating_count =< 439535.0: \n",
            "  |  |  |  |  |  |  |then if author_review_count =< 5915.0: \n",
            "  |  |  |  |  |  |  |  |then if author_rating_count =< 69550.5: \n",
            "  |  |  |  |  |  |  |  |  |then if num_ratings =< 2023.0: \n",
            "  |  |  |  |  |  |  |  |  |  |then if author_average_rating =< 4.009999990463257: \n",
            "  |  |  |  |  |  |  |  |  |  |  |then if num_reviews =< 332.0: \n",
            "  |  |  |  |  |  |  |  |  |  |  |  |then if author_rating_count =< 5197.0: \n",
            "  |  |  |  |  |  |  |  |  |  |  |  |  |then male\n",
            "  |  |  |  |  |  |  |  |  |  |  |  |  |else if author_review_count =< 3603.5: \n",
            "  |  |  |  |  |  |  |  |  |  |  |  |  |  |then if author_rating_count =< 16855.5: \n",
            "  |  |  |  |  |  |  |  |  |  |  |  |  |  |  |then if author_rating_count =< 15332.0: \n",
            "  |  |  |  |  |  |  |  |  |  |  |  |  |  |  |  |then if author_average_rating =< 3.90500009059906: \n",
            "  |  |  |  |  |  |  |  |  |  |  |  |  |  |  |  |  |then if book_average_rating =< 3.8950001001358032: \n",
            "  |  |  |  |  |  |  |  |  |  |  |  |  |  |  |  |  |  |then female\n",
            "  |  |  |  |  |  |  |  |  |  |  |  |  |  |  |  |  |  |else male\n",
            "  |  |  |  |  |  |  |  |  |  |  |  |  |  |  |  |  |else female\n",
            "  |  |  |  |  |  |  |  |  |  |  |  |  |  |  |  |else male\n",
            "  |  |  |  |  |  |  |  |  |  |  |  |  |  |  |else female\n",
            "  |  |  |  |  |  |  |  |  |  |  |  |  |  |else if author_average_rating =< 3.7949999570846558: \n",
            "  |  |  |  |  |  |  |  |  |  |  |  |  |  |  |then female\n",
            "  |  |  |  |  |  |  |  |  |  |  |  |  |  |  |else male\n",
            "  |  |  |  |  |  |  |  |  |  |  |  |else male\n",
            "  |  |  |  |  |  |  |  |  |  |  |else if author_review_count =< 2592.5: \n",
            "  |  |  |  |  |  |  |  |  |  |  |  |then if author_review_count =< 2164.5: \n",
            "  |  |  |  |  |  |  |  |  |  |  |  |  |then if author_rating_count =< 10181.5: \n",
            "  |  |  |  |  |  |  |  |  |  |  |  |  |  |then female\n",
            "  |  |  |  |  |  |  |  |  |  |  |  |  |  |else if pages =< 343.0: \n",
            "  |  |  |  |  |  |  |  |  |  |  |  |  |  |  |then female\n",
            "  |  |  |  |  |  |  |  |  |  |  |  |  |  |  |else if author_rating_count =< 18006.5: \n",
            "  |  |  |  |  |  |  |  |  |  |  |  |  |  |  |  |then male\n",
            "  |  |  |  |  |  |  |  |  |  |  |  |  |  |  |  |else female\n",
            "  |  |  |  |  |  |  |  |  |  |  |  |  |else if num_reviews =< 180.5: \n",
            "  |  |  |  |  |  |  |  |  |  |  |  |  |  |then female\n",
            "  |  |  |  |  |  |  |  |  |  |  |  |  |  |else male\n",
            "  |  |  |  |  |  |  |  |  |  |  |  |else female\n",
            "  |  |  |  |  |  |  |  |  |  |else if num_ratings =< 2198.5: \n",
            "  |  |  |  |  |  |  |  |  |  |  |then male\n",
            "  |  |  |  |  |  |  |  |  |  |  |else female\n",
            "  |  |  |  |  |  |  |  |  |else male\n",
            "  |  |  |  |  |  |  |  |else female\n",
            "  |  |  |  |  |  |  |else male\n",
            "  |  |  |  |else if pages =< 246.5: \n",
            "  |  |  |  |  |then if num_reviews =< 1890.5: \n",
            "  |  |  |  |  |  |then if num_reviews =< 1521.5: \n",
            "  |  |  |  |  |  |  |then if author_review_count =< 3657.0: \n",
            "  |  |  |  |  |  |  |  |then if pages =< 171.0: \n",
            "  |  |  |  |  |  |  |  |  |then if num_ratings =< 10076.5: \n",
            "  |  |  |  |  |  |  |  |  |  |then if book_average_rating =< 3.700000047683716: \n",
            "  |  |  |  |  |  |  |  |  |  |  |then male\n",
            "  |  |  |  |  |  |  |  |  |  |  |else female\n",
            "  |  |  |  |  |  |  |  |  |  |else if pages =< 70.5: \n",
            "  |  |  |  |  |  |  |  |  |  |  |then female\n",
            "  |  |  |  |  |  |  |  |  |  |  |else male\n",
            "  |  |  |  |  |  |  |  |  |else if author_average_rating =< 3.774999976158142: \n",
            "  |  |  |  |  |  |  |  |  |  |then if pages =< 195.0: \n",
            "  |  |  |  |  |  |  |  |  |  |  |then male\n",
            "  |  |  |  |  |  |  |  |  |  |  |else if pages =< 216.0: \n",
            "  |  |  |  |  |  |  |  |  |  |  |  |then female\n",
            "  |  |  |  |  |  |  |  |  |  |  |  |else if author_rating_count =< 15151.5: \n",
            "  |  |  |  |  |  |  |  |  |  |  |  |  |then if author_rating_count =< 7232.5: \n",
            "  |  |  |  |  |  |  |  |  |  |  |  |  |  |then male\n",
            "  |  |  |  |  |  |  |  |  |  |  |  |  |  |else female\n",
            "  |  |  |  |  |  |  |  |  |  |  |  |  |else male\n",
            "  |  |  |  |  |  |  |  |  |  |else if num_reviews =< 302.5: \n",
            "  |  |  |  |  |  |  |  |  |  |  |then if num_reviews =< 212.0: \n",
            "  |  |  |  |  |  |  |  |  |  |  |  |then male\n",
            "  |  |  |  |  |  |  |  |  |  |  |  |else female\n",
            "  |  |  |  |  |  |  |  |  |  |  |else male\n",
            "  |  |  |  |  |  |  |  |else if author_rating_count =< 150249.0: \n",
            "  |  |  |  |  |  |  |  |  |then if num_ratings =< 4200.0: \n",
            "  |  |  |  |  |  |  |  |  |  |then if num_reviews =< 447.0: \n",
            "  |  |  |  |  |  |  |  |  |  |  |then male\n",
            "  |  |  |  |  |  |  |  |  |  |  |else female\n",
            "  |  |  |  |  |  |  |  |  |  |else if author_average_rating =< 4.375: \n",
            "  |  |  |  |  |  |  |  |  |  |  |then if author_review_count =< 5327.0: \n",
            "  |  |  |  |  |  |  |  |  |  |  |  |then if author_rating_count =< 72451.0: \n",
            "  |  |  |  |  |  |  |  |  |  |  |  |  |then female\n",
            "  |  |  |  |  |  |  |  |  |  |  |  |  |else male\n",
            "  |  |  |  |  |  |  |  |  |  |  |  |else female\n",
            "  |  |  |  |  |  |  |  |  |  |  |else male\n",
            "  |  |  |  |  |  |  |  |  |else if author_rating_count =< 382011.5: \n",
            "  |  |  |  |  |  |  |  |  |  |then if num_ratings =< 16296.5: \n",
            "  |  |  |  |  |  |  |  |  |  |  |then male\n",
            "  |  |  |  |  |  |  |  |  |  |  |else female\n",
            "  |  |  |  |  |  |  |  |  |  |else if num_ratings =< 30210.0: \n",
            "  |  |  |  |  |  |  |  |  |  |  |then female\n",
            "  |  |  |  |  |  |  |  |  |  |  |else male\n",
            "  |  |  |  |  |  |  |else male\n",
            "  |  |  |  |  |  |else if book_average_rating =< 3.8499999046325684: \n",
            "  |  |  |  |  |  |  |then if author_average_rating =< 3.509999990463257: \n",
            "  |  |  |  |  |  |  |  |then female\n",
            "  |  |  |  |  |  |  |  |else male\n",
            "  |  |  |  |  |  |  |else female\n",
            "  |  |  |  |  |else if author_average_rating =< 4.2850000858306885: \n",
            "  |  |  |  |  |  |then if author_review_count =< 1083.0: \n",
            "  |  |  |  |  |  |  |then if pages =< 434.0: \n",
            "  |  |  |  |  |  |  |  |then female\n",
            "  |  |  |  |  |  |  |  |else male\n",
            "  |  |  |  |  |  |  |else if num_reviews =< 281.0: \n",
            "  |  |  |  |  |  |  |  |then if author_review_count =< 7181.5: \n",
            "  |  |  |  |  |  |  |  |  |then if author_average_rating =< 3.7450000047683716: \n",
            "  |  |  |  |  |  |  |  |  |  |then female\n",
            "  |  |  |  |  |  |  |  |  |  |else if book_average_rating =< 4.259999990463257: \n",
            "  |  |  |  |  |  |  |  |  |  |  |then if pages =< 520.0: \n",
            "  |  |  |  |  |  |  |  |  |  |  |  |then if pages =< 280.0: \n",
            "  |  |  |  |  |  |  |  |  |  |  |  |  |then if author_review_count =< 3407.5: \n",
            "  |  |  |  |  |  |  |  |  |  |  |  |  |  |then male\n",
            "  |  |  |  |  |  |  |  |  |  |  |  |  |  |else female\n",
            "  |  |  |  |  |  |  |  |  |  |  |  |  |else male\n",
            "  |  |  |  |  |  |  |  |  |  |  |  |else female\n",
            "  |  |  |  |  |  |  |  |  |  |  |else female\n",
            "  |  |  |  |  |  |  |  |  |else if pages =< 335.0: \n",
            "  |  |  |  |  |  |  |  |  |  |then if num_reviews =< 238.0: \n",
            "  |  |  |  |  |  |  |  |  |  |  |then male\n",
            "  |  |  |  |  |  |  |  |  |  |  |else female\n",
            "  |  |  |  |  |  |  |  |  |  |else female\n",
            "  |  |  |  |  |  |  |  |else if num_ratings =< 12294.0: \n",
            "  |  |  |  |  |  |  |  |  |then if pages =< 444.5: \n",
            "  |  |  |  |  |  |  |  |  |  |then if pages =< 371.0: \n",
            "  |  |  |  |  |  |  |  |  |  |  |then if author_average_rating =< 3.9450000524520874: \n",
            "  |  |  |  |  |  |  |  |  |  |  |  |then if book_average_rating =< 3.6750000715255737: \n",
            "  |  |  |  |  |  |  |  |  |  |  |  |  |then if book_average_rating =< 3.5749999284744263: \n",
            "  |  |  |  |  |  |  |  |  |  |  |  |  |  |then if book_average_rating =< 3.274999976158142: \n",
            "  |  |  |  |  |  |  |  |  |  |  |  |  |  |  |then male\n",
            "  |  |  |  |  |  |  |  |  |  |  |  |  |  |  |else if author_average_rating =< 3.6750000715255737: \n",
            "  |  |  |  |  |  |  |  |  |  |  |  |  |  |  |  |then female\n",
            "  |  |  |  |  |  |  |  |  |  |  |  |  |  |  |  |else if author_rating_count =< 16568.0: \n",
            "  |  |  |  |  |  |  |  |  |  |  |  |  |  |  |  |  |then male\n",
            "  |  |  |  |  |  |  |  |  |  |  |  |  |  |  |  |  |else female\n",
            "  |  |  |  |  |  |  |  |  |  |  |  |  |  |else if author_rating_count =< 14741.0: \n",
            "  |  |  |  |  |  |  |  |  |  |  |  |  |  |  |then female\n",
            "  |  |  |  |  |  |  |  |  |  |  |  |  |  |  |else male\n",
            "  |  |  |  |  |  |  |  |  |  |  |  |  |else if num_ratings =< 2586.5: \n",
            "  |  |  |  |  |  |  |  |  |  |  |  |  |  |then male\n",
            "  |  |  |  |  |  |  |  |  |  |  |  |  |  |else if pages =< 300.0: \n",
            "  |  |  |  |  |  |  |  |  |  |  |  |  |  |  |then female\n",
            "  |  |  |  |  |  |  |  |  |  |  |  |  |  |  |else if author_average_rating =< 3.7949999570846558: \n",
            "  |  |  |  |  |  |  |  |  |  |  |  |  |  |  |  |then if author_average_rating =< 3.7699999809265137: \n",
            "  |  |  |  |  |  |  |  |  |  |  |  |  |  |  |  |  |then female\n",
            "  |  |  |  |  |  |  |  |  |  |  |  |  |  |  |  |  |else male\n",
            "  |  |  |  |  |  |  |  |  |  |  |  |  |  |  |  |else if num_ratings =< 4117.0: \n",
            "  |  |  |  |  |  |  |  |  |  |  |  |  |  |  |  |  |then if book_average_rating =< 3.7949999570846558: \n",
            "  |  |  |  |  |  |  |  |  |  |  |  |  |  |  |  |  |  |then female\n",
            "  |  |  |  |  |  |  |  |  |  |  |  |  |  |  |  |  |  |else male\n",
            "  |  |  |  |  |  |  |  |  |  |  |  |  |  |  |  |  |else if pages =< 309.0: \n",
            "  |  |  |  |  |  |  |  |  |  |  |  |  |  |  |  |  |  |then female\n",
            "  |  |  |  |  |  |  |  |  |  |  |  |  |  |  |  |  |  |else female\n",
            "  |  |  |  |  |  |  |  |  |  |  |  |else if author_review_count =< 1562.0: \n",
            "  |  |  |  |  |  |  |  |  |  |  |  |  |then male\n",
            "  |  |  |  |  |  |  |  |  |  |  |  |  |else if book_average_rating =< 4.244999885559082: \n",
            "  |  |  |  |  |  |  |  |  |  |  |  |  |  |then if num_reviews =< 685.5: \n",
            "  |  |  |  |  |  |  |  |  |  |  |  |  |  |  |then if book_average_rating =< 4.159999847412109: \n",
            "  |  |  |  |  |  |  |  |  |  |  |  |  |  |  |  |then if author_review_count =< 2339.5: \n",
            "  |  |  |  |  |  |  |  |  |  |  |  |  |  |  |  |  |then if pages =< 331.0: \n",
            "  |  |  |  |  |  |  |  |  |  |  |  |  |  |  |  |  |  |then male\n",
            "  |  |  |  |  |  |  |  |  |  |  |  |  |  |  |  |  |  |else female\n",
            "  |  |  |  |  |  |  |  |  |  |  |  |  |  |  |  |  |else if pages =< 320.5: \n",
            "  |  |  |  |  |  |  |  |  |  |  |  |  |  |  |  |  |  |then female\n",
            "  |  |  |  |  |  |  |  |  |  |  |  |  |  |  |  |  |  |else male\n",
            "  |  |  |  |  |  |  |  |  |  |  |  |  |  |  |  |else male\n",
            "  |  |  |  |  |  |  |  |  |  |  |  |  |  |  |else if author_review_count =< 2981.5: \n",
            "  |  |  |  |  |  |  |  |  |  |  |  |  |  |  |  |then female\n",
            "  |  |  |  |  |  |  |  |  |  |  |  |  |  |  |  |else if num_ratings =< 5222.5: \n",
            "  |  |  |  |  |  |  |  |  |  |  |  |  |  |  |  |  |then female\n",
            "  |  |  |  |  |  |  |  |  |  |  |  |  |  |  |  |  |else if book_average_rating =< 4.21999979019165: \n",
            "  |  |  |  |  |  |  |  |  |  |  |  |  |  |  |  |  |  |then male\n",
            "  |  |  |  |  |  |  |  |  |  |  |  |  |  |  |  |  |  |else female\n",
            "  |  |  |  |  |  |  |  |  |  |  |  |  |  |else female\n",
            "  |  |  |  |  |  |  |  |  |  |  |else if author_review_count =< 3138.5: \n",
            "  |  |  |  |  |  |  |  |  |  |  |  |then if author_rating_count =< 14650.5: \n",
            "  |  |  |  |  |  |  |  |  |  |  |  |  |then female\n",
            "  |  |  |  |  |  |  |  |  |  |  |  |  |else if num_reviews =< 447.0: \n",
            "  |  |  |  |  |  |  |  |  |  |  |  |  |  |then female\n",
            "  |  |  |  |  |  |  |  |  |  |  |  |  |  |else male\n",
            "  |  |  |  |  |  |  |  |  |  |  |  |else if author_rating_count =< 266180.5: \n",
            "  |  |  |  |  |  |  |  |  |  |  |  |  |then female\n",
            "  |  |  |  |  |  |  |  |  |  |  |  |  |else if author_review_count =< 16866.0: \n",
            "  |  |  |  |  |  |  |  |  |  |  |  |  |  |then male\n",
            "  |  |  |  |  |  |  |  |  |  |  |  |  |  |else female\n",
            "  |  |  |  |  |  |  |  |  |  |else if num_ratings =< 8443.0: \n",
            "  |  |  |  |  |  |  |  |  |  |  |then male\n",
            "  |  |  |  |  |  |  |  |  |  |  |else if pages =< 506.5: \n",
            "  |  |  |  |  |  |  |  |  |  |  |  |then male\n",
            "  |  |  |  |  |  |  |  |  |  |  |  |else female\n",
            "  |  |  |  |  |  |  |  |  |else if pages =< 433.0: \n",
            "  |  |  |  |  |  |  |  |  |  |then if author_average_rating =< 4.2099997997283936: \n",
            "  |  |  |  |  |  |  |  |  |  |  |then if num_reviews =< 2892.5: \n",
            "  |  |  |  |  |  |  |  |  |  |  |  |then if author_rating_count =< 62384.5: \n",
            "  |  |  |  |  |  |  |  |  |  |  |  |  |then if num_ratings =< 12610.5: \n",
            "  |  |  |  |  |  |  |  |  |  |  |  |  |  |then male\n",
            "  |  |  |  |  |  |  |  |  |  |  |  |  |  |else if book_average_rating =< 4.069999933242798: \n",
            "  |  |  |  |  |  |  |  |  |  |  |  |  |  |  |then if num_reviews =< 2386.0: \n",
            "  |  |  |  |  |  |  |  |  |  |  |  |  |  |  |  |then if num_reviews =< 1233.5: \n",
            "  |  |  |  |  |  |  |  |  |  |  |  |  |  |  |  |  |then if author_average_rating =< 3.9200000762939453: \n",
            "  |  |  |  |  |  |  |  |  |  |  |  |  |  |  |  |  |  |then male\n",
            "  |  |  |  |  |  |  |  |  |  |  |  |  |  |  |  |  |  |else female\n",
            "  |  |  |  |  |  |  |  |  |  |  |  |  |  |  |  |  |else if book_average_rating =< 3.274999976158142: \n",
            "  |  |  |  |  |  |  |  |  |  |  |  |  |  |  |  |  |  |then male\n",
            "  |  |  |  |  |  |  |  |  |  |  |  |  |  |  |  |  |  |else female\n",
            "  |  |  |  |  |  |  |  |  |  |  |  |  |  |  |  |else male\n",
            "  |  |  |  |  |  |  |  |  |  |  |  |  |  |  |else male\n",
            "  |  |  |  |  |  |  |  |  |  |  |  |  |else if book_average_rating =< 4.164999961853027: \n",
            "  |  |  |  |  |  |  |  |  |  |  |  |  |  |then if author_review_count =< 74922.5: \n",
            "  |  |  |  |  |  |  |  |  |  |  |  |  |  |  |then if num_ratings =< 35547.5: \n",
            "  |  |  |  |  |  |  |  |  |  |  |  |  |  |  |  |then male\n",
            "  |  |  |  |  |  |  |  |  |  |  |  |  |  |  |  |else if pages =< 378.0: \n",
            "  |  |  |  |  |  |  |  |  |  |  |  |  |  |  |  |  |then male\n",
            "  |  |  |  |  |  |  |  |  |  |  |  |  |  |  |  |  |else female\n",
            "  |  |  |  |  |  |  |  |  |  |  |  |  |  |  |else female\n",
            "  |  |  |  |  |  |  |  |  |  |  |  |  |  |else female\n",
            "  |  |  |  |  |  |  |  |  |  |  |  |else if author_review_count =< 22471.5: \n",
            "  |  |  |  |  |  |  |  |  |  |  |  |  |then if num_reviews =< 5449.0: \n",
            "  |  |  |  |  |  |  |  |  |  |  |  |  |  |then if author_review_count =< 4237.5: \n",
            "  |  |  |  |  |  |  |  |  |  |  |  |  |  |  |then if author_review_count =< 3780.0: \n",
            "  |  |  |  |  |  |  |  |  |  |  |  |  |  |  |  |then female\n",
            "  |  |  |  |  |  |  |  |  |  |  |  |  |  |  |  |else male\n",
            "  |  |  |  |  |  |  |  |  |  |  |  |  |  |  |else if num_ratings =< 35660.5: \n",
            "  |  |  |  |  |  |  |  |  |  |  |  |  |  |  |  |then female\n",
            "  |  |  |  |  |  |  |  |  |  |  |  |  |  |  |  |else if num_ratings =< 37468.5: \n",
            "  |  |  |  |  |  |  |  |  |  |  |  |  |  |  |  |  |then male\n",
            "  |  |  |  |  |  |  |  |  |  |  |  |  |  |  |  |  |else female\n",
            "  |  |  |  |  |  |  |  |  |  |  |  |  |  |else male\n",
            "  |  |  |  |  |  |  |  |  |  |  |  |  |else male\n",
            "  |  |  |  |  |  |  |  |  |  |  |else if author_review_count =< 5556.0: \n",
            "  |  |  |  |  |  |  |  |  |  |  |  |then male\n",
            "  |  |  |  |  |  |  |  |  |  |  |  |else female\n",
            "  |  |  |  |  |  |  |  |  |  |else if num_ratings =< 18257.5: \n",
            "  |  |  |  |  |  |  |  |  |  |  |then if book_average_rating =< 3.965000033378601: \n",
            "  |  |  |  |  |  |  |  |  |  |  |  |then female\n",
            "  |  |  |  |  |  |  |  |  |  |  |  |else male\n",
            "  |  |  |  |  |  |  |  |  |  |  |else female\n",
            "  |  |  |  |  |  |else if num_ratings =< 15233.0: \n",
            "  |  |  |  |  |  |  |then male\n",
            "  |  |  |  |  |  |  |else female\n",
            "  |  |  |else if book_average_rating =< 4.109999895095825: \n",
            "  |  |  |  |then male\n",
            "  |  |  |  |else if book_average_rating =< 4.140000104904175: \n",
            "  |  |  |  |  |then female\n",
            "  |  |  |  |  |else if author_average_rating =< 4.365000009536743: \n",
            "  |  |  |  |  |  |then if pages =< 743.0: \n",
            "  |  |  |  |  |  |  |then if author_review_count =< 2013.5: \n",
            "  |  |  |  |  |  |  |  |then male\n",
            "  |  |  |  |  |  |  |  |else if num_reviews =< 1924.5: \n",
            "  |  |  |  |  |  |  |  |  |then female\n",
            "  |  |  |  |  |  |  |  |  |else male\n",
            "  |  |  |  |  |  |  |else male\n",
            "  |  |  |  |  |  |else female\n",
            "  |else if author_review_count =< 16688.0: \n",
            "  |  |then if pages =< 212.5: \n",
            "  |  |  |then if author_rating_count =< 175557.5: \n",
            "  |  |  |  |then if author_average_rating =< 3.8499999046325684: \n",
            "  |  |  |  |  |then male\n",
            "  |  |  |  |  |else if author_average_rating =< 4.210000038146973: \n",
            "  |  |  |  |  |  |then if author_rating_count =< 58990.5: \n",
            "  |  |  |  |  |  |  |then if author_review_count =< 3867.5: \n",
            "  |  |  |  |  |  |  |  |then male\n",
            "  |  |  |  |  |  |  |  |else female\n",
            "  |  |  |  |  |  |  |else female\n",
            "  |  |  |  |  |  |else male\n",
            "  |  |  |  |else if author_rating_count =< 363343.5: \n",
            "  |  |  |  |  |then male\n",
            "  |  |  |  |  |else female\n",
            "  |  |  |else if author_rating_count =< 47570.0: \n",
            "  |  |  |  |then female\n",
            "  |  |  |  |else if author_review_count =< 13024.5: \n",
            "  |  |  |  |  |then if num_ratings =< 445402.0: \n",
            "  |  |  |  |  |  |then if author_average_rating =< 3.6750000715255737: \n",
            "  |  |  |  |  |  |  |then if author_review_count =< 8887.0: \n",
            "  |  |  |  |  |  |  |  |then female\n",
            "  |  |  |  |  |  |  |  |else male\n",
            "  |  |  |  |  |  |  |else if num_reviews =< 1876.5: \n",
            "  |  |  |  |  |  |  |  |then if num_reviews =< 1688.0: \n",
            "  |  |  |  |  |  |  |  |  |then male\n",
            "  |  |  |  |  |  |  |  |  |else female\n",
            "  |  |  |  |  |  |  |  |else male\n",
            "  |  |  |  |  |  |else if author_rating_count =< 559545.0: \n",
            "  |  |  |  |  |  |  |then female\n",
            "  |  |  |  |  |  |  |else male\n",
            "  |  |  |  |  |else if pages =< 437.0: \n",
            "  |  |  |  |  |  |then if author_review_count =< 13599.5: \n",
            "  |  |  |  |  |  |  |then female\n",
            "  |  |  |  |  |  |  |else male\n",
            "  |  |  |  |  |  |else if pages =< 549.5: \n",
            "  |  |  |  |  |  |  |then female\n",
            "  |  |  |  |  |  |  |else male\n",
            "  |  |else if author_average_rating =< 3.9550000429153442: \n",
            "  |  |  |then if pages =< 325.5: \n",
            "  |  |  |  |then if pages =< 281.5: \n",
            "  |  |  |  |  |then if num_ratings =< 112158.0: \n",
            "  |  |  |  |  |  |then female\n",
            "  |  |  |  |  |  |else if author_average_rating =< 3.799999952316284: \n",
            "  |  |  |  |  |  |  |then female\n",
            "  |  |  |  |  |  |  |else male\n",
            "  |  |  |  |  |else female\n",
            "  |  |  |  |else if author_rating_count =< 1295582.0: \n",
            "  |  |  |  |  |then if author_average_rating =< 3.5800000429153442: \n",
            "  |  |  |  |  |  |then male\n",
            "  |  |  |  |  |  |else if pages =< 340.5: \n",
            "  |  |  |  |  |  |  |then male\n",
            "  |  |  |  |  |  |  |else if book_average_rating =< 3.509999990463257: \n",
            "  |  |  |  |  |  |  |  |then male\n",
            "  |  |  |  |  |  |  |  |else female\n",
            "  |  |  |  |  |else if pages =< 353.0: \n",
            "  |  |  |  |  |  |then if pages =< 331.0: \n",
            "  |  |  |  |  |  |  |then male\n",
            "  |  |  |  |  |  |  |else female\n",
            "  |  |  |  |  |  |else male\n",
            "  |  |  |else if author_average_rating =< 4.129999876022339: \n",
            "  |  |  |  |then if num_reviews =< 2087.5: \n",
            "  |  |  |  |  |then female\n",
            "  |  |  |  |  |else if num_reviews =< 59463.5: \n",
            "  |  |  |  |  |  |then if num_ratings =< 998154.0: \n",
            "  |  |  |  |  |  |  |then if pages =< 194.5: \n",
            "  |  |  |  |  |  |  |  |then if pages =< 179.0: \n",
            "  |  |  |  |  |  |  |  |  |then male\n",
            "  |  |  |  |  |  |  |  |  |else female\n",
            "  |  |  |  |  |  |  |  |else if author_review_count =< 159943.0: \n",
            "  |  |  |  |  |  |  |  |  |then male\n",
            "  |  |  |  |  |  |  |  |  |else if num_ratings =< 277148.0: \n",
            "  |  |  |  |  |  |  |  |  |  |then male\n",
            "  |  |  |  |  |  |  |  |  |  |else female\n",
            "  |  |  |  |  |  |  |else if author_rating_count =< 1436643.5: \n",
            "  |  |  |  |  |  |  |  |then female\n",
            "  |  |  |  |  |  |  |  |else male\n",
            "  |  |  |  |  |  |else female\n",
            "  |  |  |  |else if pages =< 262.0: \n",
            "  |  |  |  |  |then male\n",
            "  |  |  |  |  |else if pages =< 358.5: \n",
            "  |  |  |  |  |  |then female\n",
            "  |  |  |  |  |  |else if num_ratings =< 157961.0: \n",
            "  |  |  |  |  |  |  |then if author_rating_count =< 776726.0: \n",
            "  |  |  |  |  |  |  |  |then if book_average_rating =< 4.0950000286102295: \n",
            "  |  |  |  |  |  |  |  |  |then female\n",
            "  |  |  |  |  |  |  |  |  |else male\n",
            "  |  |  |  |  |  |  |  |else female\n",
            "  |  |  |  |  |  |  |else male\n",
            "<---------------------------------------------------->\n",
            "Tree Depth:  18\n",
            "\n",
            "Accuracy: 0.99 (0.99,1.00)\n",
            "\n",
            "Confusion Matrix:\n",
            "        male  female\n",
            "male     567       5\n",
            "female     3     482\n"
          ],
          "name": "stdout"
        }
      ]
    },
    {
      "cell_type": "markdown",
      "metadata": {
        "id": "8MDtOiPbgacK"
      },
      "source": [
        "This model is complex, but has a high accuracy. Few author genders are miscategorized according to the confusion matrix."
      ]
    },
    {
      "cell_type": "markdown",
      "metadata": {
        "id": "qgJCX-o24lrW"
      },
      "source": [
        "The graph below almost reflects the initial graph of the main factors in the decision tree for the overall dataset. It is interesting to note that in the graph above female authors are mostly clustered towards the lower values, under the decision surfaces. The most popular author is female, but between this point and the main cluster is mostly male. Books by male authors will be reviewed more frequently than those by female authors. "
      ]
    },
    {
      "cell_type": "code",
      "metadata": {
        "colab": {
          "base_uri": "https://localhost:8080/",
          "height": 623
        },
        "id": "AiinzxekLi8v",
        "outputId": "d5f3843b-4ef0-4d4e-fde3-44d2f531d2cc"
      },
      "source": [
        "# isolating labels\n",
        "US_f_df = df4[df4['author_gender'] == 'female']\n",
        "US_m_df = df4[df4['author_gender'] == 'male']\n",
        "\n",
        "# scatter plot of the data\n",
        "plt.figure(figsize = (20, 10))\n",
        "plt.plot(US_m_df['num_ratings'], US_m_df['author_review_count'], 'go')\n",
        "plt.plot(US_f_df['num_ratings'], US_f_df['author_review_count'], 'ro')\n",
        "plt.xlabel('num_ratings')\n",
        "plt.ylabel('author_review_count')\n",
        "plt.legend(['male', 'female'])\n",
        "\n",
        "# plotting the decision surfaces\n",
        "# pages\n",
        "plt.plot([40063,40063], [0,350000], 'k--')\n",
        "plt.plot([0,2000000], [16688,16688], 'k--')"
      ],
      "execution_count": null,
      "outputs": [
        {
          "output_type": "execute_result",
          "data": {
            "text/plain": [
              "[<matplotlib.lines.Line2D at 0x7f116549f4d0>]"
            ]
          },
          "metadata": {
            "tags": []
          },
          "execution_count": 288
        },
        {
          "output_type": "display_data",
          "data": {
            "image/png": "[encoded data removed]",
            "text/plain": [
              "<Figure size 1440x720 with 1 Axes>"
            ]
          },
          "metadata": {
            "tags": [],
            "needs_background": "light"
          }
        }
      ]
    },
    {
      "cell_type": "markdown",
      "metadata": {
        "id": "cuvaGaoH2KU9"
      },
      "source": [
        "### **3. Comparison**"
      ]
    },
    {
      "cell_type": "code",
      "metadata": {
        "colab": {
          "base_uri": "https://localhost:8080/"
        },
        "id": "snIlxQdI2Jdm",
        "outputId": "99305d5f-c892-4dc6-85b3-2be88a0dffb6"
      },
      "source": [
        "print(\"Outside U.S.:\\n{:3.2f} ({:3.2f},{:3.2f})\".format(n_US_tree_acc,n_US_tree_lb,n_US_tree_ub))\n",
        "print('')\n",
        "print(\"Inside U.S.:\\n{:3.2f} ({:3.2f},{:3.2f})\".format(US_tree_acc,US_tree_lb,US_tree_ub))"
      ],
      "execution_count": null,
      "outputs": [
        {
          "output_type": "stream",
          "text": [
            "Outside U.S.:\n",
            "0.65 (0.61,0.69)\n",
            "\n",
            "Inside U.S.:\n",
            "0.99 (0.99,1.00)\n"
          ],
          "name": "stdout"
        }
      ]
    },
    {
      "cell_type": "markdown",
      "metadata": {
        "id": "YD9eKE9M2Is5"
      },
      "source": [
        "Above are the accuracy scores and confidence intervals for the decision tree models built for authors born inside the U.S. and outside the U.S. \n",
        "\n",
        "For authors born in the U.S., their gender can be predicted based on popularity ie number of ratings. Male authors are more popular in the U.S.\n",
        "\n",
        "For authors outside of the U.S., their gender can be predicted based on the rating of the actual book. "
      ]
    },
    {
      "cell_type": "markdown",
      "metadata": {
        "id": "cVqqf42ddwb-"
      },
      "source": [
        "# **4. Conclusions/Discussion**"
      ]
    },
    {
      "cell_type": "markdown",
      "metadata": {
        "id": "SHmOup_CCj9T"
      },
      "source": [
        "## **1. Is there a discrepancy in the ratings for male versus female authors, or are they equal?**"
      ]
    },
    {
      "cell_type": "markdown",
      "metadata": {
        "id": "o7JZuiTbCr7y"
      },
      "source": [
        "As discussed in 3A, there is little difference in ratings between male and female authors. "
      ]
    },
    {
      "cell_type": "code",
      "metadata": {
        "colab": {
          "base_uri": "https://localhost:8080/"
        },
        "id": "74A4CKS7Czon",
        "outputId": "bc8e863e-80a3-4785-e36e-ec60e4755963"
      },
      "source": [
        "print('Average Author Rating (0 - 5) Difference: {}'.format(m_aut_avg - f_aut_avg))\n",
        "print('Average Book Rating (0 - 5) Difference: {}'.format(m_bk_avg - f_bk_avg))"
      ],
      "execution_count": null,
      "outputs": [
        {
          "output_type": "stream",
          "text": [
            "Average Author Rating (0 - 5) Difference: 0.013322495367642961\n",
            "Average Book Rating (0 - 5) Difference: 0.020504973900127066\n"
          ],
          "name": "stdout"
        }
      ]
    },
    {
      "cell_type": "markdown",
      "metadata": {
        "id": "lf19DZkGDasb"
      },
      "source": [
        "The difference between male and female author ratings is .008 and the difference between male and female book ratings is .004. This suggests that male and female authors are rated nearly equally. This gives more weight to the factors that predict the author's gender."
      ]
    },
    {
      "cell_type": "markdown",
      "metadata": {
        "id": "aBRdrFE7CnvX"
      },
      "source": [
        "## **2. Is there a trend in readers' taste based on gender? ie Can a book's author's gender be predicted from parts of a book review? If so, which factors**"
      ]
    },
    {
      "cell_type": "markdown",
      "metadata": {
        "id": "7Tias9syDwrr"
      },
      "source": [
        "From analysis of the overall dataset, **yes**. Recall the accuracy scores for the **KNN** and **Decision Tree** models:"
      ]
    },
    {
      "cell_type": "code",
      "metadata": {
        "colab": {
          "base_uri": "https://localhost:8080/"
        },
        "id": "X4J_p-MjEHr4",
        "outputId": "59c939d7-01c7-4fed-8d03-219f1b00de3d"
      },
      "source": [
        "print(\"KNN:\\n{:3.2f} ({:3.2f},{:3.2f})\".format(acc_KNN,lb_KNN,ub_KNN))\n",
        "print(\"\")\n",
        "print(\"Decision Tree:\\n{:3.2f} ({:3.2f},{:3.2f})\".format(tree_acc,tree_lb,tree_ub))"
      ],
      "execution_count": null,
      "outputs": [
        {
          "output_type": "stream",
          "text": [
            "KNN:\n",
            "0.76 (0.75,0.78)\n",
            "\n",
            "Decision Tree:\n",
            "0.77 (0.75,0.79)\n"
          ],
          "name": "stdout"
        }
      ]
    },
    {
      "cell_type": "markdown",
      "metadata": {
        "id": "jJ4MevTATAWD"
      },
      "source": [
        "According to the **KNN model**, points could be classified with 3 neighbors. This suggests that there is a clustering of author genders within the dataset."
      ]
    },
    {
      "cell_type": "markdown",
      "metadata": {
        "id": "8bM1H5ftIgql"
      },
      "source": [
        "According the **Decision Tree**, the major factors in predicting author gender were: \n",
        "* pages\n",
        "* num_ratings\n",
        "* author_rating_count\n",
        "\n",
        "The number of pages in the decision tree was higher than average:"
      ]
    },
    {
      "cell_type": "code",
      "metadata": {
        "colab": {
          "base_uri": "https://localhost:8080/"
        },
        "id": "zWuZ8OX9UHEm",
        "outputId": "2c1ee87f-2e2a-4750-ba87-5a78e2769ae1"
      },
      "source": [
        "# get average book length\n",
        "X['pages'].mean()"
      ],
      "execution_count": null,
      "outputs": [
        {
          "output_type": "execute_result",
          "data": {
            "text/plain": [
              "319.00567644276254"
            ]
          },
          "metadata": {
            "tags": []
          },
          "execution_count": 292
        }
      ]
    },
    {
      "cell_type": "markdown",
      "metadata": {
        "id": "7HN4TKeRUHEm"
      },
      "source": [
        "The average book in the dataset has 333 pages. Even if the book is almost twice as long as average, if there are not many ratings then the author is likely to be **female**. \n",
        "\n",
        "**Male** authors are rated much more frequently than **female** authors who write books with the same number of pages. This suggests that **male** authors are more popular than **female** authors, even though their is no discrepancy in the actual book and author ratings. Considering that the **author_gender** variable is balanced, **female** authors who write longer books are overlooked. \n",
        "\n",
        "It is important to note that the dataset is made up of the most popular and highly regarded books on Goodreads. Assuming most of these are the unofficial Western canon of **male** authors which tend to be long. **Male** authors are allowed to write longer books, but the book has to be shorter for **female** authors to get attention."
      ]
    },
    {
      "cell_type": "markdown",
      "metadata": {
        "id": "Ii7R-BFWCpiy"
      },
      "source": [
        "## **3. Are these factors the same for authors born in the United States versus other countries?**"
      ]
    },
    {
      "cell_type": "markdown",
      "metadata": {
        "id": "1Vc7Fd8zD6RN"
      },
      "source": [
        "For authors born in the U.S., the major factors in predicting gender were solely based on popularity: **num_ratings** and **average_author_rating**. This is consistent with the second level factors of the overall dataset.\n",
        "\n",
        "For authors born outside the U.S., the major factor was **book_average_rating**. This model was flawed and categorized all authors as **male**. It is interesting that this model was the only model to have the book rating as a major factor. Even in the decision tree without a specified depth, the first few levels all related to actual ratings (Appendix 2.3). \n",
        "\n",
        "The author_gender variable was not as balanced for this subset, so this needs further investigation. This suggests that it does not matter how popular the book is, but the attitude of Goodreads users in the U.S. alone towards authors born outside of the U.S.. There is a slight bias in U.S. readers to rate male authors born outside of the U.S. higher than female authors born outside of the U.S.."
      ]
    },
    {
      "cell_type": "markdown",
      "metadata": {
        "id": "tW29I7OYrzWu"
      },
      "source": [
        "## **4. Closing**"
      ]
    },
    {
      "cell_type": "markdown",
      "metadata": {
        "id": "_Y_SglTCpQf8"
      },
      "source": [
        "Female authors in the U.S. face difficulty in being noticed overall, but do not face the same scrutiny that people born outside of the U.S., especially female authors, experience from U.S. readers. "
      ]
    },
    {
      "cell_type": "code",
      "metadata": {
        "colab": {
          "base_uri": "https://localhost:8080/",
          "height": 265
        },
        "id": "2wbpSfO-ithX",
        "outputId": "7249b6c0-f748-4411-c95a-4c885f946548"
      },
      "source": [
        "# plot pie chart of labels\n",
        "plot_series = df3['birthplace'].rename('')\n",
        "plot_series.rename('').value_counts().plot.pie()"
      ],
      "execution_count": null,
      "outputs": [
        {
          "output_type": "execute_result",
          "data": {
            "text/plain": [
              "<matplotlib.axes._subplots.AxesSubplot at 0x7f11654b7150>"
            ]
          },
          "metadata": {
            "tags": []
          },
          "execution_count": 293
        },
        {
          "output_type": "display_data",
          "data": {
            "image/png": "[encoded data removed]",
            "text/plain": [
              "<Figure size 432x288 with 1 Axes>"
            ]
          },
          "metadata": {
            "tags": []
          }
        }
      ]
    },
    {
      "cell_type": "markdown",
      "metadata": {
        "id": "b32wDgDivSEX"
      },
      "source": [
        "In looking at the breakdown of birthplaces outside the U.S. (above), most authors are European. A majority of the authors are from the United Kingdom. This is hardly diverse.\n",
        "\n",
        "While there is no discrepancy in ratings between genders, women are still expected to perform differently. Male authors are given more leeway. Expectations are higher for authors born outside of the U.S., especially female authors. The U.S. has made progress internally regarding gender equality in literature, but still has ways to go for the attitude towards authors from the rest of the world.\n",
        "\n",
        "A closer analysis is needed between ratings of authors from English-speaking /European countries and the rest of the world. It would also be beneficial to analyze the average user of Goodreads to get an idea of who exactly is reviewing the books. "
      ]
    },
    {
      "cell_type": "markdown",
      "metadata": {
        "id": "qTHZvGJ3d0Q8"
      },
      "source": [
        "# **5. Appendix**"
      ]
    },
    {
      "cell_type": "markdown",
      "metadata": {
        "id": "WNgcgYyivlSd"
      },
      "source": [
        "## 1. Statistics"
      ]
    },
    {
      "cell_type": "markdown",
      "metadata": {
        "id": "3N__xUrewDih"
      },
      "source": [
        "The two graphs below illustrate the little difference between book ratings and author ratings in the overall dataset."
      ]
    },
    {
      "cell_type": "markdown",
      "metadata": {
        "id": "IfTdPNODwTOU"
      },
      "source": [
        "#### 1.1 Average book rating in dataset"
      ]
    },
    {
      "cell_type": "code",
      "metadata": {
        "colab": {
          "base_uri": "https://localhost:8080/",
          "height": 351
        },
        "id": "Ip0QaV9j006U",
        "outputId": "ab89b055-d5e1-4b03-a4ec-12fda5249df1"
      },
      "source": [
        "sns.barplot(df2['author_gender'], df2['book_average_rating'])"
      ],
      "execution_count": null,
      "outputs": [
        {
          "output_type": "stream",
          "text": [
            "/usr/local/lib/python3.7/dist-packages/seaborn/_decorators.py:43: FutureWarning: Pass the following variables as keyword args: x, y. From version 0.12, the only valid positional argument will be `data`, and passing other arguments without an explicit keyword will result in an error or misinterpretation.\n",
            "  FutureWarning\n"
          ],
          "name": "stderr"
        },
        {
          "output_type": "execute_result",
          "data": {
            "text/plain": [
              "<matplotlib.axes._subplots.AxesSubplot at 0x7f11654b7290>"
            ]
          },
          "metadata": {
            "tags": []
          },
          "execution_count": 294
        },
        {
          "output_type": "display_data",
          "data": {
            "image/png": "[encoded data removed]",
            "text/plain": [
              "<Figure size 432x288 with 1 Axes>"
            ]
          },
          "metadata": {
            "tags": [],
            "needs_background": "light"
          }
        }
      ]
    },
    {
      "cell_type": "markdown",
      "metadata": {
        "id": "Pl92F6TEwX8F"
      },
      "source": [
        "#### 1.2 Average author rating in dataset"
      ]
    },
    {
      "cell_type": "code",
      "metadata": {
        "colab": {
          "base_uri": "https://localhost:8080/",
          "height": 351
        },
        "id": "qPwJmKnhkjvw",
        "outputId": "6dcc1451-b46d-4523-861d-c0288d1b18cb"
      },
      "source": [
        "sns.barplot(df2['author_gender'], df2['author_average_rating'])"
      ],
      "execution_count": null,
      "outputs": [
        {
          "output_type": "stream",
          "text": [
            "/usr/local/lib/python3.7/dist-packages/seaborn/_decorators.py:43: FutureWarning: Pass the following variables as keyword args: x, y. From version 0.12, the only valid positional argument will be `data`, and passing other arguments without an explicit keyword will result in an error or misinterpretation.\n",
            "  FutureWarning\n"
          ],
          "name": "stderr"
        },
        {
          "output_type": "execute_result",
          "data": {
            "text/plain": [
              "<matplotlib.axes._subplots.AxesSubplot at 0x7f11651da810>"
            ]
          },
          "metadata": {
            "tags": []
          },
          "execution_count": 295
        },
        {
          "output_type": "display_data",
          "data": {
            "image/png": "[encoded data removed]",
            "text/plain": [
              "<Figure size 432x288 with 1 Axes>"
            ]
          },
          "metadata": {
            "tags": [],
            "needs_background": "light"
          }
        }
      ]
    },
    {
      "cell_type": "markdown",
      "metadata": {
        "id": "FL-_4b1g7X_-"
      },
      "source": [
        "## 2. Decision Tree"
      ]
    },
    {
      "cell_type": "markdown",
      "metadata": {
        "id": "emeowBtsw5b1"
      },
      "source": [
        "#### 2.1 Overall dataset decision tree for max depth"
      ]
    },
    {
      "cell_type": "markdown",
      "metadata": {
        "id": "Mj7pE71puOHS"
      },
      "source": [
        "The max depth for the grid search over the dataset was needed. A decision tree without a max depth specified was used to find the max range.\n",
        "The max tree depth is 26, so the range for the grid search is (1, 27)."
      ]
    },
    {
      "cell_type": "code",
      "metadata": {
        "colab": {
          "base_uri": "https://localhost:8080/"
        },
        "id": "30HiWf33uQmN",
        "outputId": "60e2fd86-24bc-4cb1-bc7c-af7332d6ae51"
      },
      "source": [
        "# build and train model\n",
        "model = DecisionTreeClassifier(max_depth= None, random_state=1)\n",
        "model.fit(X, y)\n",
        "\n",
        "# print tree without limit on max depth to get range\n",
        "tree_print(model, X)\n",
        "\n",
        "# accuracy of best model with confidence interval\n",
        "predict_y = model.predict(X)\n",
        "acc = accuracy_score(y, predict_y)\n",
        "lb,ub = classification_confint(acc,X.shape[0])\n",
        "print(\"Accuracy: {:3.2f} ({:3.2f},{:3.2f})\".format(acc,lb,ub))"
      ],
      "execution_count": null,
      "outputs": [
        {
          "output_type": "stream",
          "text": [
            "if num_ratings =< 40063.0: \n",
            "  |then if author_review_count =< 899.0: \n",
            "  |  |then if author_average_rating =< 3.6350001096725464: \n",
            "  |  |  |then if author_average_rating =< 3.534999966621399: \n",
            "  |  |  |  |then if author_rating_count =< 1598.0: \n",
            "  |  |  |  |  |then if num_reviews =< 119.0: \n",
            "  |  |  |  |  |  |then male\n",
            "  |  |  |  |  |  |else if author_review_count =< 177.0: \n",
            "  |  |  |  |  |  |  |then female\n",
            "  |  |  |  |  |  |  |else male\n",
            "  |  |  |  |  |else if author_review_count =< 395.0: \n",
            "  |  |  |  |  |  |then female\n",
            "  |  |  |  |  |  |else if book_average_rating =< 3.659999966621399: \n",
            "  |  |  |  |  |  |  |then if book_average_rating =< 3.1350001096725464: \n",
            "  |  |  |  |  |  |  |  |then female\n",
            "  |  |  |  |  |  |  |  |else male\n",
            "  |  |  |  |  |  |  |else female\n",
            "  |  |  |  |else male\n",
            "  |  |  |else if author_rating_count =< 5093.5: \n",
            "  |  |  |  |then if author_review_count =< 361.5: \n",
            "  |  |  |  |  |then if num_reviews =< 73.0: \n",
            "  |  |  |  |  |  |then if num_reviews =< 56.5: \n",
            "  |  |  |  |  |  |  |then if num_ratings =< 453.5: \n",
            "  |  |  |  |  |  |  |  |then if author_rating_count =< 19.5: \n",
            "  |  |  |  |  |  |  |  |  |then female\n",
            "  |  |  |  |  |  |  |  |  |else if pages =< 24.5: \n",
            "  |  |  |  |  |  |  |  |  |  |then female\n",
            "  |  |  |  |  |  |  |  |  |  |else if num_reviews =< 12.5: \n",
            "  |  |  |  |  |  |  |  |  |  |  |then if num_reviews =< 4.5: \n",
            "  |  |  |  |  |  |  |  |  |  |  |  |then if pages =< 301.5: \n",
            "  |  |  |  |  |  |  |  |  |  |  |  |  |then if author_review_count =< 8.0: \n",
            "  |  |  |  |  |  |  |  |  |  |  |  |  |  |then male\n",
            "  |  |  |  |  |  |  |  |  |  |  |  |  |  |else female\n",
            "  |  |  |  |  |  |  |  |  |  |  |  |  |else male\n",
            "  |  |  |  |  |  |  |  |  |  |  |  |else male\n",
            "  |  |  |  |  |  |  |  |  |  |  |else if num_ratings =< 48.0: \n",
            "  |  |  |  |  |  |  |  |  |  |  |  |then if book_average_rating =< 4.139999866485596: \n",
            "  |  |  |  |  |  |  |  |  |  |  |  |  |then female\n",
            "  |  |  |  |  |  |  |  |  |  |  |  |  |else if book_average_rating =< 4.2799999713897705: \n",
            "  |  |  |  |  |  |  |  |  |  |  |  |  |  |then male\n",
            "  |  |  |  |  |  |  |  |  |  |  |  |  |  |else if num_ratings =< 23.0: \n",
            "  |  |  |  |  |  |  |  |  |  |  |  |  |  |  |then male\n",
            "  |  |  |  |  |  |  |  |  |  |  |  |  |  |  |else female\n",
            "  |  |  |  |  |  |  |  |  |  |  |  |else if book_average_rating =< 3.975000023841858: \n",
            "  |  |  |  |  |  |  |  |  |  |  |  |  |then if book_average_rating =< 3.6450001001358032: \n",
            "  |  |  |  |  |  |  |  |  |  |  |  |  |  |then if author_rating_count =< 134.5: \n",
            "  |  |  |  |  |  |  |  |  |  |  |  |  |  |  |then male\n",
            "  |  |  |  |  |  |  |  |  |  |  |  |  |  |  |else if num_reviews =< 42.0: \n",
            "  |  |  |  |  |  |  |  |  |  |  |  |  |  |  |  |then female\n",
            "  |  |  |  |  |  |  |  |  |  |  |  |  |  |  |  |else male\n",
            "  |  |  |  |  |  |  |  |  |  |  |  |  |  |else if author_rating_count =< 162.5: \n",
            "  |  |  |  |  |  |  |  |  |  |  |  |  |  |  |then if author_rating_count =< 149.5: \n",
            "  |  |  |  |  |  |  |  |  |  |  |  |  |  |  |  |then if pages =< 277.0: \n",
            "  |  |  |  |  |  |  |  |  |  |  |  |  |  |  |  |  |then female\n",
            "  |  |  |  |  |  |  |  |  |  |  |  |  |  |  |  |  |else male\n",
            "  |  |  |  |  |  |  |  |  |  |  |  |  |  |  |  |else female\n",
            "  |  |  |  |  |  |  |  |  |  |  |  |  |  |  |else male\n",
            "  |  |  |  |  |  |  |  |  |  |  |  |  |else if author_average_rating =< 4.0299999713897705: \n",
            "  |  |  |  |  |  |  |  |  |  |  |  |  |  |then if author_rating_count =< 1053.5: \n",
            "  |  |  |  |  |  |  |  |  |  |  |  |  |  |  |then female\n",
            "  |  |  |  |  |  |  |  |  |  |  |  |  |  |  |else male\n",
            "  |  |  |  |  |  |  |  |  |  |  |  |  |  |else if num_ratings =< 111.5: \n",
            "  |  |  |  |  |  |  |  |  |  |  |  |  |  |  |then if num_reviews =< 31.5: \n",
            "  |  |  |  |  |  |  |  |  |  |  |  |  |  |  |  |then if author_rating_count =< 74.0: \n",
            "  |  |  |  |  |  |  |  |  |  |  |  |  |  |  |  |  |then male\n",
            "  |  |  |  |  |  |  |  |  |  |  |  |  |  |  |  |  |else if pages =< 79.5: \n",
            "  |  |  |  |  |  |  |  |  |  |  |  |  |  |  |  |  |  |then male\n",
            "  |  |  |  |  |  |  |  |  |  |  |  |  |  |  |  |  |  |else female\n",
            "  |  |  |  |  |  |  |  |  |  |  |  |  |  |  |  |else male\n",
            "  |  |  |  |  |  |  |  |  |  |  |  |  |  |  |else male\n",
            "  |  |  |  |  |  |  |  |else female\n",
            "  |  |  |  |  |  |  |else male\n",
            "  |  |  |  |  |  |else if pages =< 241.5: \n",
            "  |  |  |  |  |  |  |then if author_average_rating =< 4.06000018119812: \n",
            "  |  |  |  |  |  |  |  |then male\n",
            "  |  |  |  |  |  |  |  |else female\n",
            "  |  |  |  |  |  |  |else if num_reviews =< 196.5: \n",
            "  |  |  |  |  |  |  |  |then if num_ratings =< 204.0: \n",
            "  |  |  |  |  |  |  |  |  |then if author_average_rating =< 4.509999990463257: \n",
            "  |  |  |  |  |  |  |  |  |  |then male\n",
            "  |  |  |  |  |  |  |  |  |  |else female\n",
            "  |  |  |  |  |  |  |  |  |else if author_rating_count =< 725.0: \n",
            "  |  |  |  |  |  |  |  |  |  |then if num_ratings =< 462.5: \n",
            "  |  |  |  |  |  |  |  |  |  |  |then female\n",
            "  |  |  |  |  |  |  |  |  |  |  |else male\n",
            "  |  |  |  |  |  |  |  |  |  |else female\n",
            "  |  |  |  |  |  |  |  |else if pages =< 379.5: \n",
            "  |  |  |  |  |  |  |  |  |then if num_reviews =< 235.5: \n",
            "  |  |  |  |  |  |  |  |  |  |then male\n",
            "  |  |  |  |  |  |  |  |  |  |else female\n",
            "  |  |  |  |  |  |  |  |  |else male\n",
            "  |  |  |  |  |else if pages =< 429.5: \n",
            "  |  |  |  |  |  |then if num_reviews =< 65.5: \n",
            "  |  |  |  |  |  |  |then female\n",
            "  |  |  |  |  |  |  |else if num_ratings =< 442.0: \n",
            "  |  |  |  |  |  |  |  |then if book_average_rating =< 3.7100000381469727: \n",
            "  |  |  |  |  |  |  |  |  |then female\n",
            "  |  |  |  |  |  |  |  |  |else if author_review_count =< 802.5: \n",
            "  |  |  |  |  |  |  |  |  |  |then male\n",
            "  |  |  |  |  |  |  |  |  |  |else female\n",
            "  |  |  |  |  |  |  |  |else if num_reviews =< 215.5: \n",
            "  |  |  |  |  |  |  |  |  |then female\n",
            "  |  |  |  |  |  |  |  |  |else if num_reviews =< 255.0: \n",
            "  |  |  |  |  |  |  |  |  |  |then male\n",
            "  |  |  |  |  |  |  |  |  |  |else if author_average_rating =< 3.7350000143051147: \n",
            "  |  |  |  |  |  |  |  |  |  |  |then if book_average_rating =< 3.665000081062317: \n",
            "  |  |  |  |  |  |  |  |  |  |  |  |then female\n",
            "  |  |  |  |  |  |  |  |  |  |  |  |else male\n",
            "  |  |  |  |  |  |  |  |  |  |  |else female\n",
            "  |  |  |  |  |  |else male\n",
            "  |  |  |  |else if pages =< 263.5: \n",
            "  |  |  |  |  |then if author_average_rating =< 3.784999966621399: \n",
            "  |  |  |  |  |  |then male\n",
            "  |  |  |  |  |  |else if author_rating_count =< 10234.5: \n",
            "  |  |  |  |  |  |  |then if author_rating_count =< 6484.5: \n",
            "  |  |  |  |  |  |  |  |then if num_ratings =< 3834.5: \n",
            "  |  |  |  |  |  |  |  |  |then male\n",
            "  |  |  |  |  |  |  |  |  |else female\n",
            "  |  |  |  |  |  |  |  |else female\n",
            "  |  |  |  |  |  |  |else male\n",
            "  |  |  |  |  |else if author_average_rating =< 3.740000009536743: \n",
            "  |  |  |  |  |  |then if pages =< 386.0: \n",
            "  |  |  |  |  |  |  |then female\n",
            "  |  |  |  |  |  |  |else male\n",
            "  |  |  |  |  |  |else if author_average_rating =< 4.204999923706055: \n",
            "  |  |  |  |  |  |  |then if author_review_count =< 677.5: \n",
            "  |  |  |  |  |  |  |  |then male\n",
            "  |  |  |  |  |  |  |  |else if author_review_count =< 699.0: \n",
            "  |  |  |  |  |  |  |  |  |then female\n",
            "  |  |  |  |  |  |  |  |  |else if book_average_rating =< 3.9250000715255737: \n",
            "  |  |  |  |  |  |  |  |  |  |then if author_rating_count =< 6684.0: \n",
            "  |  |  |  |  |  |  |  |  |  |  |then female\n",
            "  |  |  |  |  |  |  |  |  |  |  |else male\n",
            "  |  |  |  |  |  |  |  |  |  |else male\n",
            "  |  |  |  |  |  |  |else if book_average_rating =< 4.269999980926514: \n",
            "  |  |  |  |  |  |  |  |then female\n",
            "  |  |  |  |  |  |  |  |else if num_ratings =< 1382.0: \n",
            "  |  |  |  |  |  |  |  |  |then female\n",
            "  |  |  |  |  |  |  |  |  |else male\n",
            "  |  |else if pages =< 571.5: \n",
            "  |  |  |then if num_ratings =< 2277.5: \n",
            "  |  |  |  |then if book_average_rating =< 3.6450001001358032: \n",
            "  |  |  |  |  |then if num_ratings =< 1815.0: \n",
            "  |  |  |  |  |  |then if author_review_count =< 9578.5: \n",
            "  |  |  |  |  |  |  |then if author_rating_count =< 4314.0: \n",
            "  |  |  |  |  |  |  |  |then female\n",
            "  |  |  |  |  |  |  |  |else if num_ratings =< 173.5: \n",
            "  |  |  |  |  |  |  |  |  |then if num_reviews =< 22.0: \n",
            "  |  |  |  |  |  |  |  |  |  |then male\n",
            "  |  |  |  |  |  |  |  |  |  |else female\n",
            "  |  |  |  |  |  |  |  |  |else if author_review_count =< 3520.5: \n",
            "  |  |  |  |  |  |  |  |  |  |then male\n",
            "  |  |  |  |  |  |  |  |  |  |else female\n",
            "  |  |  |  |  |  |  |else female\n",
            "  |  |  |  |  |  |else female\n",
            "  |  |  |  |  |else if author_review_count =< 941.5: \n",
            "  |  |  |  |  |  |then male\n",
            "  |  |  |  |  |  |else if author_rating_count =< 439535.0: \n",
            "  |  |  |  |  |  |  |then if author_review_count =< 5915.0: \n",
            "  |  |  |  |  |  |  |  |then if author_rating_count =< 69550.5: \n",
            "  |  |  |  |  |  |  |  |  |then if num_ratings =< 2023.0: \n",
            "  |  |  |  |  |  |  |  |  |  |then if author_average_rating =< 4.009999990463257: \n",
            "  |  |  |  |  |  |  |  |  |  |  |then if num_reviews =< 332.0: \n",
            "  |  |  |  |  |  |  |  |  |  |  |  |then if author_rating_count =< 5197.0: \n",
            "  |  |  |  |  |  |  |  |  |  |  |  |  |then male\n",
            "  |  |  |  |  |  |  |  |  |  |  |  |  |else if author_review_count =< 3603.5: \n",
            "  |  |  |  |  |  |  |  |  |  |  |  |  |  |then if author_rating_count =< 16855.5: \n",
            "  |  |  |  |  |  |  |  |  |  |  |  |  |  |  |then if author_rating_count =< 15332.0: \n",
            "  |  |  |  |  |  |  |  |  |  |  |  |  |  |  |  |then if author_average_rating =< 3.90500009059906: \n",
            "  |  |  |  |  |  |  |  |  |  |  |  |  |  |  |  |  |then if book_average_rating =< 3.8950001001358032: \n",
            "  |  |  |  |  |  |  |  |  |  |  |  |  |  |  |  |  |  |then if author_average_rating =< 3.8149999380111694: \n",
            "  |  |  |  |  |  |  |  |  |  |  |  |  |  |  |  |  |  |  |then female\n",
            "  |  |  |  |  |  |  |  |  |  |  |  |  |  |  |  |  |  |  |else if num_ratings =< 1077.5: \n",
            "  |  |  |  |  |  |  |  |  |  |  |  |  |  |  |  |  |  |  |  |then female\n",
            "  |  |  |  |  |  |  |  |  |  |  |  |  |  |  |  |  |  |  |  |else male\n",
            "  |  |  |  |  |  |  |  |  |  |  |  |  |  |  |  |  |  |else if num_reviews =< 156.0: \n",
            "  |  |  |  |  |  |  |  |  |  |  |  |  |  |  |  |  |  |  |then male\n",
            "  |  |  |  |  |  |  |  |  |  |  |  |  |  |  |  |  |  |  |else female\n",
            "  |  |  |  |  |  |  |  |  |  |  |  |  |  |  |  |  |else female\n",
            "  |  |  |  |  |  |  |  |  |  |  |  |  |  |  |  |else male\n",
            "  |  |  |  |  |  |  |  |  |  |  |  |  |  |  |else female\n",
            "  |  |  |  |  |  |  |  |  |  |  |  |  |  |else if num_reviews =< 228.0: \n",
            "  |  |  |  |  |  |  |  |  |  |  |  |  |  |  |then male\n",
            "  |  |  |  |  |  |  |  |  |  |  |  |  |  |  |else female\n",
            "  |  |  |  |  |  |  |  |  |  |  |  |else male\n",
            "  |  |  |  |  |  |  |  |  |  |  |else if author_review_count =< 2592.5: \n",
            "  |  |  |  |  |  |  |  |  |  |  |  |then if author_review_count =< 2164.5: \n",
            "  |  |  |  |  |  |  |  |  |  |  |  |  |then if author_rating_count =< 10181.5: \n",
            "  |  |  |  |  |  |  |  |  |  |  |  |  |  |then female\n",
            "  |  |  |  |  |  |  |  |  |  |  |  |  |  |else if num_reviews =< 102.0: \n",
            "  |  |  |  |  |  |  |  |  |  |  |  |  |  |  |then female\n",
            "  |  |  |  |  |  |  |  |  |  |  |  |  |  |  |else if book_average_rating =< 3.9850001335144043: \n",
            "  |  |  |  |  |  |  |  |  |  |  |  |  |  |  |  |then female\n",
            "  |  |  |  |  |  |  |  |  |  |  |  |  |  |  |  |else male\n",
            "  |  |  |  |  |  |  |  |  |  |  |  |  |else if num_ratings =< 734.5: \n",
            "  |  |  |  |  |  |  |  |  |  |  |  |  |  |then female\n",
            "  |  |  |  |  |  |  |  |  |  |  |  |  |  |else male\n",
            "  |  |  |  |  |  |  |  |  |  |  |  |else female\n",
            "  |  |  |  |  |  |  |  |  |  |else if num_ratings =< 2198.5: \n",
            "  |  |  |  |  |  |  |  |  |  |  |then male\n",
            "  |  |  |  |  |  |  |  |  |  |  |else female\n",
            "  |  |  |  |  |  |  |  |  |else male\n",
            "  |  |  |  |  |  |  |  |else female\n",
            "  |  |  |  |  |  |  |else male\n",
            "  |  |  |  |else if pages =< 246.5: \n",
            "  |  |  |  |  |then if num_reviews =< 1890.5: \n",
            "  |  |  |  |  |  |then if num_reviews =< 1521.5: \n",
            "  |  |  |  |  |  |  |then if author_review_count =< 3657.0: \n",
            "  |  |  |  |  |  |  |  |then if pages =< 171.0: \n",
            "  |  |  |  |  |  |  |  |  |then if num_ratings =< 10076.5: \n",
            "  |  |  |  |  |  |  |  |  |  |then if book_average_rating =< 3.700000047683716: \n",
            "  |  |  |  |  |  |  |  |  |  |  |then male\n",
            "  |  |  |  |  |  |  |  |  |  |  |else female\n",
            "  |  |  |  |  |  |  |  |  |  |else if pages =< 70.5: \n",
            "  |  |  |  |  |  |  |  |  |  |  |then female\n",
            "  |  |  |  |  |  |  |  |  |  |  |else male\n",
            "  |  |  |  |  |  |  |  |  |else if author_average_rating =< 3.774999976158142: \n",
            "  |  |  |  |  |  |  |  |  |  |then if author_review_count =< 1217.5: \n",
            "  |  |  |  |  |  |  |  |  |  |  |then male\n",
            "  |  |  |  |  |  |  |  |  |  |  |else if num_reviews =< 1143.5: \n",
            "  |  |  |  |  |  |  |  |  |  |  |  |then if book_average_rating =< 3.7899999618530273: \n",
            "  |  |  |  |  |  |  |  |  |  |  |  |  |then female\n",
            "  |  |  |  |  |  |  |  |  |  |  |  |  |else male\n",
            "  |  |  |  |  |  |  |  |  |  |  |  |else male\n",
            "  |  |  |  |  |  |  |  |  |  |else if num_reviews =< 302.5: \n",
            "  |  |  |  |  |  |  |  |  |  |  |then if pages =< 216.5: \n",
            "  |  |  |  |  |  |  |  |  |  |  |  |then female\n",
            "  |  |  |  |  |  |  |  |  |  |  |  |else male\n",
            "  |  |  |  |  |  |  |  |  |  |  |else male\n",
            "  |  |  |  |  |  |  |  |else if author_rating_count =< 150249.0: \n",
            "  |  |  |  |  |  |  |  |  |then if num_ratings =< 4200.0: \n",
            "  |  |  |  |  |  |  |  |  |  |then if author_review_count =< 9402.5: \n",
            "  |  |  |  |  |  |  |  |  |  |  |then male\n",
            "  |  |  |  |  |  |  |  |  |  |  |else female\n",
            "  |  |  |  |  |  |  |  |  |  |else if author_average_rating =< 4.375: \n",
            "  |  |  |  |  |  |  |  |  |  |  |then if author_review_count =< 5327.0: \n",
            "  |  |  |  |  |  |  |  |  |  |  |  |then if author_rating_count =< 72451.0: \n",
            "  |  |  |  |  |  |  |  |  |  |  |  |  |then female\n",
            "  |  |  |  |  |  |  |  |  |  |  |  |  |else male\n",
            "  |  |  |  |  |  |  |  |  |  |  |  |else female\n",
            "  |  |  |  |  |  |  |  |  |  |  |else male\n",
            "  |  |  |  |  |  |  |  |  |else if author_rating_count =< 382011.5: \n",
            "  |  |  |  |  |  |  |  |  |  |then if num_ratings =< 16296.5: \n",
            "  |  |  |  |  |  |  |  |  |  |  |then male\n",
            "  |  |  |  |  |  |  |  |  |  |  |else female\n",
            "  |  |  |  |  |  |  |  |  |  |else if author_average_rating =< 4.204999923706055: \n",
            "  |  |  |  |  |  |  |  |  |  |  |then female\n",
            "  |  |  |  |  |  |  |  |  |  |  |else male\n",
            "  |  |  |  |  |  |  |else male\n",
            "  |  |  |  |  |  |else if num_reviews =< 3186.0: \n",
            "  |  |  |  |  |  |  |then female\n",
            "  |  |  |  |  |  |  |else if book_average_rating =< 3.569999933242798: \n",
            "  |  |  |  |  |  |  |  |then female\n",
            "  |  |  |  |  |  |  |  |else male\n",
            "  |  |  |  |  |else if author_average_rating =< 4.2850000858306885: \n",
            "  |  |  |  |  |  |then if author_review_count =< 1083.0: \n",
            "  |  |  |  |  |  |  |then if pages =< 434.0: \n",
            "  |  |  |  |  |  |  |  |then female\n",
            "  |  |  |  |  |  |  |  |else male\n",
            "  |  |  |  |  |  |  |else if num_reviews =< 281.0: \n",
            "  |  |  |  |  |  |  |  |then if author_review_count =< 7181.5: \n",
            "  |  |  |  |  |  |  |  |  |then if author_average_rating =< 3.7450000047683716: \n",
            "  |  |  |  |  |  |  |  |  |  |then female\n",
            "  |  |  |  |  |  |  |  |  |  |else if pages =< 520.0: \n",
            "  |  |  |  |  |  |  |  |  |  |  |then if book_average_rating =< 4.259999990463257: \n",
            "  |  |  |  |  |  |  |  |  |  |  |  |then if pages =< 280.0: \n",
            "  |  |  |  |  |  |  |  |  |  |  |  |  |then if author_rating_count =< 58281.5: \n",
            "  |  |  |  |  |  |  |  |  |  |  |  |  |  |then female\n",
            "  |  |  |  |  |  |  |  |  |  |  |  |  |  |else male\n",
            "  |  |  |  |  |  |  |  |  |  |  |  |  |else male\n",
            "  |  |  |  |  |  |  |  |  |  |  |  |else female\n",
            "  |  |  |  |  |  |  |  |  |  |  |else female\n",
            "  |  |  |  |  |  |  |  |  |else if pages =< 335.0: \n",
            "  |  |  |  |  |  |  |  |  |  |then if num_reviews =< 238.0: \n",
            "  |  |  |  |  |  |  |  |  |  |  |then male\n",
            "  |  |  |  |  |  |  |  |  |  |  |else female\n",
            "  |  |  |  |  |  |  |  |  |  |else female\n",
            "  |  |  |  |  |  |  |  |else if num_ratings =< 12294.0: \n",
            "  |  |  |  |  |  |  |  |  |then if pages =< 444.5: \n",
            "  |  |  |  |  |  |  |  |  |  |then if pages =< 371.0: \n",
            "  |  |  |  |  |  |  |  |  |  |  |then if author_average_rating =< 3.9450000524520874: \n",
            "  |  |  |  |  |  |  |  |  |  |  |  |then if book_average_rating =< 3.6750000715255737: \n",
            "  |  |  |  |  |  |  |  |  |  |  |  |  |then if book_average_rating =< 3.5749999284744263: \n",
            "  |  |  |  |  |  |  |  |  |  |  |  |  |  |then if book_average_rating =< 3.274999976158142: \n",
            "  |  |  |  |  |  |  |  |  |  |  |  |  |  |  |then male\n",
            "  |  |  |  |  |  |  |  |  |  |  |  |  |  |  |else if num_reviews =< 562.0: \n",
            "  |  |  |  |  |  |  |  |  |  |  |  |  |  |  |  |then if num_reviews =< 560.5: \n",
            "  |  |  |  |  |  |  |  |  |  |  |  |  |  |  |  |  |then female\n",
            "  |  |  |  |  |  |  |  |  |  |  |  |  |  |  |  |  |else male\n",
            "  |  |  |  |  |  |  |  |  |  |  |  |  |  |  |  |else female\n",
            "  |  |  |  |  |  |  |  |  |  |  |  |  |  |else if author_rating_count =< 14741.0: \n",
            "  |  |  |  |  |  |  |  |  |  |  |  |  |  |  |then female\n",
            "  |  |  |  |  |  |  |  |  |  |  |  |  |  |  |else male\n",
            "  |  |  |  |  |  |  |  |  |  |  |  |  |else if num_ratings =< 2586.5: \n",
            "  |  |  |  |  |  |  |  |  |  |  |  |  |  |then male\n",
            "  |  |  |  |  |  |  |  |  |  |  |  |  |  |else if pages =< 300.0: \n",
            "  |  |  |  |  |  |  |  |  |  |  |  |  |  |  |then female\n",
            "  |  |  |  |  |  |  |  |  |  |  |  |  |  |  |else if author_average_rating =< 3.7949999570846558: \n",
            "  |  |  |  |  |  |  |  |  |  |  |  |  |  |  |  |then if author_average_rating =< 3.7699999809265137: \n",
            "  |  |  |  |  |  |  |  |  |  |  |  |  |  |  |  |  |then female\n",
            "  |  |  |  |  |  |  |  |  |  |  |  |  |  |  |  |  |else male\n",
            "  |  |  |  |  |  |  |  |  |  |  |  |  |  |  |  |else if num_ratings =< 4117.0: \n",
            "  |  |  |  |  |  |  |  |  |  |  |  |  |  |  |  |  |then if num_ratings =< 3447.5: \n",
            "  |  |  |  |  |  |  |  |  |  |  |  |  |  |  |  |  |  |then female\n",
            "  |  |  |  |  |  |  |  |  |  |  |  |  |  |  |  |  |  |else male\n",
            "  |  |  |  |  |  |  |  |  |  |  |  |  |  |  |  |  |else if num_ratings =< 8856.0: \n",
            "  |  |  |  |  |  |  |  |  |  |  |  |  |  |  |  |  |  |then female\n",
            "  |  |  |  |  |  |  |  |  |  |  |  |  |  |  |  |  |  |else if num_ratings =< 9205.5: \n",
            "  |  |  |  |  |  |  |  |  |  |  |  |  |  |  |  |  |  |  |then male\n",
            "  |  |  |  |  |  |  |  |  |  |  |  |  |  |  |  |  |  |  |else female\n",
            "  |  |  |  |  |  |  |  |  |  |  |  |else if author_review_count =< 1562.0: \n",
            "  |  |  |  |  |  |  |  |  |  |  |  |  |then male\n",
            "  |  |  |  |  |  |  |  |  |  |  |  |  |else if num_reviews =< 361.5: \n",
            "  |  |  |  |  |  |  |  |  |  |  |  |  |  |then female\n",
            "  |  |  |  |  |  |  |  |  |  |  |  |  |  |else if book_average_rating =< 4.244999885559082: \n",
            "  |  |  |  |  |  |  |  |  |  |  |  |  |  |  |then if book_average_rating =< 3.6750000715255737: \n",
            "  |  |  |  |  |  |  |  |  |  |  |  |  |  |  |  |then female\n",
            "  |  |  |  |  |  |  |  |  |  |  |  |  |  |  |  |else if pages =< 255.5: \n",
            "  |  |  |  |  |  |  |  |  |  |  |  |  |  |  |  |  |then female\n",
            "  |  |  |  |  |  |  |  |  |  |  |  |  |  |  |  |  |else if author_review_count =< 2981.5: \n",
            "  |  |  |  |  |  |  |  |  |  |  |  |  |  |  |  |  |  |then if pages =< 315.0: \n",
            "  |  |  |  |  |  |  |  |  |  |  |  |  |  |  |  |  |  |  |then if author_review_count =< 2063.5: \n",
            "  |  |  |  |  |  |  |  |  |  |  |  |  |  |  |  |  |  |  |  |then male\n",
            "  |  |  |  |  |  |  |  |  |  |  |  |  |  |  |  |  |  |  |  |else female\n",
            "  |  |  |  |  |  |  |  |  |  |  |  |  |  |  |  |  |  |  |else female\n",
            "  |  |  |  |  |  |  |  |  |  |  |  |  |  |  |  |  |  |else if num_reviews =< 685.5: \n",
            "  |  |  |  |  |  |  |  |  |  |  |  |  |  |  |  |  |  |  |then if author_rating_count =< 105803.0: \n",
            "  |  |  |  |  |  |  |  |  |  |  |  |  |  |  |  |  |  |  |  |then if author_rating_count =< 48546.5: \n",
            "  |  |  |  |  |  |  |  |  |  |  |  |  |  |  |  |  |  |  |  |  |then if num_ratings =< 4086.0: \n",
            "  |  |  |  |  |  |  |  |  |  |  |  |  |  |  |  |  |  |  |  |  |  |then male\n",
            "  |  |  |  |  |  |  |  |  |  |  |  |  |  |  |  |  |  |  |  |  |  |else female\n",
            "  |  |  |  |  |  |  |  |  |  |  |  |  |  |  |  |  |  |  |  |  |else male\n",
            "  |  |  |  |  |  |  |  |  |  |  |  |  |  |  |  |  |  |  |  |else female\n",
            "  |  |  |  |  |  |  |  |  |  |  |  |  |  |  |  |  |  |  |else if book_average_rating =< 4.21999979019165: \n",
            "  |  |  |  |  |  |  |  |  |  |  |  |  |  |  |  |  |  |  |  |then male\n",
            "  |  |  |  |  |  |  |  |  |  |  |  |  |  |  |  |  |  |  |  |else if num_reviews =< 784.5: \n",
            "  |  |  |  |  |  |  |  |  |  |  |  |  |  |  |  |  |  |  |  |  |then male\n",
            "  |  |  |  |  |  |  |  |  |  |  |  |  |  |  |  |  |  |  |  |  |else female\n",
            "  |  |  |  |  |  |  |  |  |  |  |  |  |  |  |else female\n",
            "  |  |  |  |  |  |  |  |  |  |  |else if author_review_count =< 3138.5: \n",
            "  |  |  |  |  |  |  |  |  |  |  |  |then if author_rating_count =< 14650.5: \n",
            "  |  |  |  |  |  |  |  |  |  |  |  |  |then female\n",
            "  |  |  |  |  |  |  |  |  |  |  |  |  |else if num_reviews =< 447.0: \n",
            "  |  |  |  |  |  |  |  |  |  |  |  |  |  |then female\n",
            "  |  |  |  |  |  |  |  |  |  |  |  |  |  |else male\n",
            "  |  |  |  |  |  |  |  |  |  |  |  |else if author_rating_count =< 266180.5: \n",
            "  |  |  |  |  |  |  |  |  |  |  |  |  |then female\n",
            "  |  |  |  |  |  |  |  |  |  |  |  |  |else if pages =< 381.0: \n",
            "  |  |  |  |  |  |  |  |  |  |  |  |  |  |then female\n",
            "  |  |  |  |  |  |  |  |  |  |  |  |  |  |else male\n",
            "  |  |  |  |  |  |  |  |  |  |else if num_ratings =< 8443.0: \n",
            "  |  |  |  |  |  |  |  |  |  |  |then male\n",
            "  |  |  |  |  |  |  |  |  |  |  |else if num_ratings =< 9882.0: \n",
            "  |  |  |  |  |  |  |  |  |  |  |  |then female\n",
            "  |  |  |  |  |  |  |  |  |  |  |  |else male\n",
            "  |  |  |  |  |  |  |  |  |else if pages =< 433.0: \n",
            "  |  |  |  |  |  |  |  |  |  |then if author_average_rating =< 4.2099997997283936: \n",
            "  |  |  |  |  |  |  |  |  |  |  |then if num_reviews =< 2892.5: \n",
            "  |  |  |  |  |  |  |  |  |  |  |  |then if author_rating_count =< 62384.5: \n",
            "  |  |  |  |  |  |  |  |  |  |  |  |  |then if num_ratings =< 12610.5: \n",
            "  |  |  |  |  |  |  |  |  |  |  |  |  |  |then male\n",
            "  |  |  |  |  |  |  |  |  |  |  |  |  |  |else if book_average_rating =< 4.069999933242798: \n",
            "  |  |  |  |  |  |  |  |  |  |  |  |  |  |  |then if num_reviews =< 2386.0: \n",
            "  |  |  |  |  |  |  |  |  |  |  |  |  |  |  |  |then if author_review_count =< 2428.5: \n",
            "  |  |  |  |  |  |  |  |  |  |  |  |  |  |  |  |  |then if author_review_count =< 1533.0: \n",
            "  |  |  |  |  |  |  |  |  |  |  |  |  |  |  |  |  |  |then if author_review_count =< 1383.5: \n",
            "  |  |  |  |  |  |  |  |  |  |  |  |  |  |  |  |  |  |  |then male\n",
            "  |  |  |  |  |  |  |  |  |  |  |  |  |  |  |  |  |  |  |else female\n",
            "  |  |  |  |  |  |  |  |  |  |  |  |  |  |  |  |  |  |else male\n",
            "  |  |  |  |  |  |  |  |  |  |  |  |  |  |  |  |  |else if author_average_rating =< 3.450000047683716: \n",
            "  |  |  |  |  |  |  |  |  |  |  |  |  |  |  |  |  |  |then male\n",
            "  |  |  |  |  |  |  |  |  |  |  |  |  |  |  |  |  |  |else if num_ratings =< 33916.5: \n",
            "  |  |  |  |  |  |  |  |  |  |  |  |  |  |  |  |  |  |  |then female\n",
            "  |  |  |  |  |  |  |  |  |  |  |  |  |  |  |  |  |  |  |else male\n",
            "  |  |  |  |  |  |  |  |  |  |  |  |  |  |  |  |else male\n",
            "  |  |  |  |  |  |  |  |  |  |  |  |  |  |  |else male\n",
            "  |  |  |  |  |  |  |  |  |  |  |  |  |else if book_average_rating =< 4.164999961853027: \n",
            "  |  |  |  |  |  |  |  |  |  |  |  |  |  |then if author_review_count =< 74922.5: \n",
            "  |  |  |  |  |  |  |  |  |  |  |  |  |  |  |then if num_ratings =< 35547.5: \n",
            "  |  |  |  |  |  |  |  |  |  |  |  |  |  |  |  |then male\n",
            "  |  |  |  |  |  |  |  |  |  |  |  |  |  |  |  |else if num_reviews =< 1969.5: \n",
            "  |  |  |  |  |  |  |  |  |  |  |  |  |  |  |  |  |then female\n",
            "  |  |  |  |  |  |  |  |  |  |  |  |  |  |  |  |  |else male\n",
            "  |  |  |  |  |  |  |  |  |  |  |  |  |  |  |else female\n",
            "  |  |  |  |  |  |  |  |  |  |  |  |  |  |else female\n",
            "  |  |  |  |  |  |  |  |  |  |  |  |else if author_review_count =< 22471.5: \n",
            "  |  |  |  |  |  |  |  |  |  |  |  |  |then if num_reviews =< 5449.0: \n",
            "  |  |  |  |  |  |  |  |  |  |  |  |  |  |then if author_review_count =< 4237.5: \n",
            "  |  |  |  |  |  |  |  |  |  |  |  |  |  |  |then if author_average_rating =< 3.9299999475479126: \n",
            "  |  |  |  |  |  |  |  |  |  |  |  |  |  |  |  |then male\n",
            "  |  |  |  |  |  |  |  |  |  |  |  |  |  |  |  |else female\n",
            "  |  |  |  |  |  |  |  |  |  |  |  |  |  |  |else if num_ratings =< 35660.5: \n",
            "  |  |  |  |  |  |  |  |  |  |  |  |  |  |  |  |then female\n",
            "  |  |  |  |  |  |  |  |  |  |  |  |  |  |  |  |else if num_ratings =< 37468.5: \n",
            "  |  |  |  |  |  |  |  |  |  |  |  |  |  |  |  |  |then male\n",
            "  |  |  |  |  |  |  |  |  |  |  |  |  |  |  |  |  |else female\n",
            "  |  |  |  |  |  |  |  |  |  |  |  |  |  |else male\n",
            "  |  |  |  |  |  |  |  |  |  |  |  |  |else male\n",
            "  |  |  |  |  |  |  |  |  |  |  |else if num_reviews =< 572.5: \n",
            "  |  |  |  |  |  |  |  |  |  |  |  |then male\n",
            "  |  |  |  |  |  |  |  |  |  |  |  |else female\n",
            "  |  |  |  |  |  |  |  |  |  |else if num_ratings =< 18257.5: \n",
            "  |  |  |  |  |  |  |  |  |  |  |then if pages =< 485.0: \n",
            "  |  |  |  |  |  |  |  |  |  |  |  |then female\n",
            "  |  |  |  |  |  |  |  |  |  |  |  |else male\n",
            "  |  |  |  |  |  |  |  |  |  |  |else female\n",
            "  |  |  |  |  |  |else if num_reviews =< 1578.0: \n",
            "  |  |  |  |  |  |  |then male\n",
            "  |  |  |  |  |  |  |else female\n",
            "  |  |  |else if book_average_rating =< 4.109999895095825: \n",
            "  |  |  |  |then male\n",
            "  |  |  |  |else if book_average_rating =< 4.140000104904175: \n",
            "  |  |  |  |  |then female\n",
            "  |  |  |  |  |else if num_ratings =< 2083.5: \n",
            "  |  |  |  |  |  |then female\n",
            "  |  |  |  |  |  |else if author_average_rating =< 4.169999837875366: \n",
            "  |  |  |  |  |  |  |then if num_reviews =< 266.0: \n",
            "  |  |  |  |  |  |  |  |then male\n",
            "  |  |  |  |  |  |  |  |else if num_reviews =< 662.5: \n",
            "  |  |  |  |  |  |  |  |  |then female\n",
            "  |  |  |  |  |  |  |  |  |else if author_average_rating =< 4.1549999713897705: \n",
            "  |  |  |  |  |  |  |  |  |  |then male\n",
            "  |  |  |  |  |  |  |  |  |  |else female\n",
            "  |  |  |  |  |  |  |else male\n",
            "  |else if author_review_count =< 16688.0: \n",
            "  |  |then if pages =< 212.5: \n",
            "  |  |  |then if author_rating_count =< 175557.5: \n",
            "  |  |  |  |then if author_average_rating =< 3.8499999046325684: \n",
            "  |  |  |  |  |then male\n",
            "  |  |  |  |  |else if author_average_rating =< 4.210000038146973: \n",
            "  |  |  |  |  |  |then if author_rating_count =< 58990.5: \n",
            "  |  |  |  |  |  |  |then if author_review_count =< 3867.5: \n",
            "  |  |  |  |  |  |  |  |then male\n",
            "  |  |  |  |  |  |  |  |else female\n",
            "  |  |  |  |  |  |  |else female\n",
            "  |  |  |  |  |  |else male\n",
            "  |  |  |  |else if author_rating_count =< 363343.5: \n",
            "  |  |  |  |  |then male\n",
            "  |  |  |  |  |else female\n",
            "  |  |  |else if author_rating_count =< 47570.0: \n",
            "  |  |  |  |then female\n",
            "  |  |  |  |else if author_review_count =< 13024.5: \n",
            "  |  |  |  |  |then if num_ratings =< 445402.0: \n",
            "  |  |  |  |  |  |then if author_average_rating =< 3.6750000715255737: \n",
            "  |  |  |  |  |  |  |then if pages =< 308.0: \n",
            "  |  |  |  |  |  |  |  |then male\n",
            "  |  |  |  |  |  |  |  |else female\n",
            "  |  |  |  |  |  |  |else if num_ratings =< 45834.5: \n",
            "  |  |  |  |  |  |  |  |then if num_ratings =< 44440.0: \n",
            "  |  |  |  |  |  |  |  |  |then male\n",
            "  |  |  |  |  |  |  |  |  |else female\n",
            "  |  |  |  |  |  |  |  |else male\n",
            "  |  |  |  |  |  |else if book_average_rating =< 3.9950000047683716: \n",
            "  |  |  |  |  |  |  |then female\n",
            "  |  |  |  |  |  |  |else male\n",
            "  |  |  |  |  |else if author_rating_count =< 191123.5: \n",
            "  |  |  |  |  |  |then if num_ratings =< 45788.5: \n",
            "  |  |  |  |  |  |  |then male\n",
            "  |  |  |  |  |  |  |else female\n",
            "  |  |  |  |  |  |else if author_review_count =< 13599.5: \n",
            "  |  |  |  |  |  |  |then female\n",
            "  |  |  |  |  |  |  |else male\n",
            "  |  |else if author_average_rating =< 3.9550000429153442: \n",
            "  |  |  |then if pages =< 325.5: \n",
            "  |  |  |  |then if pages =< 281.5: \n",
            "  |  |  |  |  |then if num_ratings =< 112158.0: \n",
            "  |  |  |  |  |  |then female\n",
            "  |  |  |  |  |  |else if author_average_rating =< 3.799999952316284: \n",
            "  |  |  |  |  |  |  |then female\n",
            "  |  |  |  |  |  |  |else male\n",
            "  |  |  |  |  |else female\n",
            "  |  |  |  |else if author_rating_count =< 1295582.0: \n",
            "  |  |  |  |  |then if pages =< 340.5: \n",
            "  |  |  |  |  |  |then male\n",
            "  |  |  |  |  |  |else if book_average_rating =< 3.5850000381469727: \n",
            "  |  |  |  |  |  |  |then if pages =< 384.5: \n",
            "  |  |  |  |  |  |  |  |then female\n",
            "  |  |  |  |  |  |  |  |else male\n",
            "  |  |  |  |  |  |  |else female\n",
            "  |  |  |  |  |else if pages =< 353.0: \n",
            "  |  |  |  |  |  |then if pages =< 331.0: \n",
            "  |  |  |  |  |  |  |then male\n",
            "  |  |  |  |  |  |  |else female\n",
            "  |  |  |  |  |  |else male\n",
            "  |  |  |else if author_average_rating =< 4.129999876022339: \n",
            "  |  |  |  |then if num_reviews =< 2087.5: \n",
            "  |  |  |  |  |then female\n",
            "  |  |  |  |  |else if num_reviews =< 59463.5: \n",
            "  |  |  |  |  |  |then if num_ratings =< 998154.0: \n",
            "  |  |  |  |  |  |  |then if num_reviews =< 43187.5: \n",
            "  |  |  |  |  |  |  |  |then if pages =< 194.5: \n",
            "  |  |  |  |  |  |  |  |  |then if pages =< 179.0: \n",
            "  |  |  |  |  |  |  |  |  |  |then male\n",
            "  |  |  |  |  |  |  |  |  |  |else female\n",
            "  |  |  |  |  |  |  |  |  |else male\n",
            "  |  |  |  |  |  |  |  |else if book_average_rating =< 4.0000001192092896: \n",
            "  |  |  |  |  |  |  |  |  |then male\n",
            "  |  |  |  |  |  |  |  |  |else female\n",
            "  |  |  |  |  |  |  |else if num_ratings =< 1278033.0: \n",
            "  |  |  |  |  |  |  |  |then female\n",
            "  |  |  |  |  |  |  |  |else male\n",
            "  |  |  |  |  |  |else female\n",
            "  |  |  |  |else if pages =< 262.0: \n",
            "  |  |  |  |  |then male\n",
            "  |  |  |  |  |else if pages =< 358.5: \n",
            "  |  |  |  |  |  |then female\n",
            "  |  |  |  |  |  |else if num_ratings =< 157961.0: \n",
            "  |  |  |  |  |  |  |then if author_review_count =< 38408.5: \n",
            "  |  |  |  |  |  |  |  |then if pages =< 482.5: \n",
            "  |  |  |  |  |  |  |  |  |then female\n",
            "  |  |  |  |  |  |  |  |  |else male\n",
            "  |  |  |  |  |  |  |  |else female\n",
            "  |  |  |  |  |  |  |else male\n",
            "<---------------------------------------------------------------->\n",
            "Tree Depth:  22\n",
            "Accuracy: 1.00 (1.00,1.00)\n"
          ],
          "name": "stdout"
        }
      ]
    },
    {
      "cell_type": "markdown",
      "metadata": {
        "id": "doLShEW-xA92"
      },
      "source": [
        "### 2.2 Overall dataset Decision tree model decision surfaces"
      ]
    },
    {
      "cell_type": "markdown",
      "metadata": {
        "id": "QsEzUNWsS4cf"
      },
      "source": [
        "Below are the plotted decision surfaces for the optimal decision tree for the overall dataset."
      ]
    },
    {
      "cell_type": "code",
      "metadata": {
        "colab": {
          "base_uri": "https://localhost:8080/",
          "height": 633
        },
        "id": "fz5-1icYvwe1",
        "outputId": "adaf7dad-d40c-482d-fceb-a180f232ab06"
      },
      "source": [
        "# isolating labels\n",
        "f_df = df2[df2['author_gender'] == 'female']\n",
        "m_df = df2[df2['author_gender'] == 'male']\n",
        "\n",
        "# scatter plot of the data\n",
        "plt.figure(figsize = (20, 10))\n",
        "plt.plot(m_df['pages'], m_df['num_ratings'], 'go')\n",
        "plt.plot(f_df['pages'], f_df['num_ratings'], 'ro')\n",
        "plt.xlabel('pages')\n",
        "plt.ylabel('num_ratings')\n",
        "plt.legend(['male', 'female'])\n",
        "\n",
        "# plotting the decision surfaces\n",
        "# pages\n",
        "plt.plot([591,591], [0,2500000], 'k--')\n",
        "plt.plot([0,50216], [50216,50216], 'k--')"
      ],
      "execution_count": null,
      "outputs": [
        {
          "output_type": "execute_result",
          "data": {
            "text/plain": [
              "[<matplotlib.lines.Line2D at 0x7f1165529510>]"
            ]
          },
          "metadata": {
            "tags": []
          },
          "execution_count": 298
        },
        {
          "output_type": "display_data",
          "data": {
            "image/png": "[encoded data removed]",
            "text/plain": [
              "<Figure size 1440x720 with 1 Axes>"
            ]
          },
          "metadata": {
            "tags": [],
            "needs_background": "light"
          }
        }
      ]
    },
    {
      "cell_type": "markdown",
      "metadata": {
        "id": "zW0z83Puy3NL"
      },
      "source": [
        "### 2.3 Authors outside of U.S. max depth"
      ]
    },
    {
      "cell_type": "markdown",
      "metadata": {
        "id": "TYu2UaN4zBPz"
      },
      "source": [
        "The max depth for the grid search over the authors born outside the U.S. was needed. A decision tree without a max depth specified was used to find the max range.\n",
        "The max tree depth is 24, so the range for the grid search is (1, 25)."
      ]
    },
    {
      "cell_type": "code",
      "metadata": {
        "colab": {
          "base_uri": "https://localhost:8080/"
        },
        "id": "1auQdFHi6Qlk",
        "outputId": "26edf60c-45df-436c-a224-394e1300b8da"
      },
      "source": [
        "# get data\n",
        "X  = df3.drop(['author_gender', 'author_name', 'book_title', 'birthplace', 'genre_1', 'genre_2'], axis = 1)\n",
        "y = df3['author_gender']\n",
        "\n",
        "# build and train model\n",
        "model = DecisionTreeClassifier(max_depth=None, random_state=1)\n",
        "model.fit(X, y)\n",
        "\n",
        "# print tree without limit on max depth to get range\n",
        "tree_print(model, X)"
      ],
      "execution_count": null,
      "outputs": [
        {
          "output_type": "stream",
          "text": [
            "if book_average_rating =< 4.055000066757202: \n",
            "  |then if author_average_rating =< 3.6850000619888306: \n",
            "  |  |then if book_average_rating =< 3.3049999475479126: \n",
            "  |  |  |then if book_average_rating =< 3.1549999713897705: \n",
            "  |  |  |  |then if author_average_rating =< 3.0850000381469727: \n",
            "  |  |  |  |  |then if num_reviews =< 153.5: \n",
            "  |  |  |  |  |  |then male\n",
            "  |  |  |  |  |  |else female\n",
            "  |  |  |  |  |else male\n",
            "  |  |  |  |else female\n",
            "  |  |  |else if author_review_count =< 20.0: \n",
            "  |  |  |  |then female\n",
            "  |  |  |  |else if num_reviews =< 84.0: \n",
            "  |  |  |  |  |then male\n",
            "  |  |  |  |  |else if num_ratings =< 481.0: \n",
            "  |  |  |  |  |  |then female\n",
            "  |  |  |  |  |  |else if author_rating_count =< 2997.5: \n",
            "  |  |  |  |  |  |  |then if num_ratings =< 787.5: \n",
            "  |  |  |  |  |  |  |  |then male\n",
            "  |  |  |  |  |  |  |  |else female\n",
            "  |  |  |  |  |  |  |else if num_ratings =< 3603.5: \n",
            "  |  |  |  |  |  |  |  |then male\n",
            "  |  |  |  |  |  |  |  |else if num_ratings =< 5128.0: \n",
            "  |  |  |  |  |  |  |  |  |then female\n",
            "  |  |  |  |  |  |  |  |  |else if author_review_count =< 11714.0: \n",
            "  |  |  |  |  |  |  |  |  |  |then if pages =< 216.5: \n",
            "  |  |  |  |  |  |  |  |  |  |  |then if author_review_count =< 3005.5: \n",
            "  |  |  |  |  |  |  |  |  |  |  |  |then female\n",
            "  |  |  |  |  |  |  |  |  |  |  |  |else male\n",
            "  |  |  |  |  |  |  |  |  |  |  |else if book_average_rating =< 3.5449999570846558: \n",
            "  |  |  |  |  |  |  |  |  |  |  |  |then if author_average_rating =< 3.625: \n",
            "  |  |  |  |  |  |  |  |  |  |  |  |  |then male\n",
            "  |  |  |  |  |  |  |  |  |  |  |  |  |else female\n",
            "  |  |  |  |  |  |  |  |  |  |  |  |else male\n",
            "  |  |  |  |  |  |  |  |  |  |else female\n",
            "  |  |else if author_average_rating =< 3.6950000524520874: \n",
            "  |  |  |then if pages =< 327.5: \n",
            "  |  |  |  |then male\n",
            "  |  |  |  |else female\n",
            "  |  |  |else if author_rating_count =< 132.0: \n",
            "  |  |  |  |then male\n",
            "  |  |  |  |else if num_ratings =< 172.5: \n",
            "  |  |  |  |  |then if author_rating_count =< 18282.0: \n",
            "  |  |  |  |  |  |then if author_average_rating =< 3.819999933242798: \n",
            "  |  |  |  |  |  |  |then male\n",
            "  |  |  |  |  |  |  |else if author_average_rating =< 4.080000162124634: \n",
            "  |  |  |  |  |  |  |  |then female\n",
            "  |  |  |  |  |  |  |  |else male\n",
            "  |  |  |  |  |  |else male\n",
            "  |  |  |  |  |else if author_review_count =< 180.0: \n",
            "  |  |  |  |  |  |then if author_review_count =< 40.0: \n",
            "  |  |  |  |  |  |  |then if author_review_count =< 33.0: \n",
            "  |  |  |  |  |  |  |  |then male\n",
            "  |  |  |  |  |  |  |  |else female\n",
            "  |  |  |  |  |  |  |else male\n",
            "  |  |  |  |  |  |else if author_rating_count =< 1834.5: \n",
            "  |  |  |  |  |  |  |then if num_reviews =< 249.5: \n",
            "  |  |  |  |  |  |  |  |then female\n",
            "  |  |  |  |  |  |  |  |else male\n",
            "  |  |  |  |  |  |  |else if author_rating_count =< 2588956.0: \n",
            "  |  |  |  |  |  |  |  |then if num_reviews =< 1526.0: \n",
            "  |  |  |  |  |  |  |  |  |then if num_reviews =< 831.5: \n",
            "  |  |  |  |  |  |  |  |  |  |then if num_reviews =< 664.5: \n",
            "  |  |  |  |  |  |  |  |  |  |  |then if author_review_count =< 23173.5: \n",
            "  |  |  |  |  |  |  |  |  |  |  |  |then if author_rating_count =< 161245.5: \n",
            "  |  |  |  |  |  |  |  |  |  |  |  |  |then if num_ratings =< 14746.5: \n",
            "  |  |  |  |  |  |  |  |  |  |  |  |  |  |then if num_ratings =< 3812.0: \n",
            "  |  |  |  |  |  |  |  |  |  |  |  |  |  |  |then if num_ratings =< 1719.0: \n",
            "  |  |  |  |  |  |  |  |  |  |  |  |  |  |  |  |then if num_reviews =< 43.5: \n",
            "  |  |  |  |  |  |  |  |  |  |  |  |  |  |  |  |  |then female\n",
            "  |  |  |  |  |  |  |  |  |  |  |  |  |  |  |  |  |else if book_average_rating =< 4.015000104904175: \n",
            "  |  |  |  |  |  |  |  |  |  |  |  |  |  |  |  |  |  |then if author_rating_count =< 4817.0: \n",
            "  |  |  |  |  |  |  |  |  |  |  |  |  |  |  |  |  |  |  |then if author_review_count =< 455.0: \n",
            "  |  |  |  |  |  |  |  |  |  |  |  |  |  |  |  |  |  |  |  |then male\n",
            "  |  |  |  |  |  |  |  |  |  |  |  |  |  |  |  |  |  |  |  |else if num_ratings =< 559.5: \n",
            "  |  |  |  |  |  |  |  |  |  |  |  |  |  |  |  |  |  |  |  |  |then if pages =< 171.0: \n",
            "  |  |  |  |  |  |  |  |  |  |  |  |  |  |  |  |  |  |  |  |  |  |then female\n",
            "  |  |  |  |  |  |  |  |  |  |  |  |  |  |  |  |  |  |  |  |  |  |else male\n",
            "  |  |  |  |  |  |  |  |  |  |  |  |  |  |  |  |  |  |  |  |  |else female\n",
            "  |  |  |  |  |  |  |  |  |  |  |  |  |  |  |  |  |  |  |else if num_ratings =< 342.0: \n",
            "  |  |  |  |  |  |  |  |  |  |  |  |  |  |  |  |  |  |  |  |then if author_average_rating =< 3.9350000619888306: \n",
            "  |  |  |  |  |  |  |  |  |  |  |  |  |  |  |  |  |  |  |  |  |then male\n",
            "  |  |  |  |  |  |  |  |  |  |  |  |  |  |  |  |  |  |  |  |  |else female\n",
            "  |  |  |  |  |  |  |  |  |  |  |  |  |  |  |  |  |  |  |  |else male\n",
            "  |  |  |  |  |  |  |  |  |  |  |  |  |  |  |  |  |  |else female\n",
            "  |  |  |  |  |  |  |  |  |  |  |  |  |  |  |  |else if book_average_rating =< 3.7300000190734863: \n",
            "  |  |  |  |  |  |  |  |  |  |  |  |  |  |  |  |  |then if num_reviews =< 368.5: \n",
            "  |  |  |  |  |  |  |  |  |  |  |  |  |  |  |  |  |  |then male\n",
            "  |  |  |  |  |  |  |  |  |  |  |  |  |  |  |  |  |  |else female\n",
            "  |  |  |  |  |  |  |  |  |  |  |  |  |  |  |  |  |else if author_average_rating =< 4.109999895095825: \n",
            "  |  |  |  |  |  |  |  |  |  |  |  |  |  |  |  |  |  |then if num_reviews =< 175.5: \n",
            "  |  |  |  |  |  |  |  |  |  |  |  |  |  |  |  |  |  |  |then female\n",
            "  |  |  |  |  |  |  |  |  |  |  |  |  |  |  |  |  |  |  |else if author_review_count =< 730.5: \n",
            "  |  |  |  |  |  |  |  |  |  |  |  |  |  |  |  |  |  |  |  |then female\n",
            "  |  |  |  |  |  |  |  |  |  |  |  |  |  |  |  |  |  |  |  |else if num_reviews =< 317.5: \n",
            "  |  |  |  |  |  |  |  |  |  |  |  |  |  |  |  |  |  |  |  |  |then if author_average_rating =< 3.7649999856948853: \n",
            "  |  |  |  |  |  |  |  |  |  |  |  |  |  |  |  |  |  |  |  |  |  |then female\n",
            "  |  |  |  |  |  |  |  |  |  |  |  |  |  |  |  |  |  |  |  |  |  |else if author_average_rating =< 3.9350000619888306: \n",
            "  |  |  |  |  |  |  |  |  |  |  |  |  |  |  |  |  |  |  |  |  |  |  |then male\n",
            "  |  |  |  |  |  |  |  |  |  |  |  |  |  |  |  |  |  |  |  |  |  |  |else if author_rating_count =< 58456.0: \n",
            "  |  |  |  |  |  |  |  |  |  |  |  |  |  |  |  |  |  |  |  |  |  |  |  |then female\n",
            "  |  |  |  |  |  |  |  |  |  |  |  |  |  |  |  |  |  |  |  |  |  |  |  |else male\n",
            "  |  |  |  |  |  |  |  |  |  |  |  |  |  |  |  |  |  |  |  |  |else if num_reviews =< 588.5: \n",
            "  |  |  |  |  |  |  |  |  |  |  |  |  |  |  |  |  |  |  |  |  |  |then female\n",
            "  |  |  |  |  |  |  |  |  |  |  |  |  |  |  |  |  |  |  |  |  |  |else male\n",
            "  |  |  |  |  |  |  |  |  |  |  |  |  |  |  |  |  |  |else male\n",
            "  |  |  |  |  |  |  |  |  |  |  |  |  |  |  |else if book_average_rating =< 3.7100000381469727: \n",
            "  |  |  |  |  |  |  |  |  |  |  |  |  |  |  |  |then female\n",
            "  |  |  |  |  |  |  |  |  |  |  |  |  |  |  |  |else if pages =< 96.0: \n",
            "  |  |  |  |  |  |  |  |  |  |  |  |  |  |  |  |  |then if num_ratings =< 8286.0: \n",
            "  |  |  |  |  |  |  |  |  |  |  |  |  |  |  |  |  |  |then female\n",
            "  |  |  |  |  |  |  |  |  |  |  |  |  |  |  |  |  |  |else male\n",
            "  |  |  |  |  |  |  |  |  |  |  |  |  |  |  |  |  |else if pages =< 598.5: \n",
            "  |  |  |  |  |  |  |  |  |  |  |  |  |  |  |  |  |  |then if num_reviews =< 144.5: \n",
            "  |  |  |  |  |  |  |  |  |  |  |  |  |  |  |  |  |  |  |then if pages =< 249.5: \n",
            "  |  |  |  |  |  |  |  |  |  |  |  |  |  |  |  |  |  |  |  |then female\n",
            "  |  |  |  |  |  |  |  |  |  |  |  |  |  |  |  |  |  |  |  |else male\n",
            "  |  |  |  |  |  |  |  |  |  |  |  |  |  |  |  |  |  |  |else if author_review_count =< 445.0: \n",
            "  |  |  |  |  |  |  |  |  |  |  |  |  |  |  |  |  |  |  |  |then if author_average_rating =< 3.7899999618530273: \n",
            "  |  |  |  |  |  |  |  |  |  |  |  |  |  |  |  |  |  |  |  |  |then male\n",
            "  |  |  |  |  |  |  |  |  |  |  |  |  |  |  |  |  |  |  |  |  |else female\n",
            "  |  |  |  |  |  |  |  |  |  |  |  |  |  |  |  |  |  |  |  |else male\n",
            "  |  |  |  |  |  |  |  |  |  |  |  |  |  |  |  |  |  |else if author_rating_count =< 36080.0: \n",
            "  |  |  |  |  |  |  |  |  |  |  |  |  |  |  |  |  |  |  |then female\n",
            "  |  |  |  |  |  |  |  |  |  |  |  |  |  |  |  |  |  |  |else male\n",
            "  |  |  |  |  |  |  |  |  |  |  |  |  |  |else female\n",
            "  |  |  |  |  |  |  |  |  |  |  |  |  |else male\n",
            "  |  |  |  |  |  |  |  |  |  |  |  |else female\n",
            "  |  |  |  |  |  |  |  |  |  |  |else if num_ratings =< 13163.0: \n",
            "  |  |  |  |  |  |  |  |  |  |  |  |then if author_rating_count =< 17005.5: \n",
            "  |  |  |  |  |  |  |  |  |  |  |  |  |then if num_reviews =< 771.5: \n",
            "  |  |  |  |  |  |  |  |  |  |  |  |  |  |then female\n",
            "  |  |  |  |  |  |  |  |  |  |  |  |  |  |else male\n",
            "  |  |  |  |  |  |  |  |  |  |  |  |  |else female\n",
            "  |  |  |  |  |  |  |  |  |  |  |  |else if author_review_count =< 18088.0: \n",
            "  |  |  |  |  |  |  |  |  |  |  |  |  |then male\n",
            "  |  |  |  |  |  |  |  |  |  |  |  |  |else female\n",
            "  |  |  |  |  |  |  |  |  |  |else if author_average_rating =< 4.144999980926514: \n",
            "  |  |  |  |  |  |  |  |  |  |  |then if author_review_count =< 5310.5: \n",
            "  |  |  |  |  |  |  |  |  |  |  |  |then male\n",
            "  |  |  |  |  |  |  |  |  |  |  |  |else if author_review_count =< 6177.5: \n",
            "  |  |  |  |  |  |  |  |  |  |  |  |  |then female\n",
            "  |  |  |  |  |  |  |  |  |  |  |  |  |else male\n",
            "  |  |  |  |  |  |  |  |  |  |  |else female\n",
            "  |  |  |  |  |  |  |  |  |else if num_ratings =< 50054.5: \n",
            "  |  |  |  |  |  |  |  |  |  |then if book_average_rating =< 3.9100000858306885: \n",
            "  |  |  |  |  |  |  |  |  |  |  |then if author_review_count =< 24265.0: \n",
            "  |  |  |  |  |  |  |  |  |  |  |  |then if num_ratings =< 35438.5: \n",
            "  |  |  |  |  |  |  |  |  |  |  |  |  |then if author_average_rating =< 3.75: \n",
            "  |  |  |  |  |  |  |  |  |  |  |  |  |  |then male\n",
            "  |  |  |  |  |  |  |  |  |  |  |  |  |  |else if author_review_count =< 19419.5: \n",
            "  |  |  |  |  |  |  |  |  |  |  |  |  |  |  |then female\n",
            "  |  |  |  |  |  |  |  |  |  |  |  |  |  |  |else if author_rating_count =< 301478.0: \n",
            "  |  |  |  |  |  |  |  |  |  |  |  |  |  |  |  |then male\n",
            "  |  |  |  |  |  |  |  |  |  |  |  |  |  |  |  |else female\n",
            "  |  |  |  |  |  |  |  |  |  |  |  |  |else male\n",
            "  |  |  |  |  |  |  |  |  |  |  |  |else male\n",
            "  |  |  |  |  |  |  |  |  |  |  |else female\n",
            "  |  |  |  |  |  |  |  |  |  |else if pages =< 429.5: \n",
            "  |  |  |  |  |  |  |  |  |  |  |then if author_review_count =< 75195.0: \n",
            "  |  |  |  |  |  |  |  |  |  |  |  |then if book_average_rating =< 3.725000023841858: \n",
            "  |  |  |  |  |  |  |  |  |  |  |  |  |then if author_rating_count =< 150456.0: \n",
            "  |  |  |  |  |  |  |  |  |  |  |  |  |  |then male\n",
            "  |  |  |  |  |  |  |  |  |  |  |  |  |  |else female\n",
            "  |  |  |  |  |  |  |  |  |  |  |  |  |else if author_rating_count =< 145230.0: \n",
            "  |  |  |  |  |  |  |  |  |  |  |  |  |  |then if author_average_rating =< 3.8850001096725464: \n",
            "  |  |  |  |  |  |  |  |  |  |  |  |  |  |  |then male\n",
            "  |  |  |  |  |  |  |  |  |  |  |  |  |  |  |else if author_review_count =< 3464.5: \n",
            "  |  |  |  |  |  |  |  |  |  |  |  |  |  |  |  |then male\n",
            "  |  |  |  |  |  |  |  |  |  |  |  |  |  |  |  |else female\n",
            "  |  |  |  |  |  |  |  |  |  |  |  |  |  |else if num_reviews =< 23120.0: \n",
            "  |  |  |  |  |  |  |  |  |  |  |  |  |  |  |then if num_ratings =< 285140.0: \n",
            "  |  |  |  |  |  |  |  |  |  |  |  |  |  |  |  |then male\n",
            "  |  |  |  |  |  |  |  |  |  |  |  |  |  |  |  |else if author_review_count =< 10169.0: \n",
            "  |  |  |  |  |  |  |  |  |  |  |  |  |  |  |  |  |then female\n",
            "  |  |  |  |  |  |  |  |  |  |  |  |  |  |  |  |  |else male\n",
            "  |  |  |  |  |  |  |  |  |  |  |  |  |  |  |else if author_review_count =< 39266.5: \n",
            "  |  |  |  |  |  |  |  |  |  |  |  |  |  |  |  |then female\n",
            "  |  |  |  |  |  |  |  |  |  |  |  |  |  |  |  |else male\n",
            "  |  |  |  |  |  |  |  |  |  |  |  |else female\n",
            "  |  |  |  |  |  |  |  |  |  |  |else if book_average_rating =< 3.834999918937683: \n",
            "  |  |  |  |  |  |  |  |  |  |  |  |then male\n",
            "  |  |  |  |  |  |  |  |  |  |  |  |else female\n",
            "  |  |  |  |  |  |  |  |else male\n",
            "  |else if num_ratings =< 2518.5: \n",
            "  |  |then if author_review_count =< 285.5: \n",
            "  |  |  |then if book_average_rating =< 4.340000152587891: \n",
            "  |  |  |  |then if num_ratings =< 104.5: \n",
            "  |  |  |  |  |then if pages =< 441.0: \n",
            "  |  |  |  |  |  |then female\n",
            "  |  |  |  |  |  |else male\n",
            "  |  |  |  |  |else if num_ratings =< 913.0: \n",
            "  |  |  |  |  |  |then if author_rating_count =< 492.5: \n",
            "  |  |  |  |  |  |  |then if book_average_rating =< 4.134999990463257: \n",
            "  |  |  |  |  |  |  |  |then female\n",
            "  |  |  |  |  |  |  |  |else male\n",
            "  |  |  |  |  |  |  |else male\n",
            "  |  |  |  |  |  |else if book_average_rating =< 4.184999942779541: \n",
            "  |  |  |  |  |  |  |then if num_reviews =< 130.5: \n",
            "  |  |  |  |  |  |  |  |then male\n",
            "  |  |  |  |  |  |  |  |else female\n",
            "  |  |  |  |  |  |  |else female\n",
            "  |  |  |  |else if book_average_rating =< 4.875: \n",
            "  |  |  |  |  |then if num_ratings =< 23.5: \n",
            "  |  |  |  |  |  |then if num_ratings =< 13.5: \n",
            "  |  |  |  |  |  |  |then male\n",
            "  |  |  |  |  |  |  |else if num_reviews =< 3.5: \n",
            "  |  |  |  |  |  |  |  |then male\n",
            "  |  |  |  |  |  |  |  |else female\n",
            "  |  |  |  |  |  |else male\n",
            "  |  |  |  |  |else female\n",
            "  |  |  |else if book_average_rating =< 4.204999923706055: \n",
            "  |  |  |  |then if num_reviews =< 43.0: \n",
            "  |  |  |  |  |then male\n",
            "  |  |  |  |  |else if author_review_count =< 1384.0: \n",
            "  |  |  |  |  |  |then female\n",
            "  |  |  |  |  |  |else if pages =< 249.0: \n",
            "  |  |  |  |  |  |  |then male\n",
            "  |  |  |  |  |  |  |else if author_rating_count =< 12005.0: \n",
            "  |  |  |  |  |  |  |  |then male\n",
            "  |  |  |  |  |  |  |  |else female\n",
            "  |  |  |  |else if author_review_count =< 11887.0: \n",
            "  |  |  |  |  |then if num_ratings =< 256.0: \n",
            "  |  |  |  |  |  |then female\n",
            "  |  |  |  |  |  |else if book_average_rating =< 4.365000009536743: \n",
            "  |  |  |  |  |  |  |then if num_ratings =< 1219.0: \n",
            "  |  |  |  |  |  |  |  |then if num_ratings =< 787.0: \n",
            "  |  |  |  |  |  |  |  |  |then female\n",
            "  |  |  |  |  |  |  |  |  |else male\n",
            "  |  |  |  |  |  |  |  |else female\n",
            "  |  |  |  |  |  |  |else if author_review_count =< 2998.5: \n",
            "  |  |  |  |  |  |  |  |then male\n",
            "  |  |  |  |  |  |  |  |else female\n",
            "  |  |  |  |  |else male\n",
            "  |  |else if pages =< 496.5: \n",
            "  |  |  |then if pages =< 176.0: \n",
            "  |  |  |  |then if num_reviews =< 460.5: \n",
            "  |  |  |  |  |then if num_reviews =< 407.0: \n",
            "  |  |  |  |  |  |then male\n",
            "  |  |  |  |  |  |else female\n",
            "  |  |  |  |  |else male\n",
            "  |  |  |  |else if pages =< 186.5: \n",
            "  |  |  |  |  |then female\n",
            "  |  |  |  |  |else if author_review_count =< 5807.0: \n",
            "  |  |  |  |  |  |then if num_reviews =< 81.5: \n",
            "  |  |  |  |  |  |  |then female\n",
            "  |  |  |  |  |  |  |else if num_ratings =< 11880.5: \n",
            "  |  |  |  |  |  |  |  |then if book_average_rating =< 4.394999980926514: \n",
            "  |  |  |  |  |  |  |  |  |then if author_review_count =< 4233.0: \n",
            "  |  |  |  |  |  |  |  |  |  |then male\n",
            "  |  |  |  |  |  |  |  |  |  |else if author_average_rating =< 4.125: \n",
            "  |  |  |  |  |  |  |  |  |  |  |then female\n",
            "  |  |  |  |  |  |  |  |  |  |  |else male\n",
            "  |  |  |  |  |  |  |  |  |else if pages =< 271.5: \n",
            "  |  |  |  |  |  |  |  |  |  |then male\n",
            "  |  |  |  |  |  |  |  |  |  |else female\n",
            "  |  |  |  |  |  |  |  |else if author_review_count =< 988.5: \n",
            "  |  |  |  |  |  |  |  |  |then female\n",
            "  |  |  |  |  |  |  |  |  |else if num_ratings =< 18876.0: \n",
            "  |  |  |  |  |  |  |  |  |  |then if pages =< 348.5: \n",
            "  |  |  |  |  |  |  |  |  |  |  |then if book_average_rating =< 4.115000009536743: \n",
            "  |  |  |  |  |  |  |  |  |  |  |  |then male\n",
            "  |  |  |  |  |  |  |  |  |  |  |  |else if author_average_rating =< 4.454999923706055: \n",
            "  |  |  |  |  |  |  |  |  |  |  |  |  |then female\n",
            "  |  |  |  |  |  |  |  |  |  |  |  |  |else male\n",
            "  |  |  |  |  |  |  |  |  |  |  |else male\n",
            "  |  |  |  |  |  |  |  |  |  |else male\n",
            "  |  |  |  |  |  |else if author_rating_count =< 259045.0: \n",
            "  |  |  |  |  |  |  |then if book_average_rating =< 4.429999828338623: \n",
            "  |  |  |  |  |  |  |  |then if author_rating_count =< 63921.0: \n",
            "  |  |  |  |  |  |  |  |  |then male\n",
            "  |  |  |  |  |  |  |  |  |else if pages =< 379.0: \n",
            "  |  |  |  |  |  |  |  |  |  |then female\n",
            "  |  |  |  |  |  |  |  |  |  |else if pages =< 402.5: \n",
            "  |  |  |  |  |  |  |  |  |  |  |then male\n",
            "  |  |  |  |  |  |  |  |  |  |  |else female\n",
            "  |  |  |  |  |  |  |  |else male\n",
            "  |  |  |  |  |  |  |else if author_review_count =< 47452.5: \n",
            "  |  |  |  |  |  |  |  |then if author_review_count =< 8445.0: \n",
            "  |  |  |  |  |  |  |  |  |then female\n",
            "  |  |  |  |  |  |  |  |  |else male\n",
            "  |  |  |  |  |  |  |  |else if pages =< 292.0: \n",
            "  |  |  |  |  |  |  |  |  |then female\n",
            "  |  |  |  |  |  |  |  |  |else male\n",
            "  |  |  |else if author_rating_count =< 226931.0: \n",
            "  |  |  |  |then if pages =< 915.0: \n",
            "  |  |  |  |  |then male\n",
            "  |  |  |  |  |else if pages =< 964.0: \n",
            "  |  |  |  |  |  |then female\n",
            "  |  |  |  |  |  |else male\n",
            "  |  |  |  |else if author_rating_count =< 255916.0: \n",
            "  |  |  |  |  |then female\n",
            "  |  |  |  |  |else if book_average_rating =< 4.414999961853027: \n",
            "  |  |  |  |  |  |then male\n",
            "  |  |  |  |  |  |else female\n",
            "<---------------------------------------------------------------------->\n",
            "Tree Depth:  24\n"
          ],
          "name": "stdout"
        }
      ]
    },
    {
      "cell_type": "markdown",
      "metadata": {
        "id": "F4m-j8AV0LGD"
      },
      "source": [
        "### 2.4 Authors within U.S. max depth"
      ]
    },
    {
      "cell_type": "markdown",
      "metadata": {
        "id": "DiQgsr2D0YH-"
      },
      "source": [
        "The max depth for the grid search over the authors born inside the U.S. was needed. A decision tree without a max depth specified was used to find the max range.\n",
        "The max tree depth is 22, so the range for the grid search is (1, 23)."
      ]
    },
    {
      "cell_type": "code",
      "metadata": {
        "colab": {
          "base_uri": "https://localhost:8080/"
        },
        "id": "VMKaWgd0u83B",
        "outputId": "c8847a54-0a00-461e-d4f7-c94f96ae5cf0"
      },
      "source": [
        "# get data\n",
        "X  = df4.drop(['author_gender', 'author_name', 'book_title', 'birthplace', 'genre_1', 'genre_2'], axis = 1)\n",
        "y = df4['author_gender']\n",
        "\n",
        "# build and train model\n",
        "model = DecisionTreeClassifier(max_depth= None, random_state=1)\n",
        "model.fit(X, y)\n",
        "\n",
        "# print tree without limit on max depth to get range\n",
        "tree_print(model, X)"
      ],
      "execution_count": null,
      "outputs": [
        {
          "output_type": "stream",
          "text": [
            "if num_ratings =< 40063.0: \n",
            "  |then if author_review_count =< 899.0: \n",
            "  |  |then if author_average_rating =< 3.6350001096725464: \n",
            "  |  |  |then if author_average_rating =< 3.534999966621399: \n",
            "  |  |  |  |then if author_rating_count =< 1598.0: \n",
            "  |  |  |  |  |then if num_reviews =< 119.0: \n",
            "  |  |  |  |  |  |then male\n",
            "  |  |  |  |  |  |else if author_review_count =< 177.0: \n",
            "  |  |  |  |  |  |  |then female\n",
            "  |  |  |  |  |  |  |else male\n",
            "  |  |  |  |  |else if author_review_count =< 395.0: \n",
            "  |  |  |  |  |  |then female\n",
            "  |  |  |  |  |  |else if book_average_rating =< 3.659999966621399: \n",
            "  |  |  |  |  |  |  |then if book_average_rating =< 3.1350001096725464: \n",
            "  |  |  |  |  |  |  |  |then female\n",
            "  |  |  |  |  |  |  |  |else male\n",
            "  |  |  |  |  |  |  |else female\n",
            "  |  |  |  |else male\n",
            "  |  |  |else if author_rating_count =< 5093.5: \n",
            "  |  |  |  |then if author_review_count =< 361.5: \n",
            "  |  |  |  |  |then if num_reviews =< 73.0: \n",
            "  |  |  |  |  |  |then if num_reviews =< 56.5: \n",
            "  |  |  |  |  |  |  |then if num_ratings =< 453.5: \n",
            "  |  |  |  |  |  |  |  |then if author_rating_count =< 19.5: \n",
            "  |  |  |  |  |  |  |  |  |then female\n",
            "  |  |  |  |  |  |  |  |  |else if pages =< 24.5: \n",
            "  |  |  |  |  |  |  |  |  |  |then female\n",
            "  |  |  |  |  |  |  |  |  |  |else if num_reviews =< 12.5: \n",
            "  |  |  |  |  |  |  |  |  |  |  |then if num_reviews =< 4.5: \n",
            "  |  |  |  |  |  |  |  |  |  |  |  |then if pages =< 301.5: \n",
            "  |  |  |  |  |  |  |  |  |  |  |  |  |then if author_review_count =< 8.0: \n",
            "  |  |  |  |  |  |  |  |  |  |  |  |  |  |then male\n",
            "  |  |  |  |  |  |  |  |  |  |  |  |  |  |else female\n",
            "  |  |  |  |  |  |  |  |  |  |  |  |  |else male\n",
            "  |  |  |  |  |  |  |  |  |  |  |  |else male\n",
            "  |  |  |  |  |  |  |  |  |  |  |else if num_ratings =< 48.0: \n",
            "  |  |  |  |  |  |  |  |  |  |  |  |then if book_average_rating =< 4.139999866485596: \n",
            "  |  |  |  |  |  |  |  |  |  |  |  |  |then female\n",
            "  |  |  |  |  |  |  |  |  |  |  |  |  |else if book_average_rating =< 4.2799999713897705: \n",
            "  |  |  |  |  |  |  |  |  |  |  |  |  |  |then male\n",
            "  |  |  |  |  |  |  |  |  |  |  |  |  |  |else if num_ratings =< 23.0: \n",
            "  |  |  |  |  |  |  |  |  |  |  |  |  |  |  |then male\n",
            "  |  |  |  |  |  |  |  |  |  |  |  |  |  |  |else female\n",
            "  |  |  |  |  |  |  |  |  |  |  |  |else if book_average_rating =< 3.975000023841858: \n",
            "  |  |  |  |  |  |  |  |  |  |  |  |  |then if book_average_rating =< 3.6450001001358032: \n",
            "  |  |  |  |  |  |  |  |  |  |  |  |  |  |then if author_rating_count =< 134.5: \n",
            "  |  |  |  |  |  |  |  |  |  |  |  |  |  |  |then male\n",
            "  |  |  |  |  |  |  |  |  |  |  |  |  |  |  |else if num_reviews =< 42.0: \n",
            "  |  |  |  |  |  |  |  |  |  |  |  |  |  |  |  |then female\n",
            "  |  |  |  |  |  |  |  |  |  |  |  |  |  |  |  |else male\n",
            "  |  |  |  |  |  |  |  |  |  |  |  |  |  |else if author_rating_count =< 162.5: \n",
            "  |  |  |  |  |  |  |  |  |  |  |  |  |  |  |then if author_rating_count =< 149.5: \n",
            "  |  |  |  |  |  |  |  |  |  |  |  |  |  |  |  |then if pages =< 277.0: \n",
            "  |  |  |  |  |  |  |  |  |  |  |  |  |  |  |  |  |then female\n",
            "  |  |  |  |  |  |  |  |  |  |  |  |  |  |  |  |  |else male\n",
            "  |  |  |  |  |  |  |  |  |  |  |  |  |  |  |  |else female\n",
            "  |  |  |  |  |  |  |  |  |  |  |  |  |  |  |else male\n",
            "  |  |  |  |  |  |  |  |  |  |  |  |  |else if author_average_rating =< 4.0299999713897705: \n",
            "  |  |  |  |  |  |  |  |  |  |  |  |  |  |then if author_rating_count =< 1053.5: \n",
            "  |  |  |  |  |  |  |  |  |  |  |  |  |  |  |then female\n",
            "  |  |  |  |  |  |  |  |  |  |  |  |  |  |  |else male\n",
            "  |  |  |  |  |  |  |  |  |  |  |  |  |  |else if num_ratings =< 111.5: \n",
            "  |  |  |  |  |  |  |  |  |  |  |  |  |  |  |then if num_reviews =< 31.5: \n",
            "  |  |  |  |  |  |  |  |  |  |  |  |  |  |  |  |then if author_rating_count =< 74.0: \n",
            "  |  |  |  |  |  |  |  |  |  |  |  |  |  |  |  |  |then male\n",
            "  |  |  |  |  |  |  |  |  |  |  |  |  |  |  |  |  |else if pages =< 79.5: \n",
            "  |  |  |  |  |  |  |  |  |  |  |  |  |  |  |  |  |  |then male\n",
            "  |  |  |  |  |  |  |  |  |  |  |  |  |  |  |  |  |  |else female\n",
            "  |  |  |  |  |  |  |  |  |  |  |  |  |  |  |  |else male\n",
            "  |  |  |  |  |  |  |  |  |  |  |  |  |  |  |else male\n",
            "  |  |  |  |  |  |  |  |else female\n",
            "  |  |  |  |  |  |  |else male\n",
            "  |  |  |  |  |  |else if pages =< 241.5: \n",
            "  |  |  |  |  |  |  |then if author_average_rating =< 4.06000018119812: \n",
            "  |  |  |  |  |  |  |  |then male\n",
            "  |  |  |  |  |  |  |  |else female\n",
            "  |  |  |  |  |  |  |else if num_reviews =< 196.5: \n",
            "  |  |  |  |  |  |  |  |then if num_ratings =< 204.0: \n",
            "  |  |  |  |  |  |  |  |  |then if author_average_rating =< 4.509999990463257: \n",
            "  |  |  |  |  |  |  |  |  |  |then male\n",
            "  |  |  |  |  |  |  |  |  |  |else female\n",
            "  |  |  |  |  |  |  |  |  |else if author_rating_count =< 725.0: \n",
            "  |  |  |  |  |  |  |  |  |  |then if num_ratings =< 462.5: \n",
            "  |  |  |  |  |  |  |  |  |  |  |then female\n",
            "  |  |  |  |  |  |  |  |  |  |  |else male\n",
            "  |  |  |  |  |  |  |  |  |  |else female\n",
            "  |  |  |  |  |  |  |  |else if pages =< 379.5: \n",
            "  |  |  |  |  |  |  |  |  |then if num_reviews =< 235.5: \n",
            "  |  |  |  |  |  |  |  |  |  |then male\n",
            "  |  |  |  |  |  |  |  |  |  |else female\n",
            "  |  |  |  |  |  |  |  |  |else male\n",
            "  |  |  |  |  |else if pages =< 429.5: \n",
            "  |  |  |  |  |  |then if num_reviews =< 65.5: \n",
            "  |  |  |  |  |  |  |then female\n",
            "  |  |  |  |  |  |  |else if num_ratings =< 442.0: \n",
            "  |  |  |  |  |  |  |  |then if book_average_rating =< 3.7100000381469727: \n",
            "  |  |  |  |  |  |  |  |  |then female\n",
            "  |  |  |  |  |  |  |  |  |else if author_review_count =< 802.5: \n",
            "  |  |  |  |  |  |  |  |  |  |then male\n",
            "  |  |  |  |  |  |  |  |  |  |else female\n",
            "  |  |  |  |  |  |  |  |else if num_reviews =< 215.5: \n",
            "  |  |  |  |  |  |  |  |  |then female\n",
            "  |  |  |  |  |  |  |  |  |else if num_reviews =< 255.0: \n",
            "  |  |  |  |  |  |  |  |  |  |then male\n",
            "  |  |  |  |  |  |  |  |  |  |else if author_average_rating =< 3.7350000143051147: \n",
            "  |  |  |  |  |  |  |  |  |  |  |then if book_average_rating =< 3.665000081062317: \n",
            "  |  |  |  |  |  |  |  |  |  |  |  |then female\n",
            "  |  |  |  |  |  |  |  |  |  |  |  |else male\n",
            "  |  |  |  |  |  |  |  |  |  |  |else female\n",
            "  |  |  |  |  |  |else male\n",
            "  |  |  |  |else if pages =< 263.5: \n",
            "  |  |  |  |  |then if author_average_rating =< 3.784999966621399: \n",
            "  |  |  |  |  |  |then male\n",
            "  |  |  |  |  |  |else if author_rating_count =< 10234.5: \n",
            "  |  |  |  |  |  |  |then if author_rating_count =< 6484.5: \n",
            "  |  |  |  |  |  |  |  |then if num_ratings =< 3834.5: \n",
            "  |  |  |  |  |  |  |  |  |then male\n",
            "  |  |  |  |  |  |  |  |  |else female\n",
            "  |  |  |  |  |  |  |  |else female\n",
            "  |  |  |  |  |  |  |else male\n",
            "  |  |  |  |  |else if author_average_rating =< 3.740000009536743: \n",
            "  |  |  |  |  |  |then if pages =< 386.0: \n",
            "  |  |  |  |  |  |  |then female\n",
            "  |  |  |  |  |  |  |else male\n",
            "  |  |  |  |  |  |else if author_average_rating =< 4.204999923706055: \n",
            "  |  |  |  |  |  |  |then if author_review_count =< 677.5: \n",
            "  |  |  |  |  |  |  |  |then male\n",
            "  |  |  |  |  |  |  |  |else if author_review_count =< 699.0: \n",
            "  |  |  |  |  |  |  |  |  |then female\n",
            "  |  |  |  |  |  |  |  |  |else if book_average_rating =< 3.9250000715255737: \n",
            "  |  |  |  |  |  |  |  |  |  |then if author_rating_count =< 6684.0: \n",
            "  |  |  |  |  |  |  |  |  |  |  |then female\n",
            "  |  |  |  |  |  |  |  |  |  |  |else male\n",
            "  |  |  |  |  |  |  |  |  |  |else male\n",
            "  |  |  |  |  |  |  |else if book_average_rating =< 4.269999980926514: \n",
            "  |  |  |  |  |  |  |  |then female\n",
            "  |  |  |  |  |  |  |  |else if num_ratings =< 1382.0: \n",
            "  |  |  |  |  |  |  |  |  |then female\n",
            "  |  |  |  |  |  |  |  |  |else male\n",
            "  |  |else if pages =< 571.5: \n",
            "  |  |  |then if num_ratings =< 2277.5: \n",
            "  |  |  |  |then if book_average_rating =< 3.6450001001358032: \n",
            "  |  |  |  |  |then if num_ratings =< 1815.0: \n",
            "  |  |  |  |  |  |then if author_review_count =< 9578.5: \n",
            "  |  |  |  |  |  |  |then if author_rating_count =< 4314.0: \n",
            "  |  |  |  |  |  |  |  |then female\n",
            "  |  |  |  |  |  |  |  |else if num_ratings =< 173.5: \n",
            "  |  |  |  |  |  |  |  |  |then if num_reviews =< 22.0: \n",
            "  |  |  |  |  |  |  |  |  |  |then male\n",
            "  |  |  |  |  |  |  |  |  |  |else female\n",
            "  |  |  |  |  |  |  |  |  |else if author_review_count =< 3520.5: \n",
            "  |  |  |  |  |  |  |  |  |  |then male\n",
            "  |  |  |  |  |  |  |  |  |  |else female\n",
            "  |  |  |  |  |  |  |else female\n",
            "  |  |  |  |  |  |else female\n",
            "  |  |  |  |  |else if author_review_count =< 941.5: \n",
            "  |  |  |  |  |  |then male\n",
            "  |  |  |  |  |  |else if author_rating_count =< 439535.0: \n",
            "  |  |  |  |  |  |  |then if author_review_count =< 5915.0: \n",
            "  |  |  |  |  |  |  |  |then if author_rating_count =< 69550.5: \n",
            "  |  |  |  |  |  |  |  |  |then if num_ratings =< 2023.0: \n",
            "  |  |  |  |  |  |  |  |  |  |then if author_average_rating =< 4.009999990463257: \n",
            "  |  |  |  |  |  |  |  |  |  |  |then if num_reviews =< 332.0: \n",
            "  |  |  |  |  |  |  |  |  |  |  |  |then if author_rating_count =< 5197.0: \n",
            "  |  |  |  |  |  |  |  |  |  |  |  |  |then male\n",
            "  |  |  |  |  |  |  |  |  |  |  |  |  |else if author_review_count =< 3603.5: \n",
            "  |  |  |  |  |  |  |  |  |  |  |  |  |  |then if author_rating_count =< 16855.5: \n",
            "  |  |  |  |  |  |  |  |  |  |  |  |  |  |  |then if author_rating_count =< 15332.0: \n",
            "  |  |  |  |  |  |  |  |  |  |  |  |  |  |  |  |then if author_average_rating =< 3.90500009059906: \n",
            "  |  |  |  |  |  |  |  |  |  |  |  |  |  |  |  |  |then if book_average_rating =< 3.8950001001358032: \n",
            "  |  |  |  |  |  |  |  |  |  |  |  |  |  |  |  |  |  |then if author_average_rating =< 3.8149999380111694: \n",
            "  |  |  |  |  |  |  |  |  |  |  |  |  |  |  |  |  |  |  |then female\n",
            "  |  |  |  |  |  |  |  |  |  |  |  |  |  |  |  |  |  |  |else if num_ratings =< 1077.5: \n",
            "  |  |  |  |  |  |  |  |  |  |  |  |  |  |  |  |  |  |  |  |then female\n",
            "  |  |  |  |  |  |  |  |  |  |  |  |  |  |  |  |  |  |  |  |else male\n",
            "  |  |  |  |  |  |  |  |  |  |  |  |  |  |  |  |  |  |else if num_reviews =< 156.0: \n",
            "  |  |  |  |  |  |  |  |  |  |  |  |  |  |  |  |  |  |  |then male\n",
            "  |  |  |  |  |  |  |  |  |  |  |  |  |  |  |  |  |  |  |else female\n",
            "  |  |  |  |  |  |  |  |  |  |  |  |  |  |  |  |  |else female\n",
            "  |  |  |  |  |  |  |  |  |  |  |  |  |  |  |  |else male\n",
            "  |  |  |  |  |  |  |  |  |  |  |  |  |  |  |else female\n",
            "  |  |  |  |  |  |  |  |  |  |  |  |  |  |else if num_reviews =< 228.0: \n",
            "  |  |  |  |  |  |  |  |  |  |  |  |  |  |  |then male\n",
            "  |  |  |  |  |  |  |  |  |  |  |  |  |  |  |else female\n",
            "  |  |  |  |  |  |  |  |  |  |  |  |else male\n",
            "  |  |  |  |  |  |  |  |  |  |  |else if author_review_count =< 2592.5: \n",
            "  |  |  |  |  |  |  |  |  |  |  |  |then if author_review_count =< 2164.5: \n",
            "  |  |  |  |  |  |  |  |  |  |  |  |  |then if author_rating_count =< 10181.5: \n",
            "  |  |  |  |  |  |  |  |  |  |  |  |  |  |then female\n",
            "  |  |  |  |  |  |  |  |  |  |  |  |  |  |else if num_reviews =< 102.0: \n",
            "  |  |  |  |  |  |  |  |  |  |  |  |  |  |  |then female\n",
            "  |  |  |  |  |  |  |  |  |  |  |  |  |  |  |else if book_average_rating =< 3.9850001335144043: \n",
            "  |  |  |  |  |  |  |  |  |  |  |  |  |  |  |  |then female\n",
            "  |  |  |  |  |  |  |  |  |  |  |  |  |  |  |  |else male\n",
            "  |  |  |  |  |  |  |  |  |  |  |  |  |else if num_ratings =< 734.5: \n",
            "  |  |  |  |  |  |  |  |  |  |  |  |  |  |then female\n",
            "  |  |  |  |  |  |  |  |  |  |  |  |  |  |else male\n",
            "  |  |  |  |  |  |  |  |  |  |  |  |else female\n",
            "  |  |  |  |  |  |  |  |  |  |else if num_ratings =< 2198.5: \n",
            "  |  |  |  |  |  |  |  |  |  |  |then male\n",
            "  |  |  |  |  |  |  |  |  |  |  |else female\n",
            "  |  |  |  |  |  |  |  |  |else male\n",
            "  |  |  |  |  |  |  |  |else female\n",
            "  |  |  |  |  |  |  |else male\n",
            "  |  |  |  |else if pages =< 246.5: \n",
            "  |  |  |  |  |then if num_reviews =< 1890.5: \n",
            "  |  |  |  |  |  |then if num_reviews =< 1521.5: \n",
            "  |  |  |  |  |  |  |then if author_review_count =< 3657.0: \n",
            "  |  |  |  |  |  |  |  |then if pages =< 171.0: \n",
            "  |  |  |  |  |  |  |  |  |then if num_ratings =< 10076.5: \n",
            "  |  |  |  |  |  |  |  |  |  |then if book_average_rating =< 3.700000047683716: \n",
            "  |  |  |  |  |  |  |  |  |  |  |then male\n",
            "  |  |  |  |  |  |  |  |  |  |  |else female\n",
            "  |  |  |  |  |  |  |  |  |  |else if pages =< 70.5: \n",
            "  |  |  |  |  |  |  |  |  |  |  |then female\n",
            "  |  |  |  |  |  |  |  |  |  |  |else male\n",
            "  |  |  |  |  |  |  |  |  |else if author_average_rating =< 3.774999976158142: \n",
            "  |  |  |  |  |  |  |  |  |  |then if author_review_count =< 1217.5: \n",
            "  |  |  |  |  |  |  |  |  |  |  |then male\n",
            "  |  |  |  |  |  |  |  |  |  |  |else if num_reviews =< 1143.5: \n",
            "  |  |  |  |  |  |  |  |  |  |  |  |then if book_average_rating =< 3.7899999618530273: \n",
            "  |  |  |  |  |  |  |  |  |  |  |  |  |then female\n",
            "  |  |  |  |  |  |  |  |  |  |  |  |  |else male\n",
            "  |  |  |  |  |  |  |  |  |  |  |  |else male\n",
            "  |  |  |  |  |  |  |  |  |  |else if num_reviews =< 302.5: \n",
            "  |  |  |  |  |  |  |  |  |  |  |then if pages =< 216.5: \n",
            "  |  |  |  |  |  |  |  |  |  |  |  |then female\n",
            "  |  |  |  |  |  |  |  |  |  |  |  |else male\n",
            "  |  |  |  |  |  |  |  |  |  |  |else male\n",
            "  |  |  |  |  |  |  |  |else if author_rating_count =< 150249.0: \n",
            "  |  |  |  |  |  |  |  |  |then if num_ratings =< 4200.0: \n",
            "  |  |  |  |  |  |  |  |  |  |then if author_review_count =< 9402.5: \n",
            "  |  |  |  |  |  |  |  |  |  |  |then male\n",
            "  |  |  |  |  |  |  |  |  |  |  |else female\n",
            "  |  |  |  |  |  |  |  |  |  |else if author_average_rating =< 4.375: \n",
            "  |  |  |  |  |  |  |  |  |  |  |then if author_review_count =< 5327.0: \n",
            "  |  |  |  |  |  |  |  |  |  |  |  |then if author_rating_count =< 72451.0: \n",
            "  |  |  |  |  |  |  |  |  |  |  |  |  |then female\n",
            "  |  |  |  |  |  |  |  |  |  |  |  |  |else male\n",
            "  |  |  |  |  |  |  |  |  |  |  |  |else female\n",
            "  |  |  |  |  |  |  |  |  |  |  |else male\n",
            "  |  |  |  |  |  |  |  |  |else if author_rating_count =< 382011.5: \n",
            "  |  |  |  |  |  |  |  |  |  |then if num_ratings =< 16296.5: \n",
            "  |  |  |  |  |  |  |  |  |  |  |then male\n",
            "  |  |  |  |  |  |  |  |  |  |  |else female\n",
            "  |  |  |  |  |  |  |  |  |  |else if author_average_rating =< 4.204999923706055: \n",
            "  |  |  |  |  |  |  |  |  |  |  |then female\n",
            "  |  |  |  |  |  |  |  |  |  |  |else male\n",
            "  |  |  |  |  |  |  |else male\n",
            "  |  |  |  |  |  |else if num_reviews =< 3186.0: \n",
            "  |  |  |  |  |  |  |then female\n",
            "  |  |  |  |  |  |  |else if book_average_rating =< 3.569999933242798: \n",
            "  |  |  |  |  |  |  |  |then female\n",
            "  |  |  |  |  |  |  |  |else male\n",
            "  |  |  |  |  |else if author_average_rating =< 4.2850000858306885: \n",
            "  |  |  |  |  |  |then if author_review_count =< 1083.0: \n",
            "  |  |  |  |  |  |  |then if pages =< 434.0: \n",
            "  |  |  |  |  |  |  |  |then female\n",
            "  |  |  |  |  |  |  |  |else male\n",
            "  |  |  |  |  |  |  |else if num_reviews =< 281.0: \n",
            "  |  |  |  |  |  |  |  |then if author_review_count =< 7181.5: \n",
            "  |  |  |  |  |  |  |  |  |then if author_average_rating =< 3.7450000047683716: \n",
            "  |  |  |  |  |  |  |  |  |  |then female\n",
            "  |  |  |  |  |  |  |  |  |  |else if pages =< 520.0: \n",
            "  |  |  |  |  |  |  |  |  |  |  |then if book_average_rating =< 4.259999990463257: \n",
            "  |  |  |  |  |  |  |  |  |  |  |  |then if pages =< 280.0: \n",
            "  |  |  |  |  |  |  |  |  |  |  |  |  |then if author_rating_count =< 58281.5: \n",
            "  |  |  |  |  |  |  |  |  |  |  |  |  |  |then female\n",
            "  |  |  |  |  |  |  |  |  |  |  |  |  |  |else male\n",
            "  |  |  |  |  |  |  |  |  |  |  |  |  |else male\n",
            "  |  |  |  |  |  |  |  |  |  |  |  |else female\n",
            "  |  |  |  |  |  |  |  |  |  |  |else female\n",
            "  |  |  |  |  |  |  |  |  |else if pages =< 335.0: \n",
            "  |  |  |  |  |  |  |  |  |  |then if num_reviews =< 238.0: \n",
            "  |  |  |  |  |  |  |  |  |  |  |then male\n",
            "  |  |  |  |  |  |  |  |  |  |  |else female\n",
            "  |  |  |  |  |  |  |  |  |  |else female\n",
            "  |  |  |  |  |  |  |  |else if num_ratings =< 12294.0: \n",
            "  |  |  |  |  |  |  |  |  |then if pages =< 444.5: \n",
            "  |  |  |  |  |  |  |  |  |  |then if pages =< 371.0: \n",
            "  |  |  |  |  |  |  |  |  |  |  |then if author_average_rating =< 3.9450000524520874: \n",
            "  |  |  |  |  |  |  |  |  |  |  |  |then if book_average_rating =< 3.6750000715255737: \n",
            "  |  |  |  |  |  |  |  |  |  |  |  |  |then if book_average_rating =< 3.5749999284744263: \n",
            "  |  |  |  |  |  |  |  |  |  |  |  |  |  |then if book_average_rating =< 3.274999976158142: \n",
            "  |  |  |  |  |  |  |  |  |  |  |  |  |  |  |then male\n",
            "  |  |  |  |  |  |  |  |  |  |  |  |  |  |  |else if num_reviews =< 562.0: \n",
            "  |  |  |  |  |  |  |  |  |  |  |  |  |  |  |  |then if num_reviews =< 560.5: \n",
            "  |  |  |  |  |  |  |  |  |  |  |  |  |  |  |  |  |then female\n",
            "  |  |  |  |  |  |  |  |  |  |  |  |  |  |  |  |  |else male\n",
            "  |  |  |  |  |  |  |  |  |  |  |  |  |  |  |  |else female\n",
            "  |  |  |  |  |  |  |  |  |  |  |  |  |  |else if author_rating_count =< 14741.0: \n",
            "  |  |  |  |  |  |  |  |  |  |  |  |  |  |  |then female\n",
            "  |  |  |  |  |  |  |  |  |  |  |  |  |  |  |else male\n",
            "  |  |  |  |  |  |  |  |  |  |  |  |  |else if num_ratings =< 2586.5: \n",
            "  |  |  |  |  |  |  |  |  |  |  |  |  |  |then male\n",
            "  |  |  |  |  |  |  |  |  |  |  |  |  |  |else if pages =< 300.0: \n",
            "  |  |  |  |  |  |  |  |  |  |  |  |  |  |  |then female\n",
            "  |  |  |  |  |  |  |  |  |  |  |  |  |  |  |else if author_average_rating =< 3.7949999570846558: \n",
            "  |  |  |  |  |  |  |  |  |  |  |  |  |  |  |  |then if author_average_rating =< 3.7699999809265137: \n",
            "  |  |  |  |  |  |  |  |  |  |  |  |  |  |  |  |  |then female\n",
            "  |  |  |  |  |  |  |  |  |  |  |  |  |  |  |  |  |else male\n",
            "  |  |  |  |  |  |  |  |  |  |  |  |  |  |  |  |else if num_ratings =< 4117.0: \n",
            "  |  |  |  |  |  |  |  |  |  |  |  |  |  |  |  |  |then if num_ratings =< 3447.5: \n",
            "  |  |  |  |  |  |  |  |  |  |  |  |  |  |  |  |  |  |then female\n",
            "  |  |  |  |  |  |  |  |  |  |  |  |  |  |  |  |  |  |else male\n",
            "  |  |  |  |  |  |  |  |  |  |  |  |  |  |  |  |  |else if num_ratings =< 8856.0: \n",
            "  |  |  |  |  |  |  |  |  |  |  |  |  |  |  |  |  |  |then female\n",
            "  |  |  |  |  |  |  |  |  |  |  |  |  |  |  |  |  |  |else if num_ratings =< 9205.5: \n",
            "  |  |  |  |  |  |  |  |  |  |  |  |  |  |  |  |  |  |  |then male\n",
            "  |  |  |  |  |  |  |  |  |  |  |  |  |  |  |  |  |  |  |else female\n",
            "  |  |  |  |  |  |  |  |  |  |  |  |else if author_review_count =< 1562.0: \n",
            "  |  |  |  |  |  |  |  |  |  |  |  |  |then male\n",
            "  |  |  |  |  |  |  |  |  |  |  |  |  |else if num_reviews =< 361.5: \n",
            "  |  |  |  |  |  |  |  |  |  |  |  |  |  |then female\n",
            "  |  |  |  |  |  |  |  |  |  |  |  |  |  |else if book_average_rating =< 4.244999885559082: \n",
            "  |  |  |  |  |  |  |  |  |  |  |  |  |  |  |then if book_average_rating =< 3.6750000715255737: \n",
            "  |  |  |  |  |  |  |  |  |  |  |  |  |  |  |  |then female\n",
            "  |  |  |  |  |  |  |  |  |  |  |  |  |  |  |  |else if pages =< 255.5: \n",
            "  |  |  |  |  |  |  |  |  |  |  |  |  |  |  |  |  |then female\n",
            "  |  |  |  |  |  |  |  |  |  |  |  |  |  |  |  |  |else if author_review_count =< 2981.5: \n",
            "  |  |  |  |  |  |  |  |  |  |  |  |  |  |  |  |  |  |then if pages =< 315.0: \n",
            "  |  |  |  |  |  |  |  |  |  |  |  |  |  |  |  |  |  |  |then if author_review_count =< 2063.5: \n",
            "  |  |  |  |  |  |  |  |  |  |  |  |  |  |  |  |  |  |  |  |then male\n",
            "  |  |  |  |  |  |  |  |  |  |  |  |  |  |  |  |  |  |  |  |else female\n",
            "  |  |  |  |  |  |  |  |  |  |  |  |  |  |  |  |  |  |  |else female\n",
            "  |  |  |  |  |  |  |  |  |  |  |  |  |  |  |  |  |  |else if num_reviews =< 685.5: \n",
            "  |  |  |  |  |  |  |  |  |  |  |  |  |  |  |  |  |  |  |then if author_rating_count =< 105803.0: \n",
            "  |  |  |  |  |  |  |  |  |  |  |  |  |  |  |  |  |  |  |  |then if author_rating_count =< 48546.5: \n",
            "  |  |  |  |  |  |  |  |  |  |  |  |  |  |  |  |  |  |  |  |  |then if num_ratings =< 4086.0: \n",
            "  |  |  |  |  |  |  |  |  |  |  |  |  |  |  |  |  |  |  |  |  |  |then male\n",
            "  |  |  |  |  |  |  |  |  |  |  |  |  |  |  |  |  |  |  |  |  |  |else female\n",
            "  |  |  |  |  |  |  |  |  |  |  |  |  |  |  |  |  |  |  |  |  |else male\n",
            "  |  |  |  |  |  |  |  |  |  |  |  |  |  |  |  |  |  |  |  |else female\n",
            "  |  |  |  |  |  |  |  |  |  |  |  |  |  |  |  |  |  |  |else if book_average_rating =< 4.21999979019165: \n",
            "  |  |  |  |  |  |  |  |  |  |  |  |  |  |  |  |  |  |  |  |then male\n",
            "  |  |  |  |  |  |  |  |  |  |  |  |  |  |  |  |  |  |  |  |else if num_reviews =< 784.5: \n",
            "  |  |  |  |  |  |  |  |  |  |  |  |  |  |  |  |  |  |  |  |  |then male\n",
            "  |  |  |  |  |  |  |  |  |  |  |  |  |  |  |  |  |  |  |  |  |else female\n",
            "  |  |  |  |  |  |  |  |  |  |  |  |  |  |  |else female\n",
            "  |  |  |  |  |  |  |  |  |  |  |else if author_review_count =< 3138.5: \n",
            "  |  |  |  |  |  |  |  |  |  |  |  |then if author_rating_count =< 14650.5: \n",
            "  |  |  |  |  |  |  |  |  |  |  |  |  |then female\n",
            "  |  |  |  |  |  |  |  |  |  |  |  |  |else if num_reviews =< 447.0: \n",
            "  |  |  |  |  |  |  |  |  |  |  |  |  |  |then female\n",
            "  |  |  |  |  |  |  |  |  |  |  |  |  |  |else male\n",
            "  |  |  |  |  |  |  |  |  |  |  |  |else if author_rating_count =< 266180.5: \n",
            "  |  |  |  |  |  |  |  |  |  |  |  |  |then female\n",
            "  |  |  |  |  |  |  |  |  |  |  |  |  |else if pages =< 381.0: \n",
            "  |  |  |  |  |  |  |  |  |  |  |  |  |  |then female\n",
            "  |  |  |  |  |  |  |  |  |  |  |  |  |  |else male\n",
            "  |  |  |  |  |  |  |  |  |  |else if num_ratings =< 8443.0: \n",
            "  |  |  |  |  |  |  |  |  |  |  |then male\n",
            "  |  |  |  |  |  |  |  |  |  |  |else if num_ratings =< 9882.0: \n",
            "  |  |  |  |  |  |  |  |  |  |  |  |then female\n",
            "  |  |  |  |  |  |  |  |  |  |  |  |else male\n",
            "  |  |  |  |  |  |  |  |  |else if pages =< 433.0: \n",
            "  |  |  |  |  |  |  |  |  |  |then if author_average_rating =< 4.2099997997283936: \n",
            "  |  |  |  |  |  |  |  |  |  |  |then if num_reviews =< 2892.5: \n",
            "  |  |  |  |  |  |  |  |  |  |  |  |then if author_rating_count =< 62384.5: \n",
            "  |  |  |  |  |  |  |  |  |  |  |  |  |then if num_ratings =< 12610.5: \n",
            "  |  |  |  |  |  |  |  |  |  |  |  |  |  |then male\n",
            "  |  |  |  |  |  |  |  |  |  |  |  |  |  |else if book_average_rating =< 4.069999933242798: \n",
            "  |  |  |  |  |  |  |  |  |  |  |  |  |  |  |then if num_reviews =< 2386.0: \n",
            "  |  |  |  |  |  |  |  |  |  |  |  |  |  |  |  |then if author_review_count =< 2428.5: \n",
            "  |  |  |  |  |  |  |  |  |  |  |  |  |  |  |  |  |then if author_review_count =< 1533.0: \n",
            "  |  |  |  |  |  |  |  |  |  |  |  |  |  |  |  |  |  |then if author_review_count =< 1383.5: \n",
            "  |  |  |  |  |  |  |  |  |  |  |  |  |  |  |  |  |  |  |then male\n",
            "  |  |  |  |  |  |  |  |  |  |  |  |  |  |  |  |  |  |  |else female\n",
            "  |  |  |  |  |  |  |  |  |  |  |  |  |  |  |  |  |  |else male\n",
            "  |  |  |  |  |  |  |  |  |  |  |  |  |  |  |  |  |else if author_average_rating =< 3.450000047683716: \n",
            "  |  |  |  |  |  |  |  |  |  |  |  |  |  |  |  |  |  |then male\n",
            "  |  |  |  |  |  |  |  |  |  |  |  |  |  |  |  |  |  |else if num_ratings =< 33916.5: \n",
            "  |  |  |  |  |  |  |  |  |  |  |  |  |  |  |  |  |  |  |then female\n",
            "  |  |  |  |  |  |  |  |  |  |  |  |  |  |  |  |  |  |  |else male\n",
            "  |  |  |  |  |  |  |  |  |  |  |  |  |  |  |  |else male\n",
            "  |  |  |  |  |  |  |  |  |  |  |  |  |  |  |else male\n",
            "  |  |  |  |  |  |  |  |  |  |  |  |  |else if book_average_rating =< 4.164999961853027: \n",
            "  |  |  |  |  |  |  |  |  |  |  |  |  |  |then if author_review_count =< 74922.5: \n",
            "  |  |  |  |  |  |  |  |  |  |  |  |  |  |  |then if num_ratings =< 35547.5: \n",
            "  |  |  |  |  |  |  |  |  |  |  |  |  |  |  |  |then male\n",
            "  |  |  |  |  |  |  |  |  |  |  |  |  |  |  |  |else if num_reviews =< 1969.5: \n",
            "  |  |  |  |  |  |  |  |  |  |  |  |  |  |  |  |  |then female\n",
            "  |  |  |  |  |  |  |  |  |  |  |  |  |  |  |  |  |else male\n",
            "  |  |  |  |  |  |  |  |  |  |  |  |  |  |  |else female\n",
            "  |  |  |  |  |  |  |  |  |  |  |  |  |  |else female\n",
            "  |  |  |  |  |  |  |  |  |  |  |  |else if author_review_count =< 22471.5: \n",
            "  |  |  |  |  |  |  |  |  |  |  |  |  |then if num_reviews =< 5449.0: \n",
            "  |  |  |  |  |  |  |  |  |  |  |  |  |  |then if author_review_count =< 4237.5: \n",
            "  |  |  |  |  |  |  |  |  |  |  |  |  |  |  |then if author_average_rating =< 3.9299999475479126: \n",
            "  |  |  |  |  |  |  |  |  |  |  |  |  |  |  |  |then male\n",
            "  |  |  |  |  |  |  |  |  |  |  |  |  |  |  |  |else female\n",
            "  |  |  |  |  |  |  |  |  |  |  |  |  |  |  |else if num_ratings =< 35660.5: \n",
            "  |  |  |  |  |  |  |  |  |  |  |  |  |  |  |  |then female\n",
            "  |  |  |  |  |  |  |  |  |  |  |  |  |  |  |  |else if num_ratings =< 37468.5: \n",
            "  |  |  |  |  |  |  |  |  |  |  |  |  |  |  |  |  |then male\n",
            "  |  |  |  |  |  |  |  |  |  |  |  |  |  |  |  |  |else female\n",
            "  |  |  |  |  |  |  |  |  |  |  |  |  |  |else male\n",
            "  |  |  |  |  |  |  |  |  |  |  |  |  |else male\n",
            "  |  |  |  |  |  |  |  |  |  |  |else if num_reviews =< 572.5: \n",
            "  |  |  |  |  |  |  |  |  |  |  |  |then male\n",
            "  |  |  |  |  |  |  |  |  |  |  |  |else female\n",
            "  |  |  |  |  |  |  |  |  |  |else if num_ratings =< 18257.5: \n",
            "  |  |  |  |  |  |  |  |  |  |  |then if pages =< 485.0: \n",
            "  |  |  |  |  |  |  |  |  |  |  |  |then female\n",
            "  |  |  |  |  |  |  |  |  |  |  |  |else male\n",
            "  |  |  |  |  |  |  |  |  |  |  |else female\n",
            "  |  |  |  |  |  |else if num_reviews =< 1578.0: \n",
            "  |  |  |  |  |  |  |then male\n",
            "  |  |  |  |  |  |  |else female\n",
            "  |  |  |else if book_average_rating =< 4.109999895095825: \n",
            "  |  |  |  |then male\n",
            "  |  |  |  |else if book_average_rating =< 4.140000104904175: \n",
            "  |  |  |  |  |then female\n",
            "  |  |  |  |  |else if num_ratings =< 2083.5: \n",
            "  |  |  |  |  |  |then female\n",
            "  |  |  |  |  |  |else if author_average_rating =< 4.169999837875366: \n",
            "  |  |  |  |  |  |  |then if num_reviews =< 266.0: \n",
            "  |  |  |  |  |  |  |  |then male\n",
            "  |  |  |  |  |  |  |  |else if num_reviews =< 662.5: \n",
            "  |  |  |  |  |  |  |  |  |then female\n",
            "  |  |  |  |  |  |  |  |  |else if author_average_rating =< 4.1549999713897705: \n",
            "  |  |  |  |  |  |  |  |  |  |then male\n",
            "  |  |  |  |  |  |  |  |  |  |else female\n",
            "  |  |  |  |  |  |  |else male\n",
            "  |else if author_review_count =< 16688.0: \n",
            "  |  |then if pages =< 212.5: \n",
            "  |  |  |then if author_rating_count =< 175557.5: \n",
            "  |  |  |  |then if author_average_rating =< 3.8499999046325684: \n",
            "  |  |  |  |  |then male\n",
            "  |  |  |  |  |else if author_average_rating =< 4.210000038146973: \n",
            "  |  |  |  |  |  |then if author_rating_count =< 58990.5: \n",
            "  |  |  |  |  |  |  |then if author_review_count =< 3867.5: \n",
            "  |  |  |  |  |  |  |  |then male\n",
            "  |  |  |  |  |  |  |  |else female\n",
            "  |  |  |  |  |  |  |else female\n",
            "  |  |  |  |  |  |else male\n",
            "  |  |  |  |else if author_rating_count =< 363343.5: \n",
            "  |  |  |  |  |then male\n",
            "  |  |  |  |  |else female\n",
            "  |  |  |else if author_rating_count =< 47570.0: \n",
            "  |  |  |  |then female\n",
            "  |  |  |  |else if author_review_count =< 13024.5: \n",
            "  |  |  |  |  |then if num_ratings =< 445402.0: \n",
            "  |  |  |  |  |  |then if author_average_rating =< 3.6750000715255737: \n",
            "  |  |  |  |  |  |  |then if pages =< 308.0: \n",
            "  |  |  |  |  |  |  |  |then male\n",
            "  |  |  |  |  |  |  |  |else female\n",
            "  |  |  |  |  |  |  |else if num_ratings =< 45834.5: \n",
            "  |  |  |  |  |  |  |  |then if num_ratings =< 44440.0: \n",
            "  |  |  |  |  |  |  |  |  |then male\n",
            "  |  |  |  |  |  |  |  |  |else female\n",
            "  |  |  |  |  |  |  |  |else male\n",
            "  |  |  |  |  |  |else if book_average_rating =< 3.9950000047683716: \n",
            "  |  |  |  |  |  |  |then female\n",
            "  |  |  |  |  |  |  |else male\n",
            "  |  |  |  |  |else if author_rating_count =< 191123.5: \n",
            "  |  |  |  |  |  |then if num_ratings =< 45788.5: \n",
            "  |  |  |  |  |  |  |then male\n",
            "  |  |  |  |  |  |  |else female\n",
            "  |  |  |  |  |  |else if author_review_count =< 13599.5: \n",
            "  |  |  |  |  |  |  |then female\n",
            "  |  |  |  |  |  |  |else male\n",
            "  |  |else if author_average_rating =< 3.9550000429153442: \n",
            "  |  |  |then if pages =< 325.5: \n",
            "  |  |  |  |then if pages =< 281.5: \n",
            "  |  |  |  |  |then if num_ratings =< 112158.0: \n",
            "  |  |  |  |  |  |then female\n",
            "  |  |  |  |  |  |else if author_average_rating =< 3.799999952316284: \n",
            "  |  |  |  |  |  |  |then female\n",
            "  |  |  |  |  |  |  |else male\n",
            "  |  |  |  |  |else female\n",
            "  |  |  |  |else if author_rating_count =< 1295582.0: \n",
            "  |  |  |  |  |then if pages =< 340.5: \n",
            "  |  |  |  |  |  |then male\n",
            "  |  |  |  |  |  |else if book_average_rating =< 3.5850000381469727: \n",
            "  |  |  |  |  |  |  |then if pages =< 384.5: \n",
            "  |  |  |  |  |  |  |  |then female\n",
            "  |  |  |  |  |  |  |  |else male\n",
            "  |  |  |  |  |  |  |else female\n",
            "  |  |  |  |  |else if pages =< 353.0: \n",
            "  |  |  |  |  |  |then if pages =< 331.0: \n",
            "  |  |  |  |  |  |  |then male\n",
            "  |  |  |  |  |  |  |else female\n",
            "  |  |  |  |  |  |else male\n",
            "  |  |  |else if author_average_rating =< 4.129999876022339: \n",
            "  |  |  |  |then if num_reviews =< 2087.5: \n",
            "  |  |  |  |  |then female\n",
            "  |  |  |  |  |else if num_reviews =< 59463.5: \n",
            "  |  |  |  |  |  |then if num_ratings =< 998154.0: \n",
            "  |  |  |  |  |  |  |then if num_reviews =< 43187.5: \n",
            "  |  |  |  |  |  |  |  |then if pages =< 194.5: \n",
            "  |  |  |  |  |  |  |  |  |then if pages =< 179.0: \n",
            "  |  |  |  |  |  |  |  |  |  |then male\n",
            "  |  |  |  |  |  |  |  |  |  |else female\n",
            "  |  |  |  |  |  |  |  |  |else male\n",
            "  |  |  |  |  |  |  |  |else if book_average_rating =< 4.0000001192092896: \n",
            "  |  |  |  |  |  |  |  |  |then male\n",
            "  |  |  |  |  |  |  |  |  |else female\n",
            "  |  |  |  |  |  |  |else if num_ratings =< 1278033.0: \n",
            "  |  |  |  |  |  |  |  |then female\n",
            "  |  |  |  |  |  |  |  |else male\n",
            "  |  |  |  |  |  |else female\n",
            "  |  |  |  |else if pages =< 262.0: \n",
            "  |  |  |  |  |then male\n",
            "  |  |  |  |  |else if pages =< 358.5: \n",
            "  |  |  |  |  |  |then female\n",
            "  |  |  |  |  |  |else if num_ratings =< 157961.0: \n",
            "  |  |  |  |  |  |  |then if author_review_count =< 38408.5: \n",
            "  |  |  |  |  |  |  |  |then if pages =< 482.5: \n",
            "  |  |  |  |  |  |  |  |  |then female\n",
            "  |  |  |  |  |  |  |  |  |else male\n",
            "  |  |  |  |  |  |  |  |else female\n",
            "  |  |  |  |  |  |  |else male\n",
            "<---------------------------------------------------------------->\n",
            "Tree Depth:  22\n"
          ],
          "name": "stdout"
        }
      ]
    },
    {
      "cell_type": "markdown",
      "metadata": {
        "id": "w3S4AHhmS4N6"
      },
      "source": [
        "## ANN Grid Search"
      ]
    },
    {
      "cell_type": "markdown",
      "metadata": {
        "id": "RIBrnBe_6KZR"
      },
      "source": [
        "### 3.1 ANN with \"relu\""
      ]
    },
    {
      "cell_type": "code",
      "metadata": {
        "id": "xm6DDxK90q8u",
        "colab": {
          "base_uri": "https://localhost:8080/"
        },
        "outputId": "6c1d6024-2298-4e77-9ee6-aae2286fcd17"
      },
      "source": [
        "# neural network\n",
        "# NOTE: a good rule of thumb for MLP starting point:\n",
        "# a) 1 hidden layer\n",
        "# b) the number of nodes in hidden layer: no_node = 2 * no_independents_vars\n",
        "# 2 * 7 = 14\n",
        "ANN_model = MLPClassifier(hidden_layer_sizes=(14,), activation='relu', max_iter=1000, random_state=1)\n",
        "\n",
        "# train and test the model\n",
        "train_X, test_X, train_y, test_y = train_test_split(X, y, train_size=0.8, test_size=0.2, random_state=3)\n",
        "ANN_model.fit(train_X, train_y)\n",
        "ANN_predict_y = ANN_model.predict(X)\n",
        "\n",
        "# accuracy score\n",
        "ANN_acc = accuracy_score(y, ANN_predict_y)\n",
        "ANN_lb, ANN_ub = classification_confint(ANN_acc, test_X.shape[0])\n",
        "print(\"Accuracy: {:3.2f} ({:3.2f}, {:3.2f})\".format(ANN_acc, ANN_lb, ANN_ub))\n",
        "print(\"\")\n",
        "\n",
        "# build the confusion matrix\n",
        "labels = ['male', 'female']\n",
        "ANN_cm = confusion_matrix(y, ANN_predict_y, labels=labels)\n",
        "ANN_cm_df = pd.DataFrame(ANN_cm, index=labels, columns=labels)\n",
        "print(\"Confusion Matrix:\\n{}\".format(ANN_cm_df))"
      ],
      "execution_count": null,
      "outputs": [
        {
          "output_type": "stream",
          "text": [
            "Accuracy: 0.62 (0.56, 0.69)\n",
            "\n",
            "Confusion Matrix:\n",
            "        male  female\n",
            "male     405     167\n",
            "female   232     253\n"
          ],
          "name": "stdout"
        },
        {
          "output_type": "stream",
          "text": [
            "/usr/local/lib/python3.7/dist-packages/sklearn/neural_network/_multilayer_perceptron.py:571: ConvergenceWarning: Stochastic Optimizer: Maximum iterations (1000) reached and the optimization hasn't converged yet.\n",
            "  % self.max_iter, ConvergenceWarning)\n"
          ],
          "name": "stderr"
        }
      ]
    },
    {
      "cell_type": "markdown",
      "metadata": {
        "id": "fIatbmRh1sRT"
      },
      "source": [
        "With \"**relu**\" as the activation, there is a slightly higher accuracy score (57%) compared to **tanh** but the confidence intervals mostly overlap, so it is not statistically significant. It is important to note that when comparing the confusion matrices, the number of **female** authors are categorized more accurately with \"**relu**\" than \"**tanh**\". Both activation types still lean towards categorizing authors as **male**, regardless of their actual gender."
      ]
    },
    {
      "cell_type": "markdown",
      "metadata": {
        "id": "YkutSZya6Q1-"
      },
      "source": [
        "### 3.2 ANN grid search"
      ]
    },
    {
      "cell_type": "markdown",
      "metadata": {
        "id": "R_fSpTaNTA_L"
      },
      "source": [
        "Below is the code from the ANN grid search. The code is purposefully provided as text to avoid accidentally running it."
      ]
    },
    {
      "cell_type": "markdown",
      "metadata": {
        "id": "bP7Z_ESSXNva"
      },
      "source": [
        "\n",
        "\n",
        "```\n",
        "# neural network\n",
        "MLP_model = MLPClassifier(max_iter=10000, random_state=1)\n",
        "\n",
        "# grid search\n",
        "# 7 independent variables * 2 = 14 nodes\n",
        "MLP_param_grid = {'hidden_layer_sizes': [ (7,), (14,), (28,),\n",
        "                                      (7,7), (7,14), (7,28),\n",
        "                                      (14,7), (14,14), (14,28),\n",
        "                                      (28,7), (28,14), (28,28)\n",
        "                                      ],\n",
        "                                      'activation' : ['logistic','tanh','relu']\n",
        "             }\n",
        "MLP_grid = GridSearchCV(MLP_model, MLP_param_grid, cv=5)\n",
        "MLP_grid.fit(X, actual_y)\n",
        "print(\"Grid Search: best parameters: {}\".format(MLP_grid.best_params_))\n",
        "\n",
        "# evaluate the best model\n",
        "MLP_best_model = MLP_grid.best_estimator_\n",
        "MLP_predict_y = MLP_best_model.predict(X)\n",
        "MLP_acc = accuracy_score(actual_y, MLP_predict_y)\n",
        "MLP_lb,MLP_ub = classification_confint(MLP_acc,X.shape[0])\n",
        "print(\"Accuracy: {:3.2f} ({:3.2f},{:3.2f})\".format(MLP_acc,MLP_lb,MLP_ub))\n",
        "\n",
        "# build the confusion matrix\n",
        "labels = ['male', 'female']\n",
        "MLP_cm = confusion_matrix(actual_y, MLP_predict_y, labels=labels)\n",
        "MLP_cm_df = pd.DataFrame(MLP_cm, index=labels, columns=labels)\n",
        "print(\"Confusion Matrix:\\n{}\".format(MLP_cm_df))\n",
        "```\n",
        "\n"
      ]
    }
  ]
}