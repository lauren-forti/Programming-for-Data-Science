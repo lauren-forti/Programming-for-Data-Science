{
  "nbformat": 4,
  "nbformat_minor": 0,
  "metadata": {
    "kernelspec": {
      "display_name": "Python 3",
      "language": "python",
      "name": "python3"
    },
    "language_info": {
      "codemirror_mode": {
        "name": "ipython",
        "version": 3
      },
      "file_extension": ".py",
      "mimetype": "text/x-python",
      "name": "python",
      "nbconvert_exporter": "python",
      "pygments_lexer": "ipython3",
      "version": "3.7.6"
    },
    "colab": {
      "provenance": [],
      "include_colab_link": true
    }
  },
  "cells": [
    {
      "cell_type": "markdown",
      "metadata": {
        "id": "view-in-github",
        "colab_type": "text"
      },
      "source": [
        "<a href=\"https://colab.research.google.com/github/lauren-forti/Programming-for-Data-Science/blob/main/forti_assignment6.ipynb\" target=\"_parent\"><img src=\"https://colab.research.google.com/assets/colab-badge.svg\" alt=\"Open In Colab\"/></a>"
      ]
    },
    {
      "cell_type": "markdown",
      "metadata": {
        "id": "g-4FIJj5tAPR"
      },
      "source": [
        "# **Assignment #6**\n",
        "## DSP 310\n",
        "## Lauren Forti"
      ]
    },
    {
      "cell_type": "code",
      "metadata": {
        "id": "nhTrKNOnBJWo",
        "colab": {
          "base_uri": "https://localhost:8080/"
        },
        "outputId": "3eec934e-3189-4888-a84a-bc045dc811c8"
      },
      "source": [
        "# preamble to be able to run notebooks in Jupyter and Colab\n",
        "try:\n",
        "    from google.colab import drive\n",
        "    import sys\n",
        "    \n",
        "    drive.mount('/content/drive')\n",
        "    notes_home = \"/content/drive/Shared drives/CSC310/notes/\"\n",
        "    user_home = \"/content/drive/My Drive/\"\n",
        "    \n",
        "    sys.path.insert(1,notes_home) # let the notebook access the notes folder\n",
        "\n",
        "    !pip install PyMySQL\n",
        "\n",
        "except ModuleNotFoundError:\n",
        "    notes_home = \"\" # running native Jupyter environment -- notes home is the same as the notebook\n",
        "    user_home = \"\"  # under Jupyter we assume the user directory is the same as the notebook"
      ],
      "execution_count": null,
      "outputs": [
        {
          "output_type": "stream",
          "text": [
            "Mounted at /content/drive\n",
            "Collecting PyMySQL\n",
            "\u001b[?25l  Downloading https://files.pythonhosted.org/packages/4f/52/a115fe175028b058df353c5a3d5290b71514a83f67078a6482cff24d6137/PyMySQL-1.0.2-py3-none-any.whl (43kB)\n",
            "\u001b[K     |████████████████████████████████| 51kB 3.2MB/s \n",
            "\u001b[?25hInstalling collected packages: PyMySQL\n",
            "Successfully installed PyMySQL-1.0.2\n"
          ],
          "name": "stdout"
        }
      ]
    },
    {
      "cell_type": "code",
      "metadata": {
        "id": "aIZUriUHBJYW"
      },
      "source": [
        "# our database credentials\n",
        "host = 'testdb.cwy05wfzuxbv.us-east-1.rds.amazonaws.com'\n",
        "database = 'world'\n",
        "user = 'csc310'\n",
        "password = 'csc310$is$fun'"
      ],
      "execution_count": null,
      "outputs": []
    },
    {
      "cell_type": "markdown",
      "metadata": {
        "id": "kTahVlUXff5W"
      },
      "source": [
        "# Database schema\n",
        "\n",
        "<img src=\"https://static.packt-cdn.com/products/9781788390415/graphics/cac1f609-1c45-46d7-b066-d9481ceddf18.png\">\n",
        "\n"
      ]
    },
    {
      "cell_type": "markdown",
      "metadata": {
        "id": "_I7jZ2I8cr0v"
      },
      "source": [
        "# Assignment"
      ]
    },
    {
      "cell_type": "markdown",
      "metadata": {
        "id": "aSzHBAOPE3zW"
      },
      "source": [
        "## 1. What is the name of the country with country code 'ZAF'?"
      ]
    },
    {
      "cell_type": "code",
      "metadata": {
        "id": "FV82MjAT4-pR",
        "colab": {
          "base_uri": "https://localhost:8080/"
        },
        "outputId": "60ace279-6e7f-4666-cb9b-311aa29f7889"
      },
      "source": [
        "# query city table\n",
        "# if the following import fails try: conda install -c anaconda pymysql\n",
        "import pymysql as sql\n",
        "import pandas as pd\n",
        "\n",
        "# Open database connection to our test database\n",
        "db = sql.connect(host=host, \n",
        "                 user=user, \n",
        "                 password=password, \n",
        "                 database=database)\n",
        "\n",
        "# get data using a pandas dataframe\n",
        "sql_string = \\\n",
        "'''\n",
        "SELECT\n",
        "      name as Name,\n",
        "      code as CountryCode\n",
        "FROM\n",
        "      country\n",
        "WHERE\n",
        "      code = 'ZAF'\n",
        "'''\n",
        "\n",
        "data = pd.read_sql(sql_string, con=db) \n",
        "print(data)\n",
        "\n",
        "# disconnect from server\n",
        "db.close()"
      ],
      "execution_count": null,
      "outputs": [
        {
          "output_type": "stream",
          "text": [
            "           Name CountryCode\n",
            "0  South Africa         ZAF\n"
          ],
          "name": "stdout"
        }
      ]
    },
    {
      "cell_type": "markdown",
      "metadata": {
        "id": "pQ7f17kZXnId"
      },
      "source": [
        "The country with the country code \"ZAF\" is **South Africa**."
      ]
    },
    {
      "cell_type": "markdown",
      "metadata": {
        "id": "fFMr3gYZE8AT"
      },
      "source": [
        "## 2. How many cities are there in the US with less than 100,000 residents according to the world db? (hint: use count and also conditions can be combined with boolean operators such as 'and'/'or')"
      ]
    },
    {
      "cell_type": "code",
      "metadata": {
        "colab": {
          "base_uri": "https://localhost:8080/"
        },
        "id": "H2RP1pCXE7TM",
        "outputId": "412c0bf4-a04b-4a8a-94ea-e48929b4747b"
      },
      "source": [
        "# Open database connection to our test database\n",
        "db = sql.connect(host=host, \n",
        "                 user=user, \n",
        "                 password=password, \n",
        "                 database=database)\n",
        "\n",
        "# get data using a pandas dataframe\n",
        "sql_string = \\\n",
        "'''\n",
        "SELECT \n",
        "    COUNT(city.name) as Number\n",
        "FROM \n",
        "    city \n",
        "JOIN \n",
        "    country \n",
        "ON \n",
        "    city.countrycode = country.code\n",
        "WHERE\n",
        "    city.population < 100000\n",
        "AND\n",
        "    country.name = 'United States'\n",
        "'''\n",
        "\n",
        "data = pd.read_sql(sql_string, con=db) \n",
        "print(data)\n",
        "\n",
        "# disconnect from server\n",
        "db.close()"
      ],
      "execution_count": null,
      "outputs": [
        {
          "output_type": "stream",
          "text": [
            "   Number\n",
            "0      29\n"
          ],
          "name": "stdout"
        }
      ]
    },
    {
      "cell_type": "markdown",
      "metadata": {
        "id": "PC_Tr96FX18e"
      },
      "source": [
        "There are **29** cities in the US with less than 100,000 residents according to the database."
      ]
    },
    {
      "cell_type": "markdown",
      "metadata": {
        "id": "bsP2chBkJO9K"
      },
      "source": [
        "## 3. How many different languages are there in the db?"
      ]
    },
    {
      "cell_type": "code",
      "metadata": {
        "colab": {
          "base_uri": "https://localhost:8080/"
        },
        "id": "nJ9cyiSeJOKW",
        "outputId": "39a16005-8504-4646-fca4-0feedbd9bac2"
      },
      "source": [
        "# Open database connection to our test database\n",
        "db = sql.connect(host=host, \n",
        "                 user=user, \n",
        "                 password=password, \n",
        "                 database=database)\n",
        "\n",
        "# get data using a pandas dataframe\n",
        "sql_string = \\\n",
        "'''\n",
        "SELECT \n",
        "    COUNT(DISTINCT language) as Number\n",
        "FROM \n",
        "    countrylanguage\n",
        "'''\n",
        "data = pd.read_sql(sql_string, con=db) \n",
        "print(data)\n",
        "\n",
        "# disconnect from server\n",
        "db.close()"
      ],
      "execution_count": null,
      "outputs": [
        {
          "output_type": "stream",
          "text": [
            "   Number\n",
            "0     457\n"
          ],
          "name": "stdout"
        }
      ]
    },
    {
      "cell_type": "markdown",
      "metadata": {
        "id": "HmrRcFTPYOrT"
      },
      "source": [
        "There are **457** languages in the database."
      ]
    },
    {
      "cell_type": "markdown",
      "metadata": {
        "id": "5f2w_CdEQaiu"
      },
      "source": [
        "## 4. In which countries, according the db, is English the official language\n",
        "### Bonus: Print the actual country names not just the country codes!"
      ]
    },
    {
      "cell_type": "code",
      "metadata": {
        "colab": {
          "base_uri": "https://localhost:8080/"
        },
        "id": "w7C1ss-cQtsC",
        "outputId": "1b386776-3e23-45eb-f919-7bbdd1f4f56f"
      },
      "source": [
        "# Open database connection to our test database\n",
        "db = sql.connect(host=host, \n",
        "                 user=user, \n",
        "                 password=password, \n",
        "                 database=database)\n",
        "\n",
        "# get data using a pandas dataframe\n",
        "sql_string = \\\n",
        "'''\n",
        "SELECT\n",
        "    code as CountryCode,\n",
        "    name as CountryName,\n",
        "    language as Language,\n",
        "    isofficial as Official\n",
        "FROM \n",
        "    country \n",
        "JOIN \n",
        "    countrylanguage\n",
        "ON \n",
        "    countrylanguage.countrycode = country.code\n",
        "WHERE\n",
        "    language = 'English'\n",
        "AND\n",
        "    isofficial = 'T'\n",
        "'''\n",
        "\n",
        "data = pd.read_sql(sql_string, con=db) \n",
        "\n",
        "print(data)\n",
        "print('')\n",
        "\n",
        "# print out country names and codes\n",
        "print('Countries where English is the Official Language:')\n",
        "print('--------------------------------------------------')\n",
        "country_data = data['CountryName'] + ' (' + data['CountryCode'] + ')'\n",
        "for item in country_data:\n",
        "  print(item, end = ', ')\n",
        "\n",
        "# disconnect from server\n",
        "db.close()"
      ],
      "execution_count": null,
      "outputs": [
        {
          "output_type": "stream",
          "text": [
            "   CountryCode                           CountryName Language Official\n",
            "0          AIA                              Anguilla  English        T\n",
            "1          ASM                        American Samoa  English        T\n",
            "2          ATG                   Antigua and Barbuda  English        T\n",
            "3          AUS                             Australia  English        T\n",
            "4          BLZ                                Belize  English        T\n",
            "5          BMU                               Bermuda  English        T\n",
            "6          BRB                              Barbados  English        T\n",
            "7          CAN                                Canada  English        T\n",
            "8          CCK               Cocos (Keeling) Islands  English        T\n",
            "9          CXR                      Christmas Island  English        T\n",
            "10         CYM                        Cayman Islands  English        T\n",
            "11         FLK                      Falkland Islands  English        T\n",
            "12         GBR                        United Kingdom  English        T\n",
            "13         GIB                             Gibraltar  English        T\n",
            "14         GUM                                  Guam  English        T\n",
            "15         HKG                             Hong Kong  English        T\n",
            "16         IRL                               Ireland  English        T\n",
            "17         KNA                 Saint Kitts and Nevis  English        T\n",
            "18         LCA                           Saint Lucia  English        T\n",
            "19         LSO                               Lesotho  English        T\n",
            "20         MHL                      Marshall Islands  English        T\n",
            "21         MLT                                 Malta  English        T\n",
            "22         MNP              Northern Mariana Islands  English        T\n",
            "23         MSR                            Montserrat  English        T\n",
            "24         NFK                        Norfolk Island  English        T\n",
            "25         NIU                                  Niue  English        T\n",
            "26         NRU                                 Nauru  English        T\n",
            "27         NZL                           New Zealand  English        T\n",
            "28         PLW                                 Palau  English        T\n",
            "29         SHN                          Saint Helena  English        T\n",
            "30         SYC                            Seychelles  English        T\n",
            "31         TCA              Turks and Caicos Islands  English        T\n",
            "32         TKL                               Tokelau  English        T\n",
            "33         TON                                 Tonga  English        T\n",
            "34         TUV                                Tuvalu  English        T\n",
            "35         UMI  United States Minor Outlying Islands  English        T\n",
            "36         USA                         United States  English        T\n",
            "37         VCT      Saint Vincent and the Grenadines  English        T\n",
            "38         VGB               Virgin Islands, British  English        T\n",
            "39         VIR                  Virgin Islands, U.S.  English        T\n",
            "40         VUT                               Vanuatu  English        T\n",
            "41         WSM                                 Samoa  English        T\n",
            "42         ZAF                          South Africa  English        T\n",
            "43         ZWE                              Zimbabwe  English        T\n",
            "\n",
            "Countries where English is the Official Language:\n",
            "--------------------------------------------------\n",
            "Anguilla (AIA), American Samoa (ASM), Antigua and Barbuda (ATG), Australia (AUS), Belize (BLZ), Bermuda (BMU), Barbados (BRB), Canada (CAN), Cocos (Keeling) Islands (CCK), Christmas Island (CXR), Cayman Islands (CYM), Falkland Islands (FLK), United Kingdom (GBR), Gibraltar (GIB), Guam (GUM), Hong Kong (HKG), Ireland (IRL), Saint Kitts and Nevis (KNA), Saint Lucia (LCA), Lesotho (LSO), Marshall Islands (MHL), Malta (MLT), Northern Mariana Islands (MNP), Montserrat (MSR), Norfolk Island (NFK), Niue (NIU), Nauru (NRU), New Zealand (NZL), Palau (PLW), Saint Helena (SHN), Seychelles (SYC), Turks and Caicos Islands (TCA), Tokelau (TKL), Tonga (TON), Tuvalu (TUV), United States Minor Outlying Islands (UMI), United States (USA), Saint Vincent and the Grenadines (VCT), Virgin Islands, British (VGB), Virgin Islands, U.S. (VIR), Vanuatu (VUT), Samoa (WSM), South Africa (ZAF), Zimbabwe (ZWE), "
          ],
          "name": "stdout"
        }
      ]
    },
    {
      "cell_type": "markdown",
      "metadata": {
        "id": "GzpwqMbku7_G"
      },
      "source": [
        "**Countries where English is the Official Language According to the Database:**\n",
        "\n",
        "Anguilla (AIA), American Samoa (ASM), Antigua and Barbuda (ATG), Australia (AUS), Belize (BLZ), Bermuda (BMU), Barbados (BRB), Canada (CAN), Cocos (Keeling) Islands (CCK), Christmas Island (CXR), Cayman Islands (CYM), Falkland Islands (FLK), United Kingdom (GBR), Gibraltar (GIB), Guam (GUM), Hong Kong (HKG), Ireland (IRL), Saint Kitts and Nevis (KNA), Saint Lucia (LCA), Lesotho (LSO), Marshall Islands (MHL), Malta (MLT), Northern Mariana Islands (MNP), Montserrat (MSR), Norfolk Island (NFK), Niue (NIU), Nauru (NRU), New Zealand (NZL), Palau (PLW), Saint Helena (SHN), Seychelles (SYC), Turks and Caicos Islands (TCA), Tokelau (TKL), Tonga (TON), Tuvalu (TUV), United States Minor Outlying Islands (UMI), United States (USA), Saint Vincent and the Grenadines (VCT), Virgin Islands, British (VGB), Virgin Islands, U.S. (VIR), Vanuatu (VUT), Samoa (WSM), South Africa (ZAF), Zimbabwe (ZWE)"
      ]
    },
    {
      "cell_type": "markdown",
      "metadata": {
        "id": "ySYh9yqcQokG"
      },
      "source": [
        "## 5. What are the different languages spoken in Angola?"
      ]
    },
    {
      "cell_type": "code",
      "metadata": {
        "colab": {
          "base_uri": "https://localhost:8080/"
        },
        "id": "iI3_rN3fQtVH",
        "outputId": "c974456e-0778-4333-888f-eb5d4ae46bfb"
      },
      "source": [
        "# Open database connection to our test database\n",
        "db = sql.connect(host=host, \n",
        "                 user=user, \n",
        "                 password=password, \n",
        "                 database=database)\n",
        "\n",
        "# get data using a pandas dataframe\n",
        "sql_string = \\\n",
        "'''\n",
        "SELECT\n",
        "    name as CountryName,\n",
        "    countrylanguage.language as Language\n",
        "FROM \n",
        "    country \n",
        "JOIN \n",
        "    countrylanguage\n",
        "ON \n",
        "    countrylanguage.countrycode = country.code\n",
        "WHERE\n",
        "    name = 'Angola'\n",
        "'''\n",
        "\n",
        "data = pd.read_sql(sql_string, con=db) \n",
        "\n",
        "print(data)\n",
        "print('')\n",
        "for lang in data['Language']:\n",
        "  print(lang, end = ', ')\n",
        "\n",
        "# disconnect from server\n",
        "db.close()"
      ],
      "execution_count": null,
      "outputs": [
        {
          "output_type": "stream",
          "text": [
            "  CountryName          Language\n",
            "0      Angola              Ambo\n",
            "1      Angola            Chokwe\n",
            "2      Angola             Kongo\n",
            "3      Angola           Luchazi\n",
            "4      Angola  Luimbe-nganguela\n",
            "5      Angola            Luvale\n",
            "6      Angola            Mbundu\n",
            "7      Angola   Nyaneka-nkhumbi\n",
            "8      Angola         Ovimbundu\n",
            "\n",
            "Ambo, Chokwe, Kongo, Luchazi, Luimbe-nganguela, Luvale, Mbundu, Nyaneka-nkhumbi, Ovimbundu, "
          ],
          "name": "stdout"
        }
      ]
    },
    {
      "cell_type": "markdown",
      "metadata": {
        "id": "KmzDEWwXuxgP"
      },
      "source": [
        "**Different Languages in Angola:** Ambo, Chokwe, Kongo, Luchazi, Luimbe-nganguela, Luvale, Mbundu, Nyaneka-nkhumbi, and Ovimbundu."
      ]
    }
  ]
}